{
 "cells": [
  {
   "cell_type": "code",
   "execution_count": 51,
   "id": "b624da7b-0f1a-4591-b21e-f35214bf238a",
   "metadata": {},
   "outputs": [
    {
     "data": {
      "text/plain": [
       "4"
      ]
     },
     "execution_count": 51,
     "metadata": {},
     "output_type": "execute_result"
    }
   ],
   "source": [
    "import re\n",
    "import requests\n",
    "import time\n",
    "from random import randrange\n",
    "randrange(1,5)"
   ]
  },
  {
   "cell_type": "code",
   "execution_count": 66,
   "id": "bb147242-08f5-4ce3-996c-58b245ae3cec",
   "metadata": {},
   "outputs": [
    {
     "name": "stdout",
     "output_type": "stream",
     "text": [
      "get syn for acuan kerja--> after sleeping 5 secons\n"
     ]
    }
   ],
   "source": [
    "words_to_enrich=[\"acuan kerja\"]\n",
    "\n",
    "def get_synonims(q):\n",
    "    if not q:\n",
    "        return\n",
    "    myobj = {}#{'q': 'jurnal'}\n",
    "    synonim_wrap=\"rel='nofollow'>[a-zA-Z0-9\\s]+</a>\"\n",
    "    url = 'http://www.sinonimkata.com/search.php?q='+q\n",
    "    x = requests.post(url, json = myobj)\n",
    "    responds=re.findall(synonim_wrap,x.text)\n",
    "    token_wrap=\"rel='nofollow'>(.*)</a>\"\n",
    "    syn_tokens=[]\n",
    "    for token in responds:\n",
    "        t=re.findall(token_wrap,token)\n",
    "        if t:\n",
    "            syn_tokens.append(t[0])\n",
    "    print(\"get syn for {}-->{} after sleeping {} secons\".format(q,\",\".join(syn_tokens),nap_time))\n",
    "    return syn_tokens\n",
    "for w in words_to_enrich:\n",
    "    time.sleep(randrange(2,5))\n",
    "    get_synonims(w)     \n",
    "    "
   ]
  },
  {
   "cell_type": "code",
   "execution_count": 68,
   "id": "c5880368-2fd3-407d-bbdc-f145b0c686e6",
   "metadata": {},
   "outputs": [
    {
     "data": {
      "text/plain": [
       "{'tag': 'n', 'sinonim': ['keimanan', 'keyakinan', 'religiositas']}"
      ]
     },
     "execution_count": 68,
     "metadata": {},
     "output_type": "execute_result"
    }
   ],
   "source": [
    "import json\n",
    "kamus={}\n",
    "with open(\"data/dict.json\",\"r\") as fi:\n",
    "    kamus=json.load(fi)\n"
   ]
  },
  {
   "cell_type": "code",
   "execution_count": 73,
   "id": "5d971b00-7cef-4424-b4d6-fbec8b570db7",
   "metadata": {},
   "outputs": [
    {
     "data": {
      "text/plain": [
       "['mengaras',\n",
       " 'memperdayai',\n",
       " 'mengarau',\n",
       " 'menyigi',\n",
       " 'anyep',\n",
       " 'ceratai',\n",
       " 'lelaki',\n",
       " 'maklumat',\n",
       " 'reformasi',\n",
       " 'plagiator',\n",
       " 'menyumpahi',\n",
       " 'jihat',\n",
       " 'inkonsistensi',\n",
       " 'seuntai',\n",
       " 'mengarah',\n",
       " 'mengarak',\n",
       " 'tanggap',\n",
       " 'mengaram',\n",
       " 'mengerudungi',\n",
       " 'pencakar',\n",
       " 'varietas',\n",
       " 'tertuju',\n",
       " 'penapis',\n",
       " 'berbiku-biku',\n",
       " 'tuala',\n",
       " 'berwenang',\n",
       " 'jamiah',\n",
       " 'gabung',\n",
       " 'tertarik',\n",
       " 'berani',\n",
       " 'kebeningan',\n",
       " 'memafhumi',\n",
       " 'berang',\n",
       " 'berangin',\n",
       " 'gentayangan',\n",
       " 'kerlap',\n",
       " 'mengategorikan',\n",
       " 'kronologis',\n",
       " 'dagang',\n",
       " 'tumpu',\n",
       " 'berpaling',\n",
       " 'rengkeh',\n",
       " 'anak baju',\n",
       " 'verifikasi',\n",
       " 'silinder',\n",
       " 'terendam',\n",
       " 'kepatuhan',\n",
       " 'takhayul',\n",
       " 'pembelajaran',\n",
       " 'sabuk pengaman']"
      ]
     },
     "execution_count": 73,
     "metadata": {},
     "output_type": "execute_result"
    }
   ],
   "source": [
    "list(kamus.keys())[:50]"
   ]
  },
  {
   "cell_type": "code",
   "execution_count": 7,
   "id": "7cdd89b1-5a65-40d0-a986-4e1e0b1e4234",
   "metadata": {},
   "outputs": [],
   "source": [
    "respnd=\"<td width='90%'><a href='b-buku+harian' rel='nofollow'>buku harian</a>, <a\\\n",
    "href='b-kronik' rel='nofollow'>kronik</a>, <a href='b-buletin'\\\n",
    "rel='nofollow'>buletin</a>, <a href='b-harian' rel='nofollow'>harian</a>, <a\\\n",
    "href='b-koran' rel='nofollow'>koran</a>, <a href='b-surat+kabar'\\\n",
    "rel='nofollow'>surat kabar</a>, </td>\\\n",
    "</tr>\\\n",
    "</table>\\\n",
    "</div>\\\n",
    "<br/>\\\n",
    "<div style=border-top:1px solid #EEEEEE; border-bottom:1px solid #EEEEEE>\\\n",
    "<script async src=//pagead2.googlesyndication.com/pagead/js/adsbygoogle.js></script>\\\n",
    "<!-- sinonimkata-336x280 -->\\\n",
    "<ins class=adsbygoogle style=display:inline-block;width:336px;height:280px\\\n",
    "data-ad-client=ca-pub-7877803930187156 data-ad-slot=5352080416></ins>\\\n",
    "<script>\\\n",
    "(adsbygoogle = window.adsbygoogle || []).push({});\\\n",
    "</script>\""
   ]
  },
  {
   "cell_type": "code",
   "execution_count": 11,
   "id": "11886f9b-3d16-4d44-8e4f-68956d950c60",
   "metadata": {},
   "outputs": [
    {
     "data": {
      "text/plain": [
       "[\"rel='nofollow'>buku harian</a>\",\n",
       " \"rel='nofollow'>kronik</a>\",\n",
       " \"rel='nofollow'>buletin</a>\",\n",
       " \"rel='nofollow'>harian</a>\",\n",
       " \"rel='nofollow'>koran</a>\",\n",
       " \"rel='nofollow'>surat kabar</a>\"]"
      ]
     },
     "execution_count": 11,
     "metadata": {},
     "output_type": "execute_result"
    }
   ],
   "source": [
    "re.findall(\"rel='nofollow'>[a-zA-Z0-9\\s]+</a>\",respnd)"
   ]
  }
 ],
 "metadata": {
  "kernelspec": {
   "display_name": "Python [conda env:py38] *",
   "language": "python",
   "name": "conda-env-py38-py"
  },
  "language_info": {
   "codemirror_mode": {
    "name": "ipython",
    "version": 3
   },
   "file_extension": ".py",
   "mimetype": "text/x-python",
   "name": "python",
   "nbconvert_exporter": "python",
   "pygments_lexer": "ipython3",
   "version": "3.8.10"
  }
 },
 "nbformat": 4,
 "nbformat_minor": 5
}
