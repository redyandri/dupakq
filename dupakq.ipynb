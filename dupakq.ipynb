{
 "cells": [
  {
   "cell_type": "code",
   "execution_count": 217,
   "id": "e50c466f-afff-43c1-98be-22ae4b5eab65",
   "metadata": {},
   "outputs": [],
   "source": [
    "from Sastrawi.StopWordRemover.StopWordRemoverFactory import StopWordRemoverFactory,StopWordRemover,ArrayDictionary\n",
    "from Sastrawi.Stemmer.StemmerFactory import StemmerFactory \n",
    "import numpy as np #Operasi Matematika dan linear aljebra \n",
    "import pandas as pd #data processing\n",
    "import matplotlib.pyplot as plt #Visualisasi data \n",
    "%matplotlib inline\n",
    "import seaborn as sns #Visualisasi data import string\n",
    "import nltk\n",
    "# nltk.download(\"punkt\")\n",
    "from nltk.tokenize import RegexpTokenizer \n",
    "# from nltk.corpus import stopwords nltk.download('stopwords')\n",
    "from nltk.stem import PorterStemmer\n",
    "from collections import Counter\n",
    "from wordcloud import WordCloud, STOPWORDS, ImageColorGenerator\n",
    "from sklearn.feature_extraction.text import TfidfVectorizer \n",
    "import logging\n",
    "import pickle\n",
    "from sklearn.svm import SVC\n",
    "from sklearn.feature_extraction.text import CountVectorizer \n",
    "from sklearn.feature_extraction.text import TfidfTransformer \n",
    "import time\n",
    "from scipy import spatial\n",
    "import math\n",
    "from sklearn.linear_model import SGDClassifier\n",
    "from sklearn.calibration import CalibratedClassifierCV \n",
    "import heapq\n",
    "from sklearn.neighbors import KNeighborsClassifier \n",
    "from sklearn import metrics\n",
    "import re\n",
    "import requests\n",
    "import torch\n",
    "from random import randrange\n",
    "import random\n",
    "from sklearn.model_selection import train_test_split\n",
    "from sklearn.linear_model import LogisticRegression\n",
    "from sklearn.model_selection import GridSearchCV\n",
    "from sklearn.model_selection import cross_val_score\n",
    "import transformers as ppb\n",
    "import warnings\n",
    "warnings.filterwarnings('ignore')"
   ]
  },
  {
   "cell_type": "code",
   "execution_count": 142,
   "id": "e7995a48-535b-4cdb-a2a6-363beee71955",
   "metadata": {},
   "outputs": [
    {
     "name": "stdout",
     "output_type": "stream",
     "text": [
      "[NbConvertApp] Converting notebook dupakq.ipynb to script\n",
      "[NbConvertApp] Writing 3894 bytes to dupakq.py\n"
     ]
    }
   ],
   "source": [
    "# !jupyter nbconvert --to script dupakq.ipynb"
   ]
  },
  {
   "cell_type": "code",
   "execution_count": 7,
   "id": "5d4bfdeb-ef5c-4ba0-9e8f-2195970653ac",
   "metadata": {},
   "outputs": [],
   "source": [
    "pd.set_option(\"display.max_colwidth\",None)"
   ]
  },
  {
   "cell_type": "markdown",
   "id": "d73cb469-e6fb-4a9c-aeed-6a9b490489e5",
   "metadata": {},
   "source": [
    "# load data"
   ]
  },
  {
   "cell_type": "markdown",
   "id": "3a0c2989-6673-4b53-93ac-cedd9ff74acd",
   "metadata": {},
   "source": [
    "## butir penunjang"
   ]
  },
  {
   "cell_type": "code",
   "execution_count": 349,
   "id": "1de7aa65-7a2f-41bf-b41f-41ed7615ccae",
   "metadata": {},
   "outputs": [
    {
     "name": "stdout",
     "output_type": "stream",
     "text": [
      "NAN on Unnamed: 5:nan\n",
      "NAN on Unnamed: 6:nan\n",
      "NAN on Unnamed: 6:nan\n"
     ]
    }
   ],
   "source": [
    "df_penunjang=pd.read_excel(\"data/butir_penunjang.xlsx\")#,sep=\"\\t\",engine=\"python\") df21=df21[df21.IP.notna()]\n",
    "df_penunjang.reset_index(inplace=True,drop=True)\n",
    "cols=list(df_penunjang.columns)\n",
    "\n",
    "\n",
    "def replace_emptystring_with_na(row):\n",
    "    for idx,val in row.items():\n",
    "        try:\n",
    "            txt=str(val).replace(u'\\xa0',\"xa0\")#.encode('utf-8')\n",
    "            if txt==\"xa0\":\n",
    "                row[idx]=np.NaN    \n",
    "        except Exception as e:\n",
    "            print(\"{}:{}-{}\".format(idx,val,str(e)))\n",
    "        \n",
    "    return row\n",
    "df_penunjang.apply(replace_emptystring_with_na,axis=1)\n",
    "\n",
    "df_penunjang.fillna(method=\"ffill\",inplace=True)\n",
    "\n",
    "\n",
    "penunjang_activity_cols = ['kegiatan', 'Unnamed: 5','Unnamed: 6'] #['unsur', 'sub_unsur', 'kegiatan', 'Unnamed: 5','Unnamed: 6']\n",
    "penunjang_activity_code_cols = ['nomor_unsur', 'nomor_sub_unsur', 'kegiatan', 'Unnamed: 5','Unnamed: 6']\n",
    "def merge_activities(row):\n",
    "    arr=[]\n",
    "    for k,v in row.items():\n",
    "        try:\n",
    "            if len(str(v))>3:\n",
    "                arr.append(str(v))\n",
    "        except:\n",
    "            continue\n",
    "    return \".\".join(arr)\n",
    "\n",
    "def merge_activity_codes(row):\n",
    "    arr=[]\n",
    "    for k,v in row.items():\n",
    "#         print(v)\n",
    "        if (not pd.isnull(v)) and (not pd.isna(v)) and (str(v).lower()!=\"nan\"):\n",
    "            try:\n",
    "                if len(str(v))<=3:\n",
    "                    arr.append(str(v))\n",
    "            except:\n",
    "                print(\"ERROR on key {}\".format(k))\n",
    "                continue\n",
    "        else:\n",
    "            print(\"NAN on {}:{}\".format(k,v))\n",
    "    res=\".\".join(arr)\n",
    "    if \"nan\" in res:\n",
    "        print(\"row idx: {}\".format(row.index))\n",
    "    return res\n",
    "\n",
    "# df_penunjang.drop(\"activity_code\",axis=1,inplace=True)\n",
    "df_penunjang[\"activities\"]=df_penunjang[penunjang_activity_cols].apply(merge_activities,axis=1)\n",
    "df_penunjang[\"activity_code\"]=df_penunjang[penunjang_activity_code_cols].apply(merge_activity_codes,axis=1)\n",
    "\n",
    "df_penunjang_ori=pd.read_excel(\"data/butir_penunjang.xlsx\")#,sep=\"\\t\",engine=\"python\") df21=df21[df21.IP.notna()]\n",
    "for idx,row in df_penunjang_ori.iterrows():\n",
    "    df_penunjang.at[idx,\"ak\"]=df_penunjang_ori.at[idx,\"ak\"]\n",
    "    if not re.findall(\"\\d+\",str(row.ak)):\n",
    "#         df_penunjang.loc[idx]=df_penunjang_ori.loc[idx]\n",
    "        df_penunjang.at[idx,\"ak\"]=np.NaN\n",
    "    \n",
    "df_penunjang.to_csv(\"data/butir_penunjang.csv\",sep=\";\")\n",
    "\n"
   ]
  },
  {
   "cell_type": "markdown",
   "id": "a24ac7b2-07ad-4811-8648-d3cdc8f03d46",
   "metadata": {},
   "source": [
    "# sanity test"
   ]
  },
  {
   "cell_type": "code",
   "execution_count": 350,
   "id": "877ac140-fd9a-4aab-87e5-fd0c52e76ada",
   "metadata": {},
   "outputs": [
    {
     "data": {
      "text/plain": [
       "array(['IV.A', 'IV.B.1', 'IV.B.1.a', 'IV.B.1.b', 'IV.B.1.c', 'IV.B.2',\n",
       "       'IV.B.2.a', 'IV.B.2.b', 'IV.B.3', 'IV.B.3.a', 'IV.B.3.b', 'IV.B.4',\n",
       "       'IV.B.4.a', 'IV.B.4.b', 'IV.B.5', 'IV.B.6', 'IV.C.1', 'IV.C.1.a',\n",
       "       'IV.C.1.b', 'IV.C.2', 'IV.C.2.a', 'IV.C.2.b', 'IV.D.b', 'IV.E.b',\n",
       "       'IV.E.1', 'IV.E.2', 'IV.E.3', 'IV.E.3.a', 'IV.E.3.b', 'IV.E.3.c',\n",
       "       'IV.E.3.d', 'IV.E.3.e', 'IV.E.3.f', 'IV.E.3.g', 'IV.E.4',\n",
       "       'IV.E.4.a', 'IV.E.4.b', 'IV.E.4.c', 'IV.E.4.d', 'IV.E.4.e',\n",
       "       'IV.E.4.f', 'IV.E.4.g', 'IV.E.5', 'IV.F', 'IV.F.a', 'IV.F.b',\n",
       "       'IV.F.c', 'IV.F.d', 'IV.F.e', 'IV.F.f', 'IV.F.g', 'IV.F.h', 'V.A',\n",
       "       'V.B', 'V.C.1', 'V.C.1.a', 'V.C.1.b', 'V.C.1.c', 'V.C.2',\n",
       "       'V.C.2.a', 'V.C.2.b', 'V.C.2.c', 'V.D.c', 'V.D.a', 'V.D.b',\n",
       "       'V.D.d', 'V.E', 'V.E.a', 'V.E.b'], dtype=object)"
      ]
     },
     "execution_count": 350,
     "metadata": {},
     "output_type": "execute_result"
    }
   ],
   "source": [
    "df_penunjang[\"activity_code\"].unique()"
   ]
  },
  {
   "cell_type": "code",
   "execution_count": 351,
   "id": "f15c60f2-e6d8-47e5-b198-104098ba0077",
   "metadata": {},
   "outputs": [
    {
     "data": {
      "text/plain": [
       "(69, 70)"
      ]
     },
     "execution_count": 351,
     "metadata": {},
     "output_type": "execute_result"
    }
   ],
   "source": [
    "len(df_penunjang.activity_code.unique()),len(df_penunjang.activity_code)"
   ]
  },
  {
   "cell_type": "code",
   "execution_count": 352,
   "id": "a4e3fb48-5353-415a-88e2-c7d0415d25d6",
   "metadata": {},
   "outputs": [
    {
     "data": {
      "text/html": [
       "<div>\n",
       "<style scoped>\n",
       "    .dataframe tbody tr th:only-of-type {\n",
       "        vertical-align: middle;\n",
       "    }\n",
       "\n",
       "    .dataframe tbody tr th {\n",
       "        vertical-align: top;\n",
       "    }\n",
       "\n",
       "    .dataframe thead th {\n",
       "        text-align: right;\n",
       "    }\n",
       "</style>\n",
       "<table border=\"1\" class=\"dataframe\">\n",
       "  <thead>\n",
       "    <tr style=\"text-align: right;\">\n",
       "      <th></th>\n",
       "      <th>nomor_unsur</th>\n",
       "      <th>nomor_sub_unsur</th>\n",
       "      <th>kegiatan</th>\n",
       "      <th>Unnamed: 5</th>\n",
       "      <th>Unnamed: 6</th>\n",
       "      <th>activity_code</th>\n",
       "    </tr>\n",
       "  </thead>\n",
       "  <tbody>\n",
       "    <tr>\n",
       "      <th>65</th>\n",
       "      <td>V</td>\n",
       "      <td>D</td>\n",
       "      <td>c</td>\n",
       "      <td>Magister</td>\n",
       "      <td>Tingkat Provinsi</td>\n",
       "      <td>V.D.c</td>\n",
       "    </tr>\n",
       "  </tbody>\n",
       "</table>\n",
       "</div>"
      ],
      "text/plain": [
       "   nomor_unsur nomor_sub_unsur kegiatan Unnamed: 5        Unnamed: 6  \\\n",
       "65           V               D        c   Magister  Tingkat Provinsi   \n",
       "\n",
       "   activity_code  \n",
       "65         V.D.c  "
      ]
     },
     "execution_count": 352,
     "metadata": {},
     "output_type": "execute_result"
    }
   ],
   "source": [
    "df_penunjang[df_penunjang.activity_code.duplicated()][penunjang_activity_code_cols+[\"activity_code\"]].head(3)"
   ]
  },
  {
   "cell_type": "code",
   "execution_count": 353,
   "id": "7c652c2b-6b19-414b-bdb8-ba98564e8fbc",
   "metadata": {},
   "outputs": [
    {
     "data": {
      "text/html": [
       "<div>\n",
       "<style scoped>\n",
       "    .dataframe tbody tr th:only-of-type {\n",
       "        vertical-align: middle;\n",
       "    }\n",
       "\n",
       "    .dataframe tbody tr th {\n",
       "        vertical-align: top;\n",
       "    }\n",
       "\n",
       "    .dataframe thead th {\n",
       "        text-align: right;\n",
       "    }\n",
       "</style>\n",
       "<table border=\"1\" class=\"dataframe\">\n",
       "  <thead>\n",
       "    <tr style=\"text-align: right;\">\n",
       "      <th></th>\n",
       "      <th>nomor_unsur</th>\n",
       "      <th>unsur</th>\n",
       "      <th>nomor_sub_unsur</th>\n",
       "      <th>sub_unsur</th>\n",
       "      <th>kegiatan</th>\n",
       "      <th>Unnamed: 5</th>\n",
       "      <th>Unnamed: 6</th>\n",
       "      <th>ak</th>\n",
       "      <th>jenjang</th>\n",
       "      <th>satuan_hasil</th>\n",
       "      <th>bukti_fisik</th>\n",
       "      <th>batas_penilaian</th>\n",
       "      <th>keterangan_hasil_review</th>\n",
       "      <th>activities</th>\n",
       "      <th>activity_code</th>\n",
       "    </tr>\n",
       "  </thead>\n",
       "  <tbody>\n",
       "    <tr>\n",
       "      <th>62</th>\n",
       "      <td>V</td>\n",
       "      <td>Penunjang Kegiatan teknologi informasi berbasis komputer</td>\n",
       "      <td>D</td>\n",
       "      <td>Perolehan Gelar Kesarjanaan\\nLainnya</td>\n",
       "      <td>Memperoleh gelar kesarjanaan lainnya yang tidak sesuai dengan bidang tugas Pranata Komputer</td>\n",
       "      <td>c</td>\n",
       "      <td>Tingkat Provinsi</td>\n",
       "      <td>NaN</td>\n",
       "      <td>Semua Jenjang</td>\n",
       "      <td>Sertifikat/Piagam</td>\n",
       "      <td>Fotokopi sertifikat/piagam/surat keterangan</td>\n",
       "      <td>Tidak ada pada juknis</td>\n",
       "      <td>3 kali setahun</td>\n",
       "      <td>Memperoleh gelar kesarjanaan lainnya yang tidak sesuai dengan bidang tugas Pranata Komputer.Tingkat Provinsi</td>\n",
       "      <td>V.D.c</td>\n",
       "    </tr>\n",
       "    <tr>\n",
       "      <th>65</th>\n",
       "      <td>V</td>\n",
       "      <td>Penunjang Kegiatan teknologi informasi berbasis komputer</td>\n",
       "      <td>D</td>\n",
       "      <td>Perolehan Gelar Kesarjanaan\\nLainnya</td>\n",
       "      <td>c</td>\n",
       "      <td>Magister</td>\n",
       "      <td>Tingkat Provinsi</td>\n",
       "      <td>10</td>\n",
       "      <td>Semua Jenjang</td>\n",
       "      <td>Ijazah</td>\n",
       "      <td>Fotocopy ijazah kesarjanaan dan transkrip yang telah\\ndilegalisir instansi yang berwenang sesuai dengan ketentuan\\nyang berlaku serta surat tugas/ijin belajar</td>\n",
       "      <td>Tidak ada pada juknis</td>\n",
       "      <td>3 kali setahun</td>\n",
       "      <td>Magister.Tingkat Provinsi</td>\n",
       "      <td>V.D.c</td>\n",
       "    </tr>\n",
       "  </tbody>\n",
       "</table>\n",
       "</div>"
      ],
      "text/plain": [
       "   nomor_unsur                                                      unsur  \\\n",
       "62           V  Penunjang Kegiatan teknologi informasi berbasis komputer    \n",
       "65           V  Penunjang Kegiatan teknologi informasi berbasis komputer    \n",
       "\n",
       "   nomor_sub_unsur                              sub_unsur  \\\n",
       "62               D  Perolehan Gelar Kesarjanaan\\nLainnya    \n",
       "65               D  Perolehan Gelar Kesarjanaan\\nLainnya    \n",
       "\n",
       "                                                                                       kegiatan  \\\n",
       "62  Memperoleh gelar kesarjanaan lainnya yang tidak sesuai dengan bidang tugas Pranata Komputer   \n",
       "65                                                                                            c   \n",
       "\n",
       "   Unnamed: 5        Unnamed: 6   ak        jenjang       satuan_hasil  \\\n",
       "62          c  Tingkat Provinsi  NaN  Semua Jenjang  Sertifikat/Piagam   \n",
       "65   Magister  Tingkat Provinsi   10  Semua Jenjang             Ijazah   \n",
       "\n",
       "                                                                                                                                                       bukti_fisik  \\\n",
       "62                                                                                                                     Fotokopi sertifikat/piagam/surat keterangan   \n",
       "65  Fotocopy ijazah kesarjanaan dan transkrip yang telah\\ndilegalisir instansi yang berwenang sesuai dengan ketentuan\\nyang berlaku serta surat tugas/ijin belajar   \n",
       "\n",
       "          batas_penilaian keterangan_hasil_review  \\\n",
       "62  Tidak ada pada juknis          3 kali setahun   \n",
       "65  Tidak ada pada juknis          3 kali setahun   \n",
       "\n",
       "                                                                                                      activities  \\\n",
       "62  Memperoleh gelar kesarjanaan lainnya yang tidak sesuai dengan bidang tugas Pranata Komputer.Tingkat Provinsi   \n",
       "65                                                                                     Magister.Tingkat Provinsi   \n",
       "\n",
       "   activity_code  \n",
       "62         V.D.c  \n",
       "65         V.D.c  "
      ]
     },
     "execution_count": 353,
     "metadata": {},
     "output_type": "execute_result"
    }
   ],
   "source": [
    "df_penunjang[df_penunjang.activity_code==\"V.D.c\"]"
   ]
  },
  {
   "cell_type": "code",
   "execution_count": 354,
   "id": "905d1462-8d1a-4e39-a2f6-c316cdf1d5f7",
   "metadata": {},
   "outputs": [],
   "source": [
    "df_penunjang=df_penunjang[df_penunjang.ak.notna()]"
   ]
  },
  {
   "cell_type": "code",
   "execution_count": 355,
   "id": "3f4da277-7edc-4ae8-84b0-486ab1296e7a",
   "metadata": {},
   "outputs": [
    {
     "data": {
      "text/plain": [
       "(56, 56)"
      ]
     },
     "execution_count": 355,
     "metadata": {},
     "output_type": "execute_result"
    }
   ],
   "source": [
    "len(df_penunjang.activity_code.unique()),len(df_penunjang.activity_code)"
   ]
  },
  {
   "cell_type": "code",
   "execution_count": 266,
   "id": "15a2730f-790a-4127-a84d-ff0351fe0bd2",
   "metadata": {},
   "outputs": [
    {
     "data": {
      "text/html": [
       "<div>\n",
       "<style scoped>\n",
       "    .dataframe tbody tr th:only-of-type {\n",
       "        vertical-align: middle;\n",
       "    }\n",
       "\n",
       "    .dataframe tbody tr th {\n",
       "        vertical-align: top;\n",
       "    }\n",
       "\n",
       "    .dataframe thead th {\n",
       "        text-align: right;\n",
       "    }\n",
       "</style>\n",
       "<table border=\"1\" class=\"dataframe\">\n",
       "  <thead>\n",
       "    <tr style=\"text-align: right;\">\n",
       "      <th></th>\n",
       "      <th>nomor_unsur</th>\n",
       "      <th>nomor_sub_unsur</th>\n",
       "      <th>kegiatan</th>\n",
       "      <th>Unnamed: 5</th>\n",
       "      <th>Unnamed: 6</th>\n",
       "      <th>activity_code</th>\n",
       "    </tr>\n",
       "  </thead>\n",
       "  <tbody>\n",
       "    <tr>\n",
       "      <th>52</th>\n",
       "      <td>V</td>\n",
       "      <td>A</td>\n",
       "      <td>Mengajar/melatih/membimbing yang berkaitan dengan bidang teknologi informasi berbasis komputer</td>\n",
       "      <td>Melakukan Kegiatan Pembinaan Jabatan Fungsional Pranata Komputer</td>\n",
       "      <td>Lamanya kurang dari 30 jam</td>\n",
       "      <td>V.A</td>\n",
       "    </tr>\n",
       "    <tr>\n",
       "      <th>53</th>\n",
       "      <td>V</td>\n",
       "      <td>B</td>\n",
       "      <td>Menjadi anggota Tim Penilai/Tim Uji Kompetensi</td>\n",
       "      <td>Melakukan Kegiatan Pembinaan Jabatan Fungsional Pranata Komputer</td>\n",
       "      <td>Lamanya kurang dari 30 jam</td>\n",
       "      <td>V.B</td>\n",
       "    </tr>\n",
       "  </tbody>\n",
       "</table>\n",
       "</div>"
      ],
      "text/plain": [
       "   nomor_unsur nomor_sub_unsur  \\\n",
       "52           V               A   \n",
       "53           V               B   \n",
       "\n",
       "                                                                                           kegiatan  \\\n",
       "52  Mengajar/melatih/membimbing yang berkaitan dengan bidang teknologi informasi berbasis komputer    \n",
       "53                                                  Menjadi anggota Tim Penilai/Tim Uji Kompetensi    \n",
       "\n",
       "                                                          Unnamed: 5  \\\n",
       "52  Melakukan Kegiatan Pembinaan Jabatan Fungsional Pranata Komputer   \n",
       "53  Melakukan Kegiatan Pembinaan Jabatan Fungsional Pranata Komputer   \n",
       "\n",
       "                    Unnamed: 6 activity_code  \n",
       "52  Lamanya kurang dari 30 jam           V.A  \n",
       "53  Lamanya kurang dari 30 jam           V.B  "
      ]
     },
     "execution_count": 266,
     "metadata": {},
     "output_type": "execute_result"
    }
   ],
   "source": [
    "activity_code_cols = ['nomor_unsur', 'nomor_sub_unsur', 'kegiatan', 'Unnamed: 5','Unnamed: 6']\n",
    "df_penunjang[df_penunjang[\"activity_code\"].str.len()==3][activity_code_cols+[\"activity_code\"]]"
   ]
  },
  {
   "cell_type": "code",
   "execution_count": 23,
   "id": "28d7ba27-70a2-40b3-b0ab-2ac1ed226948",
   "metadata": {},
   "outputs": [
    {
     "data": {
      "text/plain": [
       "activity_code                                                                                       IV.B.1.a\n",
       "activities       dalam bentuk buku/majalah ilmiah internasional yang diterbitkan internasional yang terindek\n",
       "ak                                                                                                        20\n",
       "Name: 2, dtype: object"
      ]
     },
     "execution_count": 23,
     "metadata": {},
     "output_type": "execute_result"
    }
   ],
   "source": [
    "df_penunjang.loc[2,[\"activity_code\",\"activities\",\"ak\"]]"
   ]
  },
  {
   "cell_type": "code",
   "execution_count": 267,
   "id": "dc3e6bcc-50fa-4815-bfd0-1d1992826384",
   "metadata": {},
   "outputs": [
    {
     "data": {
      "text/html": [
       "<div>\n",
       "<style scoped>\n",
       "    .dataframe tbody tr th:only-of-type {\n",
       "        vertical-align: middle;\n",
       "    }\n",
       "\n",
       "    .dataframe tbody tr th {\n",
       "        vertical-align: top;\n",
       "    }\n",
       "\n",
       "    .dataframe thead th {\n",
       "        text-align: right;\n",
       "    }\n",
       "</style>\n",
       "<table border=\"1\" class=\"dataframe\">\n",
       "  <thead>\n",
       "    <tr style=\"text-align: right;\">\n",
       "      <th></th>\n",
       "      <th>activity_code</th>\n",
       "      <th>activities</th>\n",
       "      <th>ak</th>\n",
       "    </tr>\n",
       "  </thead>\n",
       "  <tbody>\n",
       "    <tr>\n",
       "      <th>0</th>\n",
       "      <td>IV.A</td>\n",
       "      <td>Memperoleh ijazah sesuai dengan bidang tugas Jabatan Fungsional Pranata Komputer</td>\n",
       "      <td>25% AK kenaikan\\npangkat</td>\n",
       "    </tr>\n",
       "    <tr>\n",
       "      <th>2</th>\n",
       "      <td>IV.B.1.a</td>\n",
       "      <td>dalam bentuk buku/majalah ilmiah internasional yang diterbitkan internasional yang terindek</td>\n",
       "      <td>20</td>\n",
       "    </tr>\n",
       "    <tr>\n",
       "      <th>3</th>\n",
       "      <td>IV.B.1.b</td>\n",
       "      <td>dalam bentuk buku/majalah ilmiah internasional yang diterbitkan nasional</td>\n",
       "      <td>12.5</td>\n",
       "    </tr>\n",
       "    <tr>\n",
       "      <th>4</th>\n",
       "      <td>IV.B.1.c</td>\n",
       "      <td>dalam bentuk buku/majalah ilmiah internasional yang diterbitkan dan diakui oleh organisasi profesi dan Instansi Pembina</td>\n",
       "      <td>6</td>\n",
       "    </tr>\n",
       "    <tr>\n",
       "      <th>6</th>\n",
       "      <td>IV.B.2.a</td>\n",
       "      <td>dalam bentuk buku</td>\n",
       "      <td>8</td>\n",
       "    </tr>\n",
       "  </tbody>\n",
       "</table>\n",
       "</div>"
      ],
      "text/plain": [
       "  activity_code  \\\n",
       "0          IV.A   \n",
       "2      IV.B.1.a   \n",
       "3      IV.B.1.b   \n",
       "4      IV.B.1.c   \n",
       "6      IV.B.2.a   \n",
       "\n",
       "                                                                                                                activities  \\\n",
       "0                                         Memperoleh ijazah sesuai dengan bidang tugas Jabatan Fungsional Pranata Komputer   \n",
       "2                              dalam bentuk buku/majalah ilmiah internasional yang diterbitkan internasional yang terindek   \n",
       "3                                                 dalam bentuk buku/majalah ilmiah internasional yang diterbitkan nasional   \n",
       "4  dalam bentuk buku/majalah ilmiah internasional yang diterbitkan dan diakui oleh organisasi profesi dan Instansi Pembina   \n",
       "6                                                                                                       dalam bentuk buku    \n",
       "\n",
       "                         ak  \n",
       "0  25% AK kenaikan\\npangkat  \n",
       "2                        20  \n",
       "3                      12.5  \n",
       "4                         6  \n",
       "6                         8  "
      ]
     },
     "execution_count": 267,
     "metadata": {},
     "output_type": "execute_result"
    }
   ],
   "source": [
    "df_penunjang[df_penunjang.ak.notna()][[\"activity_code\",\"activities\",\"ak\"]].head()"
   ]
  },
  {
   "cell_type": "markdown",
   "id": "7bc5dd23-88e0-4b1c-a689-aa3f18097323",
   "metadata": {},
   "source": [
    "# prepare butir_trampil"
   ]
  },
  {
   "cell_type": "code",
   "execution_count": 285,
   "id": "1c4f2b2b-8988-49a0-9924-192710a0012f",
   "metadata": {},
   "outputs": [],
   "source": [
    "df_trampil=pd.read_excel(\"data/butir_tenaga_trampil.xlsx\")#,sep=\"\\t\",engine=\"python\") df21=df21[df21.IP.notna()]\n",
    "cols=list(df_trampil.columns)\n",
    "\n",
    "def replace_emptystring_with_na(row):\n",
    "    for idx,val in row.items():\n",
    "        try:\n",
    "            txt=str(val).replace(u'\\xa0',\"xa0\")#.encode('utf-8')\n",
    "            if txt==\"xa0\":\n",
    "                row[idx]=np.NaN    \n",
    "        except Exception as e:\n",
    "            print(\"{}:{}-{}\".format(idx,val,str(e)))\n",
    "        \n",
    "    return row\n",
    "\n",
    "df_trampil.apply(replace_emptystring_with_na,axis=1)\n",
    "df_trampil.fillna(method=\"ffill\",inplace=True)\n",
    "\n",
    "\n",
    "activity_cols = ['kegiatan'] #['unsur', 'sub_unsur', 'kegiatan', 'Unnamed: 4']#,'Unnamed: 6']\n",
    "activity_code_cols = ['nomor_unsur', 'nomor_sub_unsur', 'kegiatan', 'Unnamed: 4']#,'Unnamed: 6']\n",
    "def merge_activities(row):\n",
    "    arr=[]\n",
    "    for k,v in row.items():\n",
    "        try:\n",
    "            if len(str(v))>3:\n",
    "                arr.append(str(v))\n",
    "        except:\n",
    "            continue\n",
    "    return \".\".join(arr)\n",
    "\n",
    "def merge_activity_codes(row):\n",
    "    arr=[]\n",
    "    for k,v in row.items():\n",
    "        try:\n",
    "            if len(str(v))<=3:\n",
    "                arr.append(str(v))\n",
    "        except:\n",
    "            continue\n",
    "    return \".\".join(arr)\n",
    "\n",
    "df_trampil[\"activities\"]=df_trampil[activity_cols].apply(merge_activities,axis=1)\n",
    "df_trampil[\"activity_code\"]=df_trampil[activity_code_cols].apply(merge_activity_codes,axis=1)\n",
    "\n",
    "df_trampil_ori=pd.read_excel(\"data/butir_tenaga_trampil.xlsx\")#,sep=\"\\t\",engine=\"python\") df21=df21[df21.IP.notna()]\n",
    "for idx,row in df_trampil_ori.iterrows():\n",
    "    df_trampil.at[idx,\"ak\"]=df_trampil_ori.at[idx,\"ak\"]\n",
    "    if not re.findall(\"\\d+\",str(row.ak)):\n",
    "        df_trampil.at[idx,\"ak\"]=np.NaN\n",
    "    \n",
    "df_trampil.to_csv(\"data/butir_trampil.csv\",sep=\";\")"
   ]
  },
  {
   "cell_type": "code",
   "execution_count": 286,
   "id": "419da072-4463-4001-bf72-4a45fd14aacd",
   "metadata": {},
   "outputs": [
    {
     "data": {
      "text/plain": [
       "array(['I.A.1', 'I.B.1', 'I.B.2', 'I.B.3', 'I.B.4', 'I.B.5', 'I.B.6',\n",
       "       'I.B.7', 'I.B.8', 'I.B.9', 'I.B.10', 'I.B.11', 'I.B.12', 'I.B.13',\n",
       "       'I.B.14', 'I.B.15', 'I.B.16', 'I.B.17', 'I.B.18', 'I.B.19',\n",
       "       'I.B.20', 'I.B.21', 'I.B.22', 'I.B.23', 'I.B.24', 'I.B.25',\n",
       "       'I.B.26', 'I.B.27', 'I.C.1', 'I.C.2', 'II.A.1', 'II.A.2', 'II.A.3',\n",
       "       'II.A.4', 'II.A.5', 'II.A.6', 'II.A.7', 'II.A.8', 'II.A.9',\n",
       "       'II.A.10', 'II.B.1', 'II.B.2', 'II.B.3', 'II.B.4', 'II.B.5',\n",
       "       'II.B.6', 'II.B.7', 'II.B.8', 'II.B.9', 'II.B.10', 'III.A.1',\n",
       "       'III.A.2', 'III.A.3', 'III.A.4', 'III.A.5', 'III.A.6', 'III.B.1',\n",
       "       'III.B.2', 'III.B.3', 'III.B.4', 'III.B.5', 'III.B.6', 'III.B.7',\n",
       "       'III.C.1', 'III.C.2', 'III.C.3', 'III.C.4', 'III.C.5', 'III.C.6',\n",
       "       'III.C.7', 'III.C.8', 'III.C.9', 'III.C.10', 'III.C.11'],\n",
       "      dtype=object)"
      ]
     },
     "execution_count": 286,
     "metadata": {},
     "output_type": "execute_result"
    }
   ],
   "source": [
    "df_trampil[\"activity_code\"].unique()"
   ]
  },
  {
   "cell_type": "code",
   "execution_count": 268,
   "id": "6c2ee003-09b3-4b1f-817c-b028d537e837",
   "metadata": {},
   "outputs": [
    {
     "data": {
      "text/html": [
       "<div>\n",
       "<style scoped>\n",
       "    .dataframe tbody tr th:only-of-type {\n",
       "        vertical-align: middle;\n",
       "    }\n",
       "\n",
       "    .dataframe tbody tr th {\n",
       "        vertical-align: top;\n",
       "    }\n",
       "\n",
       "    .dataframe thead th {\n",
       "        text-align: right;\n",
       "    }\n",
       "</style>\n",
       "<table border=\"1\" class=\"dataframe\">\n",
       "  <thead>\n",
       "    <tr style=\"text-align: right;\">\n",
       "      <th></th>\n",
       "      <th>nomor_unsur</th>\n",
       "      <th>nomor_sub_unsur</th>\n",
       "      <th>kegiatan</th>\n",
       "      <th>Unnamed: 4</th>\n",
       "      <th>activity_code</th>\n",
       "    </tr>\n",
       "  </thead>\n",
       "  <tbody>\n",
       "    <tr>\n",
       "      <th>50</th>\n",
       "      <td>III</td>\n",
       "      <td>A</td>\n",
       "      <td>Menyusun petunjuk operasional program aplikasi</td>\n",
       "      <td>1</td>\n",
       "      <td>A.1</td>\n",
       "    </tr>\n",
       "    <tr>\n",
       "      <th>51</th>\n",
       "      <td>III</td>\n",
       "      <td>A</td>\n",
       "      <td>Menyusun dokumentasi pengembangan sistem informasi</td>\n",
       "      <td>2</td>\n",
       "      <td>A.2</td>\n",
       "    </tr>\n",
       "    <tr>\n",
       "      <th>52</th>\n",
       "      <td>III</td>\n",
       "      <td>A</td>\n",
       "      <td>Melakukan analisis kebutuhan program aplikasi</td>\n",
       "      <td>3</td>\n",
       "      <td>A.3</td>\n",
       "    </tr>\n",
       "    <tr>\n",
       "      <th>53</th>\n",
       "      <td>III</td>\n",
       "      <td>A</td>\n",
       "      <td>Membuat program aplikasi</td>\n",
       "      <td>4</td>\n",
       "      <td>A.4</td>\n",
       "    </tr>\n",
       "    <tr>\n",
       "      <th>54</th>\n",
       "      <td>III</td>\n",
       "      <td>A</td>\n",
       "      <td>Mengembangkan dan atau meremajakan program aplikasi</td>\n",
       "      <td>5</td>\n",
       "      <td>A.5</td>\n",
       "    </tr>\n",
       "    <tr>\n",
       "      <th>55</th>\n",
       "      <td>III</td>\n",
       "      <td>A</td>\n",
       "      <td>Melakukan uji coba program aplikasi</td>\n",
       "      <td>6</td>\n",
       "      <td>A.6</td>\n",
       "    </tr>\n",
       "    <tr>\n",
       "      <th>56</th>\n",
       "      <td>III</td>\n",
       "      <td>B</td>\n",
       "      <td>Melakukan perekaman data dengan pemindaian</td>\n",
       "      <td>1</td>\n",
       "      <td>B.1</td>\n",
       "    </tr>\n",
       "    <tr>\n",
       "      <th>57</th>\n",
       "      <td>III</td>\n",
       "      <td>B</td>\n",
       "      <td>Melakukan perekaman data tanpa validasi</td>\n",
       "      <td>2</td>\n",
       "      <td>B.2</td>\n",
       "    </tr>\n",
       "    <tr>\n",
       "      <th>58</th>\n",
       "      <td>III</td>\n",
       "      <td>B</td>\n",
       "      <td>Melakukan validasi hasil perekaman data</td>\n",
       "      <td>3</td>\n",
       "      <td>B.3</td>\n",
       "    </tr>\n",
       "    <tr>\n",
       "      <th>59</th>\n",
       "      <td>III</td>\n",
       "      <td>B</td>\n",
       "      <td>Melakukan perekaman data dengan validasi</td>\n",
       "      <td>4</td>\n",
       "      <td>B.4</td>\n",
       "    </tr>\n",
       "    <tr>\n",
       "      <th>60</th>\n",
       "      <td>III</td>\n",
       "      <td>B</td>\n",
       "      <td>Membuat query sederhana</td>\n",
       "      <td>5</td>\n",
       "      <td>B.5</td>\n",
       "    </tr>\n",
       "    <tr>\n",
       "      <th>61</th>\n",
       "      <td>III</td>\n",
       "      <td>B</td>\n",
       "      <td>Melakukan konversi data</td>\n",
       "      <td>6</td>\n",
       "      <td>B.6</td>\n",
       "    </tr>\n",
       "    <tr>\n",
       "      <th>62</th>\n",
       "      <td>III</td>\n",
       "      <td>B</td>\n",
       "      <td>Melakukan kompilasi data pengolahan</td>\n",
       "      <td>7</td>\n",
       "      <td>B.7</td>\n",
       "    </tr>\n",
       "    <tr>\n",
       "      <th>63</th>\n",
       "      <td>III</td>\n",
       "      <td>C</td>\n",
       "      <td>Melakukan perekaman data spasial</td>\n",
       "      <td>1</td>\n",
       "      <td>C.1</td>\n",
       "    </tr>\n",
       "    <tr>\n",
       "      <th>64</th>\n",
       "      <td>III</td>\n",
       "      <td>C</td>\n",
       "      <td>Membuat peta tematik sederhana</td>\n",
       "      <td>2</td>\n",
       "      <td>C.2</td>\n",
       "    </tr>\n",
       "    <tr>\n",
       "      <th>65</th>\n",
       "      <td>III</td>\n",
       "      <td>C</td>\n",
       "      <td>Melakukan pengolahan data atribut dan spasial sederhana</td>\n",
       "      <td>3</td>\n",
       "      <td>C.3</td>\n",
       "    </tr>\n",
       "    <tr>\n",
       "      <th>66</th>\n",
       "      <td>III</td>\n",
       "      <td>C</td>\n",
       "      <td>Melakukan editing data spasial</td>\n",
       "      <td>4</td>\n",
       "      <td>C.4</td>\n",
       "    </tr>\n",
       "    <tr>\n",
       "      <th>67</th>\n",
       "      <td>III</td>\n",
       "      <td>C</td>\n",
       "      <td>Melakukan verifikasi data spasial</td>\n",
       "      <td>5</td>\n",
       "      <td>C.5</td>\n",
       "    </tr>\n",
       "    <tr>\n",
       "      <th>68</th>\n",
       "      <td>III</td>\n",
       "      <td>C</td>\n",
       "      <td>Membuat desain grafis</td>\n",
       "      <td>6</td>\n",
       "      <td>C.6</td>\n",
       "    </tr>\n",
       "    <tr>\n",
       "      <th>69</th>\n",
       "      <td>III</td>\n",
       "      <td>C</td>\n",
       "      <td>Melakukan editing objek multimedia sederhana dengan piranti lunak</td>\n",
       "      <td>7</td>\n",
       "      <td>C.7</td>\n",
       "    </tr>\n",
       "    <tr>\n",
       "      <th>70</th>\n",
       "      <td>III</td>\n",
       "      <td>C</td>\n",
       "      <td>Membuat objek multimedia sederhana dengan piranti lunak</td>\n",
       "      <td>8</td>\n",
       "      <td>C.8</td>\n",
       "    </tr>\n",
       "    <tr>\n",
       "      <th>71</th>\n",
       "      <td>III</td>\n",
       "      <td>C</td>\n",
       "      <td>Membuat prototype sederhana pada program multimedia</td>\n",
       "      <td>9</td>\n",
       "      <td>C.9</td>\n",
       "    </tr>\n",
       "  </tbody>\n",
       "</table>\n",
       "</div>"
      ],
      "text/plain": [
       "   nomor_unsur nomor_sub_unsur  \\\n",
       "50         III               A   \n",
       "51         III               A   \n",
       "52         III               A   \n",
       "53         III               A   \n",
       "54         III               A   \n",
       "55         III               A   \n",
       "56         III               B   \n",
       "57         III               B   \n",
       "58         III               B   \n",
       "59         III               B   \n",
       "60         III               B   \n",
       "61         III               B   \n",
       "62         III               B   \n",
       "63         III               C   \n",
       "64         III               C   \n",
       "65         III               C   \n",
       "66         III               C   \n",
       "67         III               C   \n",
       "68         III               C   \n",
       "69         III               C   \n",
       "70         III               C   \n",
       "71         III               C   \n",
       "\n",
       "                                                             kegiatan  \\\n",
       "50                     Menyusun petunjuk operasional program aplikasi   \n",
       "51                 Menyusun dokumentasi pengembangan sistem informasi   \n",
       "52                      Melakukan analisis kebutuhan program aplikasi   \n",
       "53                                           Membuat program aplikasi   \n",
       "54                Mengembangkan dan atau meremajakan program aplikasi   \n",
       "55                                Melakukan uji coba program aplikasi   \n",
       "56                         Melakukan perekaman data dengan pemindaian   \n",
       "57                            Melakukan perekaman data tanpa validasi   \n",
       "58                            Melakukan validasi hasil perekaman data   \n",
       "59                           Melakukan perekaman data dengan validasi   \n",
       "60                                            Membuat query sederhana   \n",
       "61                                           Melakukan konversi data    \n",
       "62                               Melakukan kompilasi data pengolahan    \n",
       "63                                  Melakukan perekaman data spasial    \n",
       "64                                     Membuat peta tematik sederhana   \n",
       "65            Melakukan pengolahan data atribut dan spasial sederhana   \n",
       "66                                    Melakukan editing data spasial    \n",
       "67                                  Melakukan verifikasi data spasial   \n",
       "68                                             Membuat desain grafis    \n",
       "69  Melakukan editing objek multimedia sederhana dengan piranti lunak   \n",
       "70            Membuat objek multimedia sederhana dengan piranti lunak   \n",
       "71                Membuat prototype sederhana pada program multimedia   \n",
       "\n",
       "    Unnamed: 4 activity_code  \n",
       "50           1           A.1  \n",
       "51           2           A.2  \n",
       "52           3           A.3  \n",
       "53           4           A.4  \n",
       "54           5           A.5  \n",
       "55           6           A.6  \n",
       "56           1           B.1  \n",
       "57           2           B.2  \n",
       "58           3           B.3  \n",
       "59           4           B.4  \n",
       "60           5           B.5  \n",
       "61           6           B.6  \n",
       "62           7           B.7  \n",
       "63           1           C.1  \n",
       "64           2           C.2  \n",
       "65           3           C.3  \n",
       "66           4           C.4  \n",
       "67           5           C.5  \n",
       "68           6           C.6  \n",
       "69           7           C.7  \n",
       "70           8           C.8  \n",
       "71           9           C.9  "
      ]
     },
     "execution_count": 268,
     "metadata": {},
     "output_type": "execute_result"
    }
   ],
   "source": [
    "activity_code_cols = ['nomor_unsur', 'nomor_sub_unsur', 'kegiatan', 'Unnamed: 4']\n",
    "df_trampil[df_trampil[\"activity_code\"].str.len()==3][activity_code_cols+[\"activity_code\"]]"
   ]
  },
  {
   "cell_type": "code",
   "execution_count": 11,
   "id": "ed355882-ea7e-4280-af38-37d62ee24686",
   "metadata": {},
   "outputs": [
    {
     "data": {
      "text/html": [
       "<div>\n",
       "<style scoped>\n",
       "    .dataframe tbody tr th:only-of-type {\n",
       "        vertical-align: middle;\n",
       "    }\n",
       "\n",
       "    .dataframe tbody tr th {\n",
       "        vertical-align: top;\n",
       "    }\n",
       "\n",
       "    .dataframe thead th {\n",
       "        text-align: right;\n",
       "    }\n",
       "</style>\n",
       "<table border=\"1\" class=\"dataframe\">\n",
       "  <thead>\n",
       "    <tr style=\"text-align: right;\">\n",
       "      <th></th>\n",
       "      <th>activity_code</th>\n",
       "      <th>activities</th>\n",
       "      <th>ak</th>\n",
       "    </tr>\n",
       "  </thead>\n",
       "  <tbody>\n",
       "    <tr>\n",
       "      <th>0</th>\n",
       "      <td>I.A.1</td>\n",
       "      <td>Melakukan pemenuhan permintaan dan layanan teknologi informasi</td>\n",
       "      <td>0.15</td>\n",
       "    </tr>\n",
       "    <tr>\n",
       "      <th>1</th>\n",
       "      <td>I.B.1</td>\n",
       "      <td>Melakukan pengumpulan informasi mengenai data instansi</td>\n",
       "      <td>0.55</td>\n",
       "    </tr>\n",
       "    <tr>\n",
       "      <th>2</th>\n",
       "      <td>I.B.2</td>\n",
       "      <td>Melakukan pengadministrasian kegiatan tata kelola data</td>\n",
       "      <td>0.11</td>\n",
       "    </tr>\n",
       "    <tr>\n",
       "      <th>3</th>\n",
       "      <td>I.B.3</td>\n",
       "      <td>Melakukan pencatatan permasalahan pengelolaan data</td>\n",
       "      <td>0.11</td>\n",
       "    </tr>\n",
       "    <tr>\n",
       "      <th>4</th>\n",
       "      <td>I.B.4</td>\n",
       "      <td>Melakukan perawatan arsitektur teknologi data</td>\n",
       "      <td>0.055</td>\n",
       "    </tr>\n",
       "  </tbody>\n",
       "</table>\n",
       "</div>"
      ],
      "text/plain": [
       "  activity_code  \\\n",
       "0         I.A.1   \n",
       "1         I.B.1   \n",
       "2         I.B.2   \n",
       "3         I.B.3   \n",
       "4         I.B.4   \n",
       "\n",
       "                                                       activities     ak  \n",
       "0  Melakukan pemenuhan permintaan dan layanan teknologi informasi   0.15  \n",
       "1          Melakukan pengumpulan informasi mengenai data instansi   0.55  \n",
       "2          Melakukan pengadministrasian kegiatan tata kelola data   0.11  \n",
       "3              Melakukan pencatatan permasalahan pengelolaan data   0.11  \n",
       "4                   Melakukan perawatan arsitektur teknologi data  0.055  "
      ]
     },
     "execution_count": 11,
     "metadata": {},
     "output_type": "execute_result"
    }
   ],
   "source": [
    "df_trampil[df_trampil.ak.notna()][[\"activity_code\",\"activities\",\"ak\"]].head()"
   ]
  },
  {
   "cell_type": "markdown",
   "id": "617ff546-bedb-4012-920d-d3d2353c02f6",
   "metadata": {},
   "source": [
    "# prepare butir_ahli"
   ]
  },
  {
   "cell_type": "code",
   "execution_count": 287,
   "id": "03b44b5a-0e4c-4e12-bf61-97be34b9ed7b",
   "metadata": {},
   "outputs": [],
   "source": [
    "df_ahli=pd.read_excel(\"data/butir_tenaga_ahli.xlsx\")#,sep=\"\\t\",engine=\"python\") df21=df21[df21.IP.notna()]\n",
    "cols=list(df_ahli.columns)\n",
    "\n",
    "def replace_emptystring_with_na(row):\n",
    "    for idx,val in row.items():\n",
    "        try:\n",
    "            txt=str(val).replace(u'\\xa0',\"xa0\")#.encode('utf-8')\n",
    "            if txt==\"xa0\":\n",
    "                row[idx]=np.NaN    \n",
    "        except Exception as e:\n",
    "            print(\"{}:{}-{}\".format(idx,val,str(e)))\n",
    "        \n",
    "    return row\n",
    "\n",
    "df_ahli.apply(replace_emptystring_with_na,axis=1)\n",
    "df_ahli.fillna(method=\"ffill\",inplace=True)\n",
    "\n",
    "\n",
    "activity_cols = ['kegiatan'] #['unsur', 'sub_unsur', 'kegiatan', 'Unnamed: 4']#,'Unnamed: 6']\n",
    "activity_code_cols = ['nomor_unsur', 'nomor_sub_unsur', 'kegiatan', 'Unnamed: 4']#,'Unnamed: 6']\n",
    "def merge_activities(row):\n",
    "    arr=[]\n",
    "    for k,v in row.items():\n",
    "        try:\n",
    "            if len(str(v))>3:\n",
    "                arr.append(str(v))\n",
    "        except:\n",
    "            continue\n",
    "    return \".\".join(arr)\n",
    "\n",
    "def merge_activity_codes(row):\n",
    "    arr=[]\n",
    "    for k,v in row.items():\n",
    "        try:\n",
    "            if len(str(v))<=3:\n",
    "                arr.append(str(v))\n",
    "        except:\n",
    "            continue\n",
    "    return \".\".join(arr)\n",
    "\n",
    "df_ahli[\"activities\"]=df_ahli[activity_cols].apply(merge_activities,axis=1)\n",
    "df_ahli[\"activity_code\"]=df_ahli[activity_code_cols].apply(merge_activity_codes,axis=1)\n",
    "\n",
    "df_ahli_ori=pd.read_excel(\"data/butir_tenaga_ahli.xlsx\")#,sep=\"\\t\",engine=\"python\") df21=df21[df21.IP.notna()]\n",
    "for idx,row in df_ahli_ori.iterrows():\n",
    "    df_ahli.at[idx,\"ak\"]=df_ahli_ori.at[idx,\"ak\"]\n",
    "    if not re.findall(\"\\d+\",str(row.ak)):\n",
    "        df_ahli.at[idx,\"ak\"]=np.NaN\n",
    "    \n",
    "df_ahli.to_csv(\"data/butir_ahli.csv\",sep=\";\")"
   ]
  },
  {
   "cell_type": "code",
   "execution_count": 288,
   "id": "77c42aad-8586-413f-b57c-4262449d78a8",
   "metadata": {},
   "outputs": [
    {
     "data": {
      "text/plain": [
       "array(['I.A.1', 'I.A.2', 'I.A.3', 'I.A.4', 'I.A.5', 'I.A.6', 'I.A.7',\n",
       "       'I.A.8', 'I.A.9', 'I.A.10', 'I.A.11', 'I.A.12', 'I.A.13', 'I.A.14',\n",
       "       'I.A.15', 'I.A.16', 'I.A.17', 'I.A.18', 'I.A.19', 'I.A.20',\n",
       "       'I.A.21', 'I.A.22', 'I.A.23', 'I.A.24', 'I.A.25', 'I.A.26',\n",
       "       'I.A.27', 'I.A.28', 'I.A.29', 'I.A.30', 'I.A.31', 'I.A.32',\n",
       "       'I.A.33', 'I.A.34', 'I.A.35', 'I.A.36', 'I.A.37', 'I.B.1', 'I.B.2',\n",
       "       'I.B.3', 'I.B.4', 'I.B.5', 'I.B.6', 'I.B.7', 'I.B.8', 'I.B.9',\n",
       "       'I.B.10', 'I.B.11', 'I.B.12', 'I.B.13', 'I.B.14', 'I.B.15',\n",
       "       'I.B.16', 'I.B.17', 'I.B.18', 'I.B.19', 'I.B.20', 'I.B.21',\n",
       "       'I.C.1', 'I.C.2', 'I.C.3', 'I.C.4', 'I.C.5', 'I.C.6', 'I.C.7',\n",
       "       'I.C.8', 'I.C.9', 'I.C.10', 'I.C.11', 'I.C.12', 'I.C.13', 'I.C.14',\n",
       "       'I.C.15', 'I.C.16', 'I.C.17', 'I.C.18', 'I.C.19', 'I.C.20',\n",
       "       'I.C.21', 'I.C.22', 'I.C.23', 'I.C.24', 'I.C.25', 'I.C.26',\n",
       "       'I.C.27', 'I.C.28', 'I.C.29', 'I.C.30', 'I.C.31', 'I.C.32',\n",
       "       'I.C.33', 'I.C.34', 'I.C.35', 'I.C.36', 'I.C.37', 'I.C.38',\n",
       "       'I.C.39', 'I.C.40', 'I.C.41', 'I.C.42', 'I.C.43', 'I.C.44',\n",
       "       'I.C.45', 'I.C.46', 'I.C.47', 'I.C.48', 'I.C.49', 'I.C.50',\n",
       "       'I.C.51', 'I.C.52', 'I.C.53', 'I.D.1', 'I.D.2', 'I.D.3', 'I.D.4',\n",
       "       'I.D.5', 'I.D.6', 'I.D.7', 'I.D.8', 'I.D.9', 'I.D.10', 'I.E.1',\n",
       "       'I.E.2', 'I.E.3', 'I.E.4', 'I.E.5', 'I.E.6', 'I.E.7', 'I.E.8',\n",
       "       'I.E.9', 'I.E.10', 'I.E.11', 'II.A.1', 'II.A.2', 'II.A.3',\n",
       "       'II.A.4', 'II.A.5', 'II.A.6', 'II.A.7', 'II.A.8', 'II.A.9',\n",
       "       'II.A.10', 'II.A.11', 'II.A.12', 'II.A.13', 'II.A.14', 'II.A.15',\n",
       "       'II.A.16', 'II.A.17', 'II.A.18', 'II.A.19', 'II.A.20', 'II.B.1',\n",
       "       'II.B.2', 'II.B.3', 'II.B.4', 'II.B.5', 'II.B.6', 'II.B.7',\n",
       "       'II.B.8', 'II.B.9', 'II.B.10', 'II.B.11', 'II.B.12', 'II.B.13',\n",
       "       'II.B.14', 'II.B.15', 'III.A.1', 'III.A.2', 'III.A.3', 'III.A.4',\n",
       "       'III.A.5', 'III.A.6', 'III.A.7', 'III.A.8', 'III.A.9', 'III.A.10',\n",
       "       'III.A.11', 'III.A.12', 'III.A.13', 'III.A.14', 'III.A.15',\n",
       "       'III.A.16', 'III.A.17', 'III.A.18', 'III.A.19', 'III.A.20',\n",
       "       'III.B.1', 'III.B.2', 'III.B.3', 'III.B.4', 'III.B.5', 'III.B.6',\n",
       "       'III.B.7', 'III.B.8', 'III.C.1', 'III.C.2', 'III.C.3', 'III.C.4',\n",
       "       'III.C.5', 'III.C.6', 'III.C.7', 'III.C.8', 'III.C.9', 'III.C.10',\n",
       "       'III.C.11'], dtype=object)"
      ]
     },
     "execution_count": 288,
     "metadata": {},
     "output_type": "execute_result"
    }
   ],
   "source": [
    "df_ahli.activity_code.unique()"
   ]
  },
  {
   "cell_type": "code",
   "execution_count": 13,
   "id": "76b774df-2ebd-4f02-a05e-8449571e385e",
   "metadata": {},
   "outputs": [
    {
     "data": {
      "text/html": [
       "<div>\n",
       "<style scoped>\n",
       "    .dataframe tbody tr th:only-of-type {\n",
       "        vertical-align: middle;\n",
       "    }\n",
       "\n",
       "    .dataframe tbody tr th {\n",
       "        vertical-align: top;\n",
       "    }\n",
       "\n",
       "    .dataframe thead th {\n",
       "        text-align: right;\n",
       "    }\n",
       "</style>\n",
       "<table border=\"1\" class=\"dataframe\">\n",
       "  <thead>\n",
       "    <tr style=\"text-align: right;\">\n",
       "      <th></th>\n",
       "      <th>activity_code</th>\n",
       "      <th>activities</th>\n",
       "      <th>ak</th>\n",
       "    </tr>\n",
       "  </thead>\n",
       "  <tbody>\n",
       "    <tr>\n",
       "      <th>0</th>\n",
       "      <td>I.A.1</td>\n",
       "      <td>Melakukan Identifikasi dan Analisis Kebutuhan Bisnis Institusi</td>\n",
       "      <td>4.16</td>\n",
       "    </tr>\n",
       "    <tr>\n",
       "      <th>1</th>\n",
       "      <td>I.A.2</td>\n",
       "      <td>Melakukan Reviu TI Yang Digunakan Institusi Saat Ini Atau Tren TI Terkinii</td>\n",
       "      <td>0.78</td>\n",
       "    </tr>\n",
       "    <tr>\n",
       "      <th>2</th>\n",
       "      <td>I.A.3</td>\n",
       "      <td>Melakukan Analisis Terhadap Strategi Bisnis Institusi yang Berdampak Pada Strategi TI Institusi</td>\n",
       "      <td>2.20</td>\n",
       "    </tr>\n",
       "    <tr>\n",
       "      <th>3</th>\n",
       "      <td>I.A.4</td>\n",
       "      <td>Melakukan Analisis Dampak TI yang Digunakan Institusi Saat Ini dan Trennya Terhadap Perubahan Strategi Bisnis Institusi</td>\n",
       "      <td>1.32</td>\n",
       "    </tr>\n",
       "    <tr>\n",
       "      <th>4</th>\n",
       "      <td>I.A.5</td>\n",
       "      <td>Menyusun Kerangka Kerja Untuk Penyusunan Strategi TI</td>\n",
       "      <td>1.32</td>\n",
       "    </tr>\n",
       "  </tbody>\n",
       "</table>\n",
       "</div>"
      ],
      "text/plain": [
       "  activity_code  \\\n",
       "0         I.A.1   \n",
       "1         I.A.2   \n",
       "2         I.A.3   \n",
       "3         I.A.4   \n",
       "4         I.A.5   \n",
       "\n",
       "                                                                                                                activities  \\\n",
       "0                                                           Melakukan Identifikasi dan Analisis Kebutuhan Bisnis Institusi   \n",
       "1                                               Melakukan Reviu TI Yang Digunakan Institusi Saat Ini Atau Tren TI Terkinii   \n",
       "2                          Melakukan Analisis Terhadap Strategi Bisnis Institusi yang Berdampak Pada Strategi TI Institusi   \n",
       "3  Melakukan Analisis Dampak TI yang Digunakan Institusi Saat Ini dan Trennya Terhadap Perubahan Strategi Bisnis Institusi   \n",
       "4                                                                     Menyusun Kerangka Kerja Untuk Penyusunan Strategi TI   \n",
       "\n",
       "     ak  \n",
       "0  4.16  \n",
       "1  0.78  \n",
       "2  2.20  \n",
       "3  1.32  \n",
       "4  1.32  "
      ]
     },
     "execution_count": 13,
     "metadata": {},
     "output_type": "execute_result"
    }
   ],
   "source": [
    "df_ahli[df_ahli.ak.notna()][[\"activity_code\",\"activities\",\"ak\"]].head()"
   ]
  },
  {
   "cell_type": "markdown",
   "id": "33545143-545c-4c29-9f83-3d3e03556fa6",
   "metadata": {},
   "source": [
    "# check num of activity_code equals to num or records"
   ]
  },
  {
   "cell_type": "code",
   "execution_count": 426,
   "id": "656c60d9-1186-4c9c-b8bb-7bd0d94bb4f0",
   "metadata": {},
   "outputs": [
    {
     "data": {
      "text/plain": [
       "(56, 56)"
      ]
     },
     "execution_count": 426,
     "metadata": {},
     "output_type": "execute_result"
    }
   ],
   "source": [
    "len(df_penunjang.activity_code.unique()),len(df_penunjang.activity_code)"
   ]
  },
  {
   "cell_type": "code",
   "execution_count": 428,
   "id": "27046f81-cb23-469c-b6ad-1787c3583931",
   "metadata": {},
   "outputs": [
    {
     "data": {
      "text/plain": [
       "(56, 56)"
      ]
     },
     "execution_count": 428,
     "metadata": {},
     "output_type": "execute_result"
    }
   ],
   "source": [
    "len(df_penunjang.activity_code.unique()),len(df_penunjang.activity_code.to_list())"
   ]
  },
  {
   "cell_type": "code",
   "execution_count": 357,
   "id": "19884551-b5cc-4193-8599-1856158326c6",
   "metadata": {},
   "outputs": [
    {
     "data": {
      "text/plain": [
       "(74, 74)"
      ]
     },
     "execution_count": 357,
     "metadata": {},
     "output_type": "execute_result"
    }
   ],
   "source": [
    "len(df_trampil.activity_code.unique()),len(df_trampil.activity_code)"
   ]
  },
  {
   "cell_type": "code",
   "execution_count": 358,
   "id": "ec32dd6a-6b91-4161-9148-bc2ff4023bf7",
   "metadata": {},
   "outputs": [
    {
     "data": {
      "text/plain": [
       "(206, 206)"
      ]
     },
     "execution_count": 358,
     "metadata": {},
     "output_type": "execute_result"
    }
   ],
   "source": [
    "len(df_ahli.activity_code.unique()),len(df_ahli.activity_code)"
   ]
  },
  {
   "cell_type": "markdown",
   "id": "50f6d474-0897-4207-af6b-a9aec99eca25",
   "metadata": {},
   "source": [
    "# merge 3 dataframes"
   ]
  },
  {
   "cell_type": "code",
   "execution_count": 359,
   "id": "3c2f1e2e-4a52-4d80-a548-b3caa5ff3c24",
   "metadata": {},
   "outputs": [
    {
     "data": {
      "text/plain": [
       "array(['activities', 'activity_code', 'ak', 'batas_penilaian', 'jenjang',\n",
       "       'kegiatan', 'nomor_sub_unsur', 'nomor_unsur', 'sub_unsur', 'unsur'],\n",
       "      dtype=object)"
      ]
     },
     "execution_count": 359,
     "metadata": {},
     "output_type": "execute_result"
    }
   ],
   "source": [
    "common_cols=np.intersect1d(df_trampil.columns,df_ahli.columns)\n",
    "common_cols=np.intersect1d(common_cols,df_penunjang.columns)\n",
    "common_cols"
   ]
  },
  {
   "cell_type": "code",
   "execution_count": 360,
   "id": "356b4b73-d06d-42b4-ac11-2c51869b7212",
   "metadata": {},
   "outputs": [],
   "source": [
    "df_trampil2=df_trampil[common_cols]\n",
    "df_ahli2=df_ahli[common_cols]\n",
    "df_penunjang2=df_penunjang[common_cols]"
   ]
  },
  {
   "cell_type": "code",
   "execution_count": 427,
   "id": "cdb58838-fe74-4eb3-86d1-02cdee7e8c3d",
   "metadata": {},
   "outputs": [
    {
     "data": {
      "text/plain": [
       "((74, 10), (206, 10), (56, 10), (336, 10))"
      ]
     },
     "execution_count": 427,
     "metadata": {},
     "output_type": "execute_result"
    }
   ],
   "source": [
    "frames=[df_trampil2,df_ahli2,df_penunjang2]\n",
    "df_dupak_all=pd.concat(frames)\n",
    "df_trampil2.shape,df_ahli2.shape,df_penunjang2.shape,df_dupak_all.shape"
   ]
  },
  {
   "cell_type": "code",
   "execution_count": 429,
   "id": "78e8d4da-7099-457a-bbaa-230947b86aca",
   "metadata": {},
   "outputs": [
    {
     "data": {
      "text/plain": [
       "(268, 336)"
      ]
     },
     "execution_count": 429,
     "metadata": {},
     "output_type": "execute_result"
    }
   ],
   "source": [
    "len(df_dupak_all.activity_code.unique()),len(df_dupak_all.activity_code.to_list())"
   ]
  },
  {
   "cell_type": "code",
   "execution_count": 433,
   "id": "060b0dd5-d404-458b-a16b-eabaa04ed822",
   "metadata": {},
   "outputs": [
    {
     "data": {
      "text/html": [
       "<div>\n",
       "<style scoped>\n",
       "    .dataframe tbody tr th:only-of-type {\n",
       "        vertical-align: middle;\n",
       "    }\n",
       "\n",
       "    .dataframe tbody tr th {\n",
       "        vertical-align: top;\n",
       "    }\n",
       "\n",
       "    .dataframe thead th {\n",
       "        text-align: right;\n",
       "    }\n",
       "</style>\n",
       "<table border=\"1\" class=\"dataframe\">\n",
       "  <thead>\n",
       "    <tr style=\"text-align: right;\">\n",
       "      <th></th>\n",
       "      <th>activities</th>\n",
       "      <th>activity_code</th>\n",
       "      <th>ak</th>\n",
       "      <th>batas_penilaian</th>\n",
       "      <th>jenjang</th>\n",
       "      <th>kegiatan</th>\n",
       "      <th>nomor_sub_unsur</th>\n",
       "      <th>nomor_unsur</th>\n",
       "      <th>sub_unsur</th>\n",
       "      <th>unsur</th>\n",
       "    </tr>\n",
       "  </thead>\n",
       "  <tbody>\n",
       "    <tr>\n",
       "      <th>0</th>\n",
       "      <td>Melakukan pemenuhan permintaan dan layanan teknologi informasi</td>\n",
       "      <td>I.A.1</td>\n",
       "      <td>0.15</td>\n",
       "      <td>1 (satu) laporan per bulan</td>\n",
       "      <td>Mahir</td>\n",
       "      <td>Melakukan pemenuhan permintaan dan layanan teknologi informasi</td>\n",
       "      <td>A</td>\n",
       "      <td>I</td>\n",
       "      <td>Manajemen Layanan TI</td>\n",
       "      <td>Tata Kelola dan Tata Laksana Teknologi Informasi</td>\n",
       "    </tr>\n",
       "    <tr>\n",
       "      <th>0</th>\n",
       "      <td>Melakukan Identifikasi dan Analisis Kebutuhan Bisnis Institusi</td>\n",
       "      <td>I.A.1</td>\n",
       "      <td>4.16</td>\n",
       "      <td>Jumlah maksimum   kegiatan identifikasi dan analisis kebutuhan bisnis institusi yang dapat dinilai adalah 2 (dua) kali per tahun.\\n</td>\n",
       "      <td>Utama</td>\n",
       "      <td>Melakukan Identifikasi dan Analisis Kebutuhan Bisnis Institusi</td>\n",
       "      <td>A</td>\n",
       "      <td>I</td>\n",
       "      <td>IT Enterprise</td>\n",
       "      <td>Tata Kelola dan Tata Laksana Teknologi Informasi</td>\n",
       "    </tr>\n",
       "  </tbody>\n",
       "</table>\n",
       "</div>"
      ],
      "text/plain": [
       "                                                       activities  \\\n",
       "0  Melakukan pemenuhan permintaan dan layanan teknologi informasi   \n",
       "0  Melakukan Identifikasi dan Analisis Kebutuhan Bisnis Institusi   \n",
       "\n",
       "  activity_code    ak  \\\n",
       "0         I.A.1  0.15   \n",
       "0         I.A.1  4.16   \n",
       "\n",
       "                                                                                                                       batas_penilaian  \\\n",
       "0                                                                                                           1 (satu) laporan per bulan   \n",
       "0  Jumlah maksimum   kegiatan identifikasi dan analisis kebutuhan bisnis institusi yang dapat dinilai adalah 2 (dua) kali per tahun.\\n   \n",
       "\n",
       "  jenjang                                                        kegiatan  \\\n",
       "0   Mahir  Melakukan pemenuhan permintaan dan layanan teknologi informasi   \n",
       "0   Utama  Melakukan Identifikasi dan Analisis Kebutuhan Bisnis Institusi   \n",
       "\n",
       "  nomor_sub_unsur nomor_unsur             sub_unsur  \\\n",
       "0               A           I  Manajemen Layanan TI   \n",
       "0               A           I         IT Enterprise   \n",
       "\n",
       "                                              unsur  \n",
       "0  Tata Kelola dan Tata Laksana Teknologi Informasi  \n",
       "0  Tata Kelola dan Tata Laksana Teknologi Informasi  "
      ]
     },
     "execution_count": 433,
     "metadata": {},
     "output_type": "execute_result"
    }
   ],
   "source": [
    "df_dupak_all[df_dupak_all.activity_code==\"I.A.1\"]"
   ]
  },
  {
   "cell_type": "markdown",
   "id": "25f49da6-3be2-40fd-a2b9-fdd2d608cde2",
   "metadata": {},
   "source": [
    "# add info jenjang into acivity _code"
   ]
  },
  {
   "cell_type": "code",
   "execution_count": 437,
   "id": "fdf8927c-af19-4dac-95a8-9faf48fcb5f0",
   "metadata": {},
   "outputs": [
    {
     "data": {
      "text/plain": [
       "True"
      ]
     },
     "execution_count": 437,
     "metadata": {},
     "output_type": "execute_result"
    }
   ],
   "source": [
    "df_dupak_all[df_dupak_all.jenjang.notna()].shape[0]==df_dupak_all.shape[0]"
   ]
  },
  {
   "cell_type": "code",
   "execution_count": 438,
   "id": "c7ef6770-2a5f-4820-8c85-df0d23a22c2f",
   "metadata": {},
   "outputs": [
    {
     "data": {
      "text/plain": [
       "array(['Mahir', 'Penyelia', 'Terampil', 'Utama', 'Madya', 'Muda',\n",
       "       'Pertama', 'Semua Jenjang'], dtype=object)"
      ]
     },
     "execution_count": 438,
     "metadata": {},
     "output_type": "execute_result"
    }
   ],
   "source": [
    "df_dupak_all.jenjang.unique()"
   ]
  },
  {
   "cell_type": "code",
   "execution_count": 439,
   "id": "fe7275b1-d047-4b31-87f9-46a4898fed29",
   "metadata": {},
   "outputs": [],
   "source": [
    "def merge_jenjang_and_code(row):\n",
    "    jenjang=row.jenjang\n",
    "    code=row.activity_code\n",
    "    new_code=\"_\".join([jenjang,code])\n",
    "    return new_code\n",
    "\n",
    "df_dupak_all.activity_code=df_dupak_all.apply(merge_jenjang_and_code,axis=1)\n",
    "df_dupak_all.to_csv(\"data/dupak_all.csv\",sep=\";\")"
   ]
  },
  {
   "cell_type": "code",
   "execution_count": 441,
   "id": "24323d75-177a-4c16-bf7b-1d2f2656d741",
   "metadata": {},
   "outputs": [
    {
     "data": {
      "text/plain": [
       "True"
      ]
     },
     "execution_count": 441,
     "metadata": {},
     "output_type": "execute_result"
    }
   ],
   "source": [
    "df_dupak_all.activity_code.unique().shape[0]==df_dupak_all.activity_code.shape[0]"
   ]
  },
  {
   "cell_type": "code",
   "execution_count": 442,
   "id": "95c2ef70-5d0f-4505-91cb-4822d6e000a5",
   "metadata": {},
   "outputs": [
    {
     "data": {
      "text/plain": [
       "0    Mahir_I.A.1\n",
       "1    Mahir_I.B.1\n",
       "2    Mahir_I.B.2\n",
       "3    Mahir_I.B.3\n",
       "Name: activity_code, dtype: object"
      ]
     },
     "execution_count": 442,
     "metadata": {},
     "output_type": "execute_result"
    }
   ],
   "source": [
    "df_dupak_all.activity_code.head(4)"
   ]
  },
  {
   "cell_type": "markdown",
   "id": "68b77a2f-31e7-45cb-9982-dde2fe0cc4e7",
   "metadata": {},
   "source": [
    "# get tfidf"
   ]
  },
  {
   "cell_type": "code",
   "execution_count": 33,
   "id": "25c13a39-e463-4424-8aec-7f80618021c4",
   "metadata": {},
   "outputs": [],
   "source": [
    "# nltk.download('stopwords')\n",
    "# nltk.download('punkt')\n",
    "# len(activity_cleansed)"
   ]
  },
  {
   "cell_type": "code",
   "execution_count": 443,
   "id": "22a977e4-4917-4949-8033-965750314be3",
   "metadata": {},
   "outputs": [
    {
     "data": {
      "text/plain": [
       "Index(['activities', 'activity_code', 'ak', 'batas_penilaian', 'jenjang',\n",
       "       'kegiatan', 'nomor_sub_unsur', 'nomor_unsur', 'sub_unsur', 'unsur'],\n",
       "      dtype='object')"
      ]
     },
     "execution_count": 443,
     "metadata": {},
     "output_type": "execute_result"
    }
   ],
   "source": [
    "df_dupak_all.columns"
   ]
  },
  {
   "cell_type": "code",
   "execution_count": 444,
   "id": "6dce0e92-52dc-4130-b263-d8b035458b56",
   "metadata": {},
   "outputs": [
    {
     "name": "stderr",
     "output_type": "stream",
     "text": [
      "100%|██████████| 336/336 [00:23<00:00, 14.57it/s]\n"
     ]
    }
   ],
   "source": [
    "tokenizer = RegexpTokenizer(r'[a-zA-Z]+')\n",
    "factory = StemmerFactory()\n",
    "stemmer = factory.create_stemmer()\n",
    "# default_stopwords = StopWordRemoverFactory().get_stop_words()\n",
    "# additional_stopwords=[\"(\",\")\",\"senin\",\"selasa\",\"rabu\",\"kamis\",\"jumat\",\"sabtu\",\"minggu\"]\n",
    "# dictionary=ArrayDictionary(default_stopwords+additional_stopwords)\n",
    "# id_stopword = StopWordRemover(dictionary)\n",
    "tfidf_model_fp=\"model/tfdif_vectorizer.pkl\"\n",
    "en_stemmer = PorterStemmer()\n",
    "en_stopwords = nltk.corpus.stopwords.words('english')\n",
    "\n",
    "df_id_stopword=pd.read_csv(\"data/stopwordbahasa.csv\",header=None)\n",
    "id_stopword=df_id_stopword[0].to_list()\n",
    "\n",
    "def tokenize_clean(text):\n",
    "    if(text):\n",
    "        tokens = [word.lower() for sent in nltk.sent_tokenize(text) for word\n",
    "            in nltk.word_tokenize(sent)]\n",
    "        #clean token from numeric and other character like puntuation\n",
    "        filtered_tokens = []\n",
    "        for token in tokens:\n",
    "            txt=re.findall('[a-zA-Z]{3,}', token)\n",
    "            if txt:\n",
    "                filtered_tokens.append(txt[0])       \n",
    "        return filtered_tokens\n",
    "\n",
    "def remove_stopwords(tokenized_text):\n",
    "    if(tokenized_text):\n",
    "        cleaned_token = []\n",
    "        for token in tokenized_text:\n",
    "            if token not in id_stopword:\n",
    "                cleaned_token.append(token)\n",
    "\n",
    "        return cleaned_token\n",
    "\n",
    "def stem_text(tokenized_text):\n",
    "    if (tokenized_text):\n",
    "        stems = []\n",
    "        for token in tokenized_text:\n",
    "            stems.append(stemmer.stem(token))\n",
    "\n",
    "        return stems\n",
    "\n",
    "def remove_en_stopwords(text):\n",
    "    if text:\n",
    "        return [token for token in text if token not in en_stopwords]\n",
    "\n",
    "def stem_en_text(text):\n",
    "    if text:\n",
    "        return [en_stemmer.stem(word) for word in text]\n",
    "\n",
    "def revome_slash_n(text):\n",
    "    if text:\n",
    "        return [str(txt).replace(\"\\n\",\" \") for txt in text]\n",
    "\n",
    "def lower_text(text):\n",
    "    if text:\n",
    "        return [str(txt).lower() for txt in text]\n",
    "\n",
    "def make_sentence(arr):\n",
    "    if arr:\n",
    "        return \" \".join(arr)\n",
    "\n",
    "def text_preprocessing(text):\n",
    "    if text:\n",
    "        prep01 = tokenize_clean(text)\n",
    "        prep02 = remove_stopwords(prep01)\n",
    "        prep03 = stem_text(prep02)\n",
    "        prep04 = remove_en_stopwords(prep03)\n",
    "        prep05 = stem_en_text(prep04)\n",
    "        prep06 = revome_slash_n(prep05)\n",
    "        prep07 = lower_text(prep06)\n",
    "        prep08 = make_sentence(prep07)\n",
    "        return prep08\n",
    "\n",
    "tqdm.pandas()\n",
    "df_dupak_all=df_dupak_all[df_dupak_all.ak.notna()]\n",
    "df_dupak_all[\"activity_cleansed\"]=df_dupak_all.activities.progress_apply(text_preprocessing)\n",
    "activity_cleansed=df_dupak_all.activity_cleansed.to_list()\n",
    "activity_codes=df_dupak_all.activity_code.to_list()\n",
    "\n",
    "# tfidf_vectorizer=TfidfVectorizer(use_idf=True) \n",
    "# tfidf_vecorizer=TfidfVectorizer(max_df=0.8,             # terms with document frequency value > 0.8 will be removed\n",
    "#                     min_df=0.2,             # terms with document frequency value < 0.2 will be removed\n",
    "#                     max_features=200000,    # create maximum 200.000 vocabulary that only consider the top max_features ordered by term frequency across the corpus.\n",
    "#                     stop_words = stopwords, # stopwords list\n",
    "#                     use_idf=True,           # enable inverse-document-frequency reweighting\n",
    "#                     tokenizer=text_preprocessing, # override the string tokenization step by using text_prepocessing function \n",
    "#                     ngram_range=(1,1))\n"
   ]
  },
  {
   "cell_type": "markdown",
   "id": "373359c7-8bc2-4da0-b8ca-8dbd32f9a481",
   "metadata": {},
   "source": [
    "# train tfidf"
   ]
  },
  {
   "cell_type": "code",
   "execution_count": 448,
   "id": "e7a9867c-8aaf-47cb-9616-e2b924423015",
   "metadata": {},
   "outputs": [
    {
     "data": {
      "text/plain": [
       "(0    Melakukan pemenuhan permintaan dan layanan teknologi informasi\n",
       " 1            Melakukan pengumpulan informasi mengenai data instansi\n",
       " 2            Melakukan pengadministrasian kegiatan tata kelola data\n",
       " 3                Melakukan pencatatan permasalahan pengelolaan data\n",
       " 4                     Melakukan perawatan arsitektur teknologi data\n",
       " Name: activities, dtype: object,\n",
       " ['penuh minta layan teknolog informasi',\n",
       "  'kumpul informasi data instansi',\n",
       "  'administrasi giat tata kelola data',\n",
       "  'catat masalah kelola data',\n",
       "  'awat arsitektur teknolog data'])"
      ]
     },
     "execution_count": 448,
     "metadata": {},
     "output_type": "execute_result"
    }
   ],
   "source": [
    "df_dupak_all.activities.head(5),activity_cleansed[:5]"
   ]
  },
  {
   "cell_type": "code",
   "execution_count": 449,
   "id": "1f78641c-00d3-4d82-a45f-20e01c015f22",
   "metadata": {},
   "outputs": [
    {
     "name": "stdout",
     "output_type": "stream",
     "text": [
      "SAVED tfidf vectorizer to  model/tfdif_vectorizer.pkl\n"
     ]
    }
   ],
   "source": [
    "tfidf_vectorizer=TfidfVectorizer(use_idf=True,ngram_range=(1,2))\n",
    "fitted_tfidf_vectorizer = tfidf_vectorizer.fit(activity_cleansed)\n",
    "with open(tfidf_model_fp, \"wb\") as fo:\n",
    "        pickle.dump(fitted_tfidf_vectorizer, fo)\n",
    "        print(\"SAVED tfidf vectorizer to \", tfidf_model_fp)\n"
   ]
  },
  {
   "cell_type": "markdown",
   "id": "5d188885-b402-43be-9869-5d283fc8d7c2",
   "metadata": {},
   "source": [
    "# transform activities to tfidf vector"
   ]
  },
  {
   "cell_type": "code",
   "execution_count": 450,
   "id": "21affaaa-d8ef-4773-a2e4-0cfffd9c5293",
   "metadata": {},
   "outputs": [
    {
     "name": "stderr",
     "output_type": "stream",
     "text": [
      "100%|██████████| 336/336 [00:00<00:00, 626.94it/s]\n"
     ]
    }
   ],
   "source": [
    "def vectorize_tfidf(txt):\n",
    "    densematrix=fitted_tfidf_vectorizer.transform([txt])\n",
    "    skillvecs=densematrix.toarray().tolist()\n",
    "    vector=np.array(skillvecs[0]).astype('float32').tolist()\n",
    "#     vector=np.expand_dims(vector,0).tolist()\n",
    "    return vector\n",
    "\n",
    "df_dupak_all[\"tfidf_vec\"]=df_dupak_all.activity_cleansed.progress_apply(vectorize_tfidf)\n",
    "df_dupak_all.to_csv(\"data/dupak_all.csv\",sep=\";\")"
   ]
  },
  {
   "cell_type": "markdown",
   "id": "f1f461e8-7ca7-4d3b-8370-b07be30e7d2a",
   "metadata": {},
   "source": [
    "# train and query using KNN"
   ]
  },
  {
   "cell_type": "code",
   "execution_count": 451,
   "id": "dea605d9-c021-4d70-9ee3-9a51f293e728",
   "metadata": {},
   "outputs": [
    {
     "data": {
      "text/plain": [
       "RangeIndex(start=0, stop=336, step=1)"
      ]
     },
     "execution_count": 451,
     "metadata": {},
     "output_type": "execute_result"
    }
   ],
   "source": [
    "df_dupak_all.reset_index(inplace=True, drop=True)\n",
    "df_dupak_all.index"
   ]
  },
  {
   "cell_type": "code",
   "execution_count": 452,
   "id": "c3fa942b-5604-42a8-8dcd-7056980a07dd",
   "metadata": {},
   "outputs": [
    {
     "name": "stdout",
     "output_type": "stream",
     "text": [
      "train KNN DONE. Model saved in  model/knn.pkl\n",
      "Index saved in  model/knn_idx.pkl\n"
     ]
    }
   ],
   "source": [
    "knn_model_path=\"model/knn.pkl\"\n",
    "knn_index_path=\"model/knn_idx.pkl\"\n",
    "knn = KNeighborsClassifier()\n",
    "knn_index={}\n",
    "activities=df_dupak_all.activities.to_list()\n",
    "vecs=df_dupak_all.tfidf_vec.to_list()\n",
    "idxs=df_dupak_all.index.to_list()\n",
    "for i,val in enumerate(activities):\n",
    "    knn_index[i]=val\n",
    "knn.fit(vecs, idxs)\n",
    "with open(knn_model_path,\"wb\") as fi:\n",
    "  pickle.dump(knn,fi)\n",
    "  print(\"train KNN DONE. Model saved in \",knn_model_path)\n",
    "with open(knn_index_path,\"wb\") as fi:\n",
    "  pickle.dump(knn_index,fi)\n",
    "  print(\"Index saved in \",knn_index_path)"
   ]
  },
  {
   "cell_type": "markdown",
   "id": "7c2a6669-24f3-4dad-b90e-8b7951aa9766",
   "metadata": {},
   "source": [
    "# query using cosine similarity"
   ]
  },
  {
   "cell_type": "code",
   "execution_count": 453,
   "id": "0f415983-9936-4fd8-8060-cd49bc433887",
   "metadata": {},
   "outputs": [
    {
     "name": "stdout",
     "output_type": "stream",
     "text": [
      "[0.0, 0.0, 0.0, 0.0, 0.0]\n"
     ]
    },
    {
     "data": {
      "text/html": [
       "<div>\n",
       "<style scoped>\n",
       "    .dataframe tbody tr th:only-of-type {\n",
       "        vertical-align: middle;\n",
       "    }\n",
       "\n",
       "    .dataframe tbody tr th {\n",
       "        vertical-align: top;\n",
       "    }\n",
       "\n",
       "    .dataframe thead th {\n",
       "        text-align: right;\n",
       "    }\n",
       "</style>\n",
       "<table border=\"1\" class=\"dataframe\">\n",
       "  <thead>\n",
       "    <tr style=\"text-align: right;\">\n",
       "      <th></th>\n",
       "      <th>index</th>\n",
       "      <th>Subject</th>\n",
       "      <th>Score</th>\n",
       "    </tr>\n",
       "  </thead>\n",
       "  <tbody>\n",
       "    <tr>\n",
       "      <th>0</th>\n",
       "      <td>317</td>\n",
       "      <td>Menjadi Reviewer Karya Tulis Ilmiah, Jurnal, Konferensi, Forum Ilmiah\\ndan Lain-Lain di Bidang Teknologi Informasi.Lamanya kurang dari 30 jam</td>\n",
       "      <td>0.466979</td>\n",
       "    </tr>\n",
       "    <tr>\n",
       "      <th>1</th>\n",
       "      <td>318</td>\n",
       "      <td>Menjadi Editor Karya Tulis Ilmiah, Jurnal, Konferensi, Forum Ilmiah\\ndan Lain-Lain di Bidang Teknologi Informasi.Lamanya kurang dari 30 jam</td>\n",
       "      <td>0.466979</td>\n",
       "    </tr>\n",
       "    <tr>\n",
       "      <th>2</th>\n",
       "      <td>281</td>\n",
       "      <td>dalam bentuk buku/majalah ilmiah internasional yang diterbitkan internasional yang terindek</td>\n",
       "      <td>0.357586</td>\n",
       "    </tr>\n",
       "    <tr>\n",
       "      <th>3</th>\n",
       "      <td>282</td>\n",
       "      <td>dalam bentuk buku/majalah ilmiah internasional yang diterbitkan nasional</td>\n",
       "      <td>0.319940</td>\n",
       "    </tr>\n",
       "    <tr>\n",
       "      <th>4</th>\n",
       "      <td>283</td>\n",
       "      <td>dalam bentuk buku/majalah ilmiah internasional yang diterbitkan dan diakui oleh organisasi profesi dan Instansi Pembina</td>\n",
       "      <td>0.241575</td>\n",
       "    </tr>\n",
       "    <tr>\n",
       "      <th>5</th>\n",
       "      <td>327</td>\n",
       "      <td>Tingkat Internasional</td>\n",
       "      <td>0.202450</td>\n",
       "    </tr>\n",
       "    <tr>\n",
       "      <th>6</th>\n",
       "      <td>290</td>\n",
       "      <td>Menyampaikan prasaran berupa tinjauan, gagasan dan atau ulasan ilmiah dalam pertemuan ilmiah.dalam bentuk makalah</td>\n",
       "      <td>0.121250</td>\n",
       "    </tr>\n",
       "    <tr>\n",
       "      <th>7</th>\n",
       "      <td>293</td>\n",
       "      <td>dalam majalah ilmiah yang diakui oleh organisasi\\nprofesi dan Instansi Pembina</td>\n",
       "      <td>0.077758</td>\n",
       "    </tr>\n",
       "    <tr>\n",
       "      <th>8</th>\n",
       "      <td>287</td>\n",
       "      <td>dalam majalah ilmiah yang diakui oleh organisasi\\nprofesi dan Instansi Pembina</td>\n",
       "      <td>0.077758</td>\n",
       "    </tr>\n",
       "    <tr>\n",
       "      <th>9</th>\n",
       "      <td>89</td>\n",
       "      <td>Menyusun strategi implementasi Enterprise Architecture (EA )</td>\n",
       "      <td>0.000000</td>\n",
       "    </tr>\n",
       "  </tbody>\n",
       "</table>\n",
       "</div>"
      ],
      "text/plain": [
       "  index  \\\n",
       "0   317   \n",
       "1   318   \n",
       "2   281   \n",
       "3   282   \n",
       "4   283   \n",
       "5   327   \n",
       "6   290   \n",
       "7   293   \n",
       "8   287   \n",
       "9    89   \n",
       "\n",
       "                                                                                                                                         Subject  \\\n",
       "0  Menjadi Reviewer Karya Tulis Ilmiah, Jurnal, Konferensi, Forum Ilmiah\\ndan Lain-Lain di Bidang Teknologi Informasi.Lamanya kurang dari 30 jam   \n",
       "1    Menjadi Editor Karya Tulis Ilmiah, Jurnal, Konferensi, Forum Ilmiah\\ndan Lain-Lain di Bidang Teknologi Informasi.Lamanya kurang dari 30 jam   \n",
       "2                                                    dalam bentuk buku/majalah ilmiah internasional yang diterbitkan internasional yang terindek   \n",
       "3                                                                       dalam bentuk buku/majalah ilmiah internasional yang diterbitkan nasional   \n",
       "4                        dalam bentuk buku/majalah ilmiah internasional yang diterbitkan dan diakui oleh organisasi profesi dan Instansi Pembina   \n",
       "5                                                                                                                          Tingkat Internasional   \n",
       "6                              Menyampaikan prasaran berupa tinjauan, gagasan dan atau ulasan ilmiah dalam pertemuan ilmiah.dalam bentuk makalah   \n",
       "7                                                                 dalam majalah ilmiah yang diakui oleh organisasi\\nprofesi dan Instansi Pembina   \n",
       "8                                                                 dalam majalah ilmiah yang diakui oleh organisasi\\nprofesi dan Instansi Pembina   \n",
       "9                                                                                   Menyusun strategi implementasi Enterprise Architecture (EA )   \n",
       "\n",
       "      Score  \n",
       "0  0.466979  \n",
       "1  0.466979  \n",
       "2  0.357586  \n",
       "3  0.319940  \n",
       "4  0.241575  \n",
       "5  0.202450  \n",
       "6  0.121250  \n",
       "7  0.077758  \n",
       "8  0.077758  \n",
       "9  0.000000  "
      ]
     },
     "execution_count": 453,
     "metadata": {},
     "output_type": "execute_result"
    }
   ],
   "source": [
    "def cosine_sim(a, b):\n",
    "    cos_sim = np.dot(a, b)/(np.linalg.norm(a)*np.linalg.norm(b))\n",
    "    return cos_sim\n",
    "\n",
    "def cosine_similarity_T(k, query):\n",
    "    preprocessed_query = re.sub(\"\\W+\", \" \", query).strip()\n",
    "    q_cleansed=text_preprocessing(preprocessed_query)\n",
    "    q_vector=vectorize_tfidf(q_cleansed)\n",
    "    d_cosines = []\n",
    "    for i,vec in enumerate(df_dupak_all.tfidf_vec.to_list()):\n",
    "        d_cosines.append(cosine_sim(q_vector, vec))\n",
    "    print(d_cosines[:5])\n",
    "                    \n",
    "    out = np.array(d_cosines).argsort()[-k:][::-1]\n",
    "    d_cosines.sort()\n",
    "    a = pd.DataFrame()\n",
    "    for i,index in enumerate(out):\n",
    "        a.loc[i,'index'] = str(index)\n",
    "        a.loc[i,'Subject'] = activities[index]\n",
    "    for j,simScore in enumerate(d_cosines[-k:][::-1]):\n",
    "        a.loc[j,'Score'] = simScore\n",
    "    return a\n",
    "\n",
    "cosine_similarity_T(10,\"karya tulis ilmiah internasional\")"
   ]
  },
  {
   "cell_type": "markdown",
   "id": "8a6286c3-98fa-4797-b2d2-b3c7f04c6233",
   "metadata": {},
   "source": [
    "# compare cosine vs knn searching"
   ]
  },
  {
   "cell_type": "code",
   "execution_count": 454,
   "id": "734f6a75-576e-4474-8035-d268e5c9bfae",
   "metadata": {},
   "outputs": [
    {
     "name": "stdout",
     "output_type": "stream",
     "text": [
      "[0.0, 0.0, 0.0, 0.0, 0.0]\n",
      "CPU times: user 284 ms, sys: 16.2 ms, total: 300 ms\n",
      "Wall time: 283 ms\n"
     ]
    },
    {
     "data": {
      "text/html": [
       "<div>\n",
       "<style scoped>\n",
       "    .dataframe tbody tr th:only-of-type {\n",
       "        vertical-align: middle;\n",
       "    }\n",
       "\n",
       "    .dataframe tbody tr th {\n",
       "        vertical-align: top;\n",
       "    }\n",
       "\n",
       "    .dataframe thead th {\n",
       "        text-align: right;\n",
       "    }\n",
       "</style>\n",
       "<table border=\"1\" class=\"dataframe\">\n",
       "  <thead>\n",
       "    <tr style=\"text-align: right;\">\n",
       "      <th></th>\n",
       "      <th>index</th>\n",
       "      <th>Subject</th>\n",
       "      <th>Score</th>\n",
       "    </tr>\n",
       "  </thead>\n",
       "  <tbody>\n",
       "    <tr>\n",
       "      <th>0</th>\n",
       "      <td>317</td>\n",
       "      <td>Menjadi Reviewer Karya Tulis Ilmiah, Jurnal, Konferensi, Forum Ilmiah\\ndan Lain-Lain di Bidang Teknologi Informasi.Lamanya kurang dari 30 jam</td>\n",
       "      <td>0.466979</td>\n",
       "    </tr>\n",
       "    <tr>\n",
       "      <th>1</th>\n",
       "      <td>318</td>\n",
       "      <td>Menjadi Editor Karya Tulis Ilmiah, Jurnal, Konferensi, Forum Ilmiah\\ndan Lain-Lain di Bidang Teknologi Informasi.Lamanya kurang dari 30 jam</td>\n",
       "      <td>0.466979</td>\n",
       "    </tr>\n",
       "    <tr>\n",
       "      <th>2</th>\n",
       "      <td>281</td>\n",
       "      <td>dalam bentuk buku/majalah ilmiah internasional yang diterbitkan internasional yang terindek</td>\n",
       "      <td>0.357586</td>\n",
       "    </tr>\n",
       "    <tr>\n",
       "      <th>3</th>\n",
       "      <td>282</td>\n",
       "      <td>dalam bentuk buku/majalah ilmiah internasional yang diterbitkan nasional</td>\n",
       "      <td>0.319940</td>\n",
       "    </tr>\n",
       "    <tr>\n",
       "      <th>4</th>\n",
       "      <td>283</td>\n",
       "      <td>dalam bentuk buku/majalah ilmiah internasional yang diterbitkan dan diakui oleh organisasi profesi dan Instansi Pembina</td>\n",
       "      <td>0.241575</td>\n",
       "    </tr>\n",
       "  </tbody>\n",
       "</table>\n",
       "</div>"
      ],
      "text/plain": [
       "  index  \\\n",
       "0   317   \n",
       "1   318   \n",
       "2   281   \n",
       "3   282   \n",
       "4   283   \n",
       "\n",
       "                                                                                                                                         Subject  \\\n",
       "0  Menjadi Reviewer Karya Tulis Ilmiah, Jurnal, Konferensi, Forum Ilmiah\\ndan Lain-Lain di Bidang Teknologi Informasi.Lamanya kurang dari 30 jam   \n",
       "1    Menjadi Editor Karya Tulis Ilmiah, Jurnal, Konferensi, Forum Ilmiah\\ndan Lain-Lain di Bidang Teknologi Informasi.Lamanya kurang dari 30 jam   \n",
       "2                                                    dalam bentuk buku/majalah ilmiah internasional yang diterbitkan internasional yang terindek   \n",
       "3                                                                       dalam bentuk buku/majalah ilmiah internasional yang diterbitkan nasional   \n",
       "4                        dalam bentuk buku/majalah ilmiah internasional yang diterbitkan dan diakui oleh organisasi profesi dan Instansi Pembina   \n",
       "\n",
       "      Score  \n",
       "0  0.466979  \n",
       "1  0.466979  \n",
       "2  0.357586  \n",
       "3  0.319940  \n",
       "4  0.241575  "
      ]
     },
     "execution_count": 454,
     "metadata": {},
     "output_type": "execute_result"
    }
   ],
   "source": [
    "%%time\n",
    "cosine_similarity_T(5,\"karya tulis ilmiah internasional\")"
   ]
  },
  {
   "cell_type": "code",
   "execution_count": 455,
   "id": "51ebcd5a-3b7d-4bfd-829d-6e971a31abc7",
   "metadata": {},
   "outputs": [
    {
     "name": "stdout",
     "output_type": "stream",
     "text": [
      "Q:karya tuli ilmiah internasion\n",
      "idx:317, distance:1.0324931552138348-->0)Menjadi Reviewer Karya Tulis Ilmiah, Jurnal, Konferensi, Forum Ilmiah\n",
      "dan Lain-Lain di Bidang Teknologi Informasi.Lamanya kurang dari 30 jam\n",
      "idx:318, distance:1.0324931552138348-->1)Menjadi Editor Karya Tulis Ilmiah, Jurnal, Konferensi, Forum Ilmiah\n",
      "dan Lain-Lain di Bidang Teknologi Informasi.Lamanya kurang dari 30 jam\n",
      "idx:281, distance:1.133502204488936-->2)dalam bentuk buku/majalah ilmiah internasional yang diterbitkan internasional yang terindek\n",
      "idx:282, distance:1.1662417687992928-->3)dalam bentuk buku/majalah ilmiah internasional yang diterbitkan nasional\n",
      "idx:283, distance:1.2316047194913837-->4)dalam bentuk buku/majalah ilmiah internasional yang diterbitkan dan diakui oleh organisasi profesi dan Instansi Pembina\n",
      "CPU times: user 15.1 ms, sys: 3.46 ms, total: 18.5 ms\n",
      "Wall time: 7.8 ms\n"
     ]
    }
   ],
   "source": [
    "%%time\n",
    "q=\"karya tulis ilmiah internasional\"\n",
    "q_cleansed=text_preprocessing(q)\n",
    "q_vector=vectorize_tfidf(q_cleansed)\n",
    "# densematrix = fitted_tfidf_vectorizer.transform([text_preprocessing(q)])\n",
    "# skillvecs=densematrix.toarray()\n",
    "# vector=np.array(skillvecs[0]).astype('float32')\n",
    "# vector=np.expand_dims(vector,0)\n",
    "(distances, indices) = knn.kneighbors([q_vector],n_neighbors=5)\n",
    "indices = indices.tolist()\n",
    "res=[knn_index[x] for x in indices[0]]\n",
    "print(\"Q:{}\".format(q_cleansed))\n",
    "for i,x in enumerate(res):\n",
    "    print(\"idx:{}, distance:{}-->{}){}\".format(indices[0][i],distances[0][i],i,x))"
   ]
  },
  {
   "cell_type": "markdown",
   "id": "34811bc0-3cf4-4251-ae85-822ff20219ed",
   "metadata": {},
   "source": [
    "# test prediction feature"
   ]
  },
  {
   "cell_type": "code",
   "execution_count": 456,
   "id": "742e2e08-0196-480e-8405-922de1c6ce1d",
   "metadata": {},
   "outputs": [
    {
     "name": "stdout",
     "output_type": "stream",
     "text": [
      "CPU times: user 17.5 ms, sys: 4.28 ms, total: 21.8 ms\n",
      "Wall time: 8.48 ms\n"
     ]
    },
    {
     "data": {
      "text/plain": [
       "'dalam bentuk buku/majalah ilmiah internasional yang diterbitkan internasional yang terindek'"
      ]
     },
     "execution_count": 456,
     "metadata": {},
     "output_type": "execute_result"
    }
   ],
   "source": [
    "%%time\n",
    "q2=\"membuat karya tulis ilmiah internasional\"\n",
    "q_cleansed2=text_preprocessing(q2)\n",
    "q_vector2=vectorize_tfidf(q_cleansed2)\n",
    "predct_idx=knn.predict([q_vector2])\n",
    "knn_index[list(predct_idx)[0]]"
   ]
  },
  {
   "cell_type": "code",
   "execution_count": 17,
   "id": "2a2a8d62-c7a7-47f0-9306-7ea2354de0e2",
   "metadata": {},
   "outputs": [],
   "source": [
    "# !jupyter nbextension install --user https://rawgithub.com/minrk/ipython_extensions/master/nbextensions/toc.js\n",
    "# !curl -L https://rawgithub.com/minrk/ipython_extensions/master/nbextensions/toc.css > $(jupyter --data-dir)/nbextensions/toc.css\n",
    "# !jupyter nbextension enable toc"
   ]
  },
  {
   "cell_type": "markdown",
   "id": "d4adfa80-e5db-4cf0-9df9-e1428ecf548a",
   "metadata": {},
   "source": [
    "# enrich using synonim"
   ]
  },
  {
   "cell_type": "markdown",
   "id": "7966ad36-f9f4-46dc-93d4-bf1fe985e6a3",
   "metadata": {},
   "source": [
    "## load kamus indo"
   ]
  },
  {
   "cell_type": "code",
   "execution_count": 457,
   "id": "9202be5c-3101-43c8-b422-0fdf259faf28",
   "metadata": {},
   "outputs": [],
   "source": [
    "import json\n",
    "kamus={}\n",
    "with open(\"data/dict.json\",\"r\") as fi:\n",
    "    kamus=json.load(fi)"
   ]
  },
  {
   "cell_type": "code",
   "execution_count": 458,
   "id": "9770caf0-286a-43d5-9f64-6c0c05b33da3",
   "metadata": {},
   "outputs": [
    {
     "data": {
      "text/plain": [
       "{'tag': 'v',\n",
       " 'sinonim': ['hingga ke',\n",
       "  'mencapai',\n",
       "  'mencecah',\n",
       "  'menjejak',\n",
       "  'menyentuh',\n",
       "  'sampai ke']}"
      ]
     },
     "execution_count": 458,
     "metadata": {},
     "output_type": "execute_result"
    }
   ],
   "source": [
    "kamus[\"mengaras\"]"
   ]
  },
  {
   "cell_type": "markdown",
   "id": "d14a94bc-36d0-4d8c-a9ee-2b665b8d4bff",
   "metadata": {},
   "source": [
    "# normalize keys of kamus using same preprocessing steps as before"
   ]
  },
  {
   "cell_type": "code",
   "execution_count": 464,
   "id": "1ae14d22-53d5-495f-a050-44de16b64337",
   "metadata": {},
   "outputs": [
    {
     "name": "stderr",
     "output_type": "stream",
     "text": [
      "100%|██████████| 20139/20139 [00:43<00:00, 458.97it/s]\n"
     ]
    }
   ],
   "source": [
    "from tqdm import tqdm\n",
    "from time import sleep\n",
    "from datetime import datetime\n",
    "from uuid import uuid4\n",
    "    \n",
    "def get_unique_code():\n",
    "    return datetime.now().strftime('%Y%m-%d%H-%M%S-') + str(uuid4())\n",
    "\n",
    "kamus_normalized={text_preprocessing(k):{} for k,v in kamus.items()}\n",
    "# pbar=tqdm(kamus.items())\n",
    "for k,v in tqdm(kamus.items()):\n",
    "    try:\n",
    "#         pbar.set_description(\"Normalizing kamus on key:{}\".format(k),refresh=True)\n",
    "        new_k=text_preprocessing(k)\n",
    "        code=get_unique_code()\n",
    "        kamus[k][\"code\"]=code\n",
    "#         kamus_normalized[new_k]=kamus[k]\n",
    "        kamus_normalized[new_k][\"code\"]=code\n",
    "        kamus_normalized[new_k][\"sinonim\"]=[text_preprocessing(syn) for syn in kamus[k][\"sinonim\"]]  \n",
    "    except Exception as ex:\n",
    "        print(\"error on key:{}-->{}\".format(k,str(ex)))\n",
    "        continue\n",
    "#     print(\"{}:{}\".format(k,v))\n",
    "with open(\"data/kamus_normalized.json\",\"w\") as fo:\n",
    "    json.dump(kamus_normalized,fo)"
   ]
  },
  {
   "cell_type": "code",
   "execution_count": 465,
   "id": "80424f9f-3b6d-4588-a8d6-804cb897a5f6",
   "metadata": {},
   "outputs": [
    {
     "data": {
      "text/plain": [
       "({'tag': 'v',\n",
       "  'sinonim': ['hingga ke',\n",
       "   'mencapai',\n",
       "   'mencecah',\n",
       "   'menjejak',\n",
       "   'menyentuh',\n",
       "   'sampai ke'],\n",
       "  'code': '202208-1123-4738-6e21679a-276f-4ad3-ac14-faed03749690'},\n",
       " {'code': '202208-1123-4818-44fdc79d-6d2d-4f16-9954-594ae9524e14',\n",
       "  'sinonim': ['bari', 'pawai']})"
      ]
     },
     "execution_count": 465,
     "metadata": {},
     "output_type": "execute_result"
    }
   ],
   "source": [
    "kamus[\"mengaras\"],kamus_normalized[\"ara\"]"
   ]
  },
  {
   "cell_type": "code",
   "execution_count": 467,
   "id": "897840a7-d6e6-48eb-9ac0-b694d4658cce",
   "metadata": {},
   "outputs": [
    {
     "data": {
      "text/plain": [
       "('perarakan',\n",
       " 'ara',\n",
       " {'tag': 'n',\n",
       "  'sinonim': ['perbarisan', 'pawai'],\n",
       "  'code': '202208-1123-4818-44fdc79d-6d2d-4f16-9954-594ae9524e14'},\n",
       " {'code': '202208-1123-4818-44fdc79d-6d2d-4f16-9954-594ae9524e14',\n",
       "  'sinonim': ['bari', 'pawai']})"
      ]
     },
     "execution_count": 467,
     "metadata": {},
     "output_type": "execute_result"
    }
   ],
   "source": [
    "def check_kamus_by_code(code):\n",
    "    res={}\n",
    "    key=\"\"\n",
    "    res2={}\n",
    "    key2=\"\"\n",
    "    for k,v in kamus.items():\n",
    "        if v[\"code\"]==code:\n",
    "            res=kamus[k]\n",
    "            key=k\n",
    "    for k,v in kamus_normalized.items():\n",
    "        if v[\"code\"]==code:\n",
    "            res2=kamus_normalized[k]\n",
    "            key2=k\n",
    "    return key,key2,res,res2\n",
    "check_kamus_by_code(\"202208-1123-4818-44fdc79d-6d2d-4f16-9954-594ae9524e14\")"
   ]
  },
  {
   "cell_type": "code",
   "execution_count": 468,
   "id": "27cd37a5-64b8-4d5d-b4bd-b64ddc135fd3",
   "metadata": {},
   "outputs": [
    {
     "data": {
      "text/plain": [
       "('202208-1123-4738-10fb688b-6512-4412-a5c6-532fe301dbf4',\n",
       " '202208-1123-4738-10fb688b-6512-4412-a5c6-532fe301dbf4')"
      ]
     },
     "execution_count": 468,
     "metadata": {},
     "output_type": "execute_result"
    }
   ],
   "source": [
    "kamus[\"siuman\"][\"code\"],kamus_normalized[\"siuman\"][\"code\"]"
   ]
  },
  {
   "cell_type": "code",
   "execution_count": 469,
   "id": "2186dcf4-1779-466d-a17c-3876ed36ab1f",
   "metadata": {},
   "outputs": [
    {
     "data": {
      "text/plain": [
       "(20139, 11486)"
      ]
     },
     "execution_count": 469,
     "metadata": {},
     "output_type": "execute_result"
    }
   ],
   "source": [
    "len(kamus.keys()),len(kamus_normalized.keys())"
   ]
  },
  {
   "cell_type": "markdown",
   "id": "e905bce1-e410-4532-8925-16854cfa2e16",
   "metadata": {},
   "source": [
    "# load function to grab synonim from sinonimkata.com in case token not found in offline kamus"
   ]
  },
  {
   "cell_type": "code",
   "execution_count": 470,
   "id": "c72095fd-5621-4fb6-b518-8c32b49e7910",
   "metadata": {},
   "outputs": [
    {
     "data": {
      "text/plain": [
       "['buku harian', 'kronik', 'buletin', 'harian', 'koran', 'surat kabar']"
      ]
     },
     "execution_count": 470,
     "metadata": {},
     "output_type": "execute_result"
    }
   ],
   "source": [
    "def get_synonims_from_sinonimkata_com(q):\n",
    "    if not q:\n",
    "        return\n",
    "    myobj = {}#{'q': 'jurnal'}\n",
    "    synonim_wrap=\"rel='nofollow'>[a-zA-Z0-9\\s]+</a>\"\n",
    "    url = 'http://www.sinonimkata.com/search.php?q='+q\n",
    "    x = requests.post(url, json = myobj)\n",
    "    responds=re.findall(synonim_wrap,x.text)\n",
    "    token_wrap=\"rel='nofollow'>(.*)</a>\"\n",
    "    syn_tokens=[]\n",
    "    for token in responds:\n",
    "        t=re.findall(token_wrap,token)\n",
    "        if t:\n",
    "            syn_tokens.append(t[0])\n",
    "#     print(\"get syn for {}-->{}\".format(q,\",\".join(syn_tokens)))\n",
    "    return syn_tokens\n",
    "get_synonims_from_sinonimkata_com(\"jurnal\")"
   ]
  },
  {
   "cell_type": "markdown",
   "id": "bf6d21bb-9f06-492b-b7e4-453696282941",
   "metadata": {},
   "source": [
    "# cleanse kamus_normaized from null synonyms"
   ]
  },
  {
   "cell_type": "code",
   "execution_count": 472,
   "id": "68d05f8f-a308-4137-9cf9-689ada220263",
   "metadata": {},
   "outputs": [
    {
     "name": "stderr",
     "output_type": "stream",
     "text": [
      "cleansing synonims from NULL: 100%|██████████| 11486/11486 [00:00<00:00, 198509.92it/s]\n"
     ]
    },
    {
     "name": "stdout",
     "output_type": "stream",
     "text": [
      "total null fund:0\n"
     ]
    }
   ],
   "source": [
    "null_count=0\n",
    "for k,v in tqdm(kamus_normalized.items(),desc=\"cleansing synonims from NULL\"):\n",
    "    if \"sinonim\" in v:\n",
    "        syns=[]\n",
    "        for syn in v[\"sinonim\"]:\n",
    "            if syn is not None:\n",
    "                syns.append(syn)\n",
    "            else:\n",
    "                null_count+=1\n",
    "        kamus_normalized[k][\"sinonim\"]=syns\n",
    "print(\"total null fund:{}\".format(null_count))            \n",
    "with open(\"data/kamus_normalized.json\",\"w\") as fo:\n",
    "    json.dump(kamus_normalized,fo)\n",
    "with open(\"data/kamus_normalized.json\",\"r\") as fi:\n",
    "    kamus_normalized=json.load(fi)"
   ]
  },
  {
   "cell_type": "markdown",
   "id": "090c8c6b-c2a0-4a7b-9521-26c7afc27374",
   "metadata": {},
   "source": [
    "# check kamus vs kamus_normalized"
   ]
  },
  {
   "cell_type": "code",
   "execution_count": 473,
   "id": "8335b2d0-338f-415f-9674-95dfb98c07b6",
   "metadata": {},
   "outputs": [
    {
     "name": "stderr",
     "output_type": "stream",
     "text": [
      "checking key plagiat code 202208-1123-4801-8e37da74-6b5d-4b0b-ace9-3f9a88c35543:   0%|          | 9/11486 [00:00<04:41, 40.74it/s]  "
     ]
    },
    {
     "name": "stdout",
     "output_type": "stream",
     "text": [
      "ara\n",
      "['perbarisan', 'pawai']\n",
      "['bari', 'pawai']\n",
      "daya\n",
      "['terjerumus', 'terkecoh', 'terkena', 'terkurung', 'terperangkap', 'terpikat', 'terpukau', 'tertangkap', 'tertawan', 'tertipu']\n",
      "['jerumu', 'kecoh', 'kena', 'kurung', 'perangkap', 'pikat', 'pukau', 'tangkap', 'tawan', 'tipu']\n",
      "arau\n",
      "['memutar', 'mengacau', 'mengadon', 'mengaduk', 'mengarun', 'mengebur', 'mengocok']\n",
      "['putar', 'acau', 'adon', 'aduk', 'arun', 'kebur', 'kocok']\n",
      "sigi\n",
      "['obor', 'suluh']\n",
      "['obor', 'suluh']\n",
      "anyep\n",
      "['cahang', 'campah', 'hambar', 'tawar (rasa)', 'adem', 'dingin']\n",
      "['cahang', 'campah', 'hambar', 'tawar', 'adem', 'dingin']\n",
      "ceratai\n",
      "['membahas', 'membicarakan', 'membincangkan', 'menggosipkan', 'menggunjingkan', 'mengomongkan', 'meributkan']\n",
      "['baha', 'bicara', 'bincang', 'gosip', 'gunj', 'omong', 'ribut']\n",
      "lelaki\n",
      "['adam', 'laki-laki', 'lanang', 'maskulin', 'pria']\n",
      "['adam', 'laki', 'lanang', 'maskulin', 'pria']\n",
      "maklumat\n",
      "['memaklumkan', 'memberitahukan', 'memberitakan', 'mengumumkan', 'menyiarkan', 'memublikasikan', 'mewartakan']\n",
      "['maklum', 'memberitahukan', 'berita', 'umum', 'siar', 'publikasi', 'warta']\n",
      "reformasi\n",
      "['pembaruan', 'perbaikan', 'perombakan', 'restorasi']\n",
      "['baru', 'baik', 'ombak', 'restorasi']\n"
     ]
    },
    {
     "name": "stderr",
     "output_type": "stream",
     "text": [
      "checking key kerudung code 202208-1123-4754-6754466d-9652-4f5c-8830-3eaf9abe04de:   0%|          | 14/11486 [00:00<04:40, 40.87it/s]    "
     ]
    },
    {
     "name": "stdout",
     "output_type": "stream",
     "text": [
      "plagiat\n",
      "['jiplakan']\n",
      "['jiplak']\n",
      "sumpah\n",
      "['berikrar', 'berjanji', 'mengangkat sumpah']\n",
      "['ikrar', 'janji', 'angkat sumpah']\n",
      "jihat\n",
      "['arah', 'sebelah', 'sisi']\n",
      "['arah', 'belah', 'sisi']\n",
      "inkonsistensi\n",
      "['ketidakseragaman', 'ketidakteraturan', 'ketidaktetapan', 'inkompatibilitas', 'kontradiksi', 'paradoks']\n",
      "['ketidakseragaman', 'ketidakteraturan', 'ketidaktetapan', 'inkompatibilita', 'kontradiksi', 'paradok']\n",
      "unta\n",
      "['berjuntai', 'berenteng', 'beronte']\n",
      "['junta', 'enteng', 'beront']\n",
      "arah\n",
      "['instruktur', 'ketua', 'komandan', 'pemandu', 'pembimbing', 'pemimpin', 'pengatur', 'pengawas', 'pengelola', 'pengendali', 'pengurus', 'penuntun', 'penyelia']\n",
      "['instruktur', 'ketua', 'komandan', 'pandu', 'bimb', 'pimpin', 'atur', 'awa', 'kelola', 'kendali', 'uru', 'tuntun', 'selia']\n",
      "arak\n",
      "['ambalan', 'defile', 'kirab', 'konvoi', 'parade', 'pawai', 'perarakan', 'prosesi']\n",
      "['ambal', 'defil', 'kirab', 'konvoi', 'parad', 'pawai', 'ara', 'prosesi']\n",
      "tanggap\n",
      "['meladeni', 'melayani', 'melihat', 'memahami', 'memandang', 'membalas', 'memikirkan', 'memperhatikan', 'menafsir', 'menangkis', 'mencerap', 'menduga', 'menelaah', 'menerima', 'menerka', 'menganggap', 'mengetahui', 'mengomentari', 'menimpali', 'menjawab', 'menyahut', 'menyambut', 'menyimpulkan', 'meramalkan', 'merespons', 'merumuskan']\n",
      "['laden', 'layan', 'paham', 'pandang', 'bala', 'pikir', 'perhati', 'tafsir', 'tangki', 'cerap', 'duga', 'telaah', 'terima', 'terka', 'anggap', 'komentar', 'timpal', 'sahut', 'sambut', 'simpul', 'ramal', 'respon', 'rumu']\n",
      "aram\n",
      "['kerangka', 'pelantar', 'perancah']\n",
      "['kerangka', 'pelantar', 'perancah']\n"
     ]
    },
    {
     "name": "stderr",
     "output_type": "stream",
     "text": [
      "checking key gabung code 202208-1123-4822-53bcb015-795d-4c31-be7e-7b021399a2de:   0%|          | 24/11486 [00:00<04:38, 41.19it/s]  "
     ]
    },
    {
     "name": "stdout",
     "output_type": "stream",
     "text": [
      "kerudung\n",
      "['jilbab', 'kudung', 'tengkuluk']\n",
      "['jilbab', 'kudung', 'tengkuluk']\n",
      "cakar\n",
      "['perbalahan', 'percekcokan', 'pergaduhan', 'perkelahian', 'pertelingkahan', 'pertengkaran']\n",
      "['balah', 'cekcok', 'gaduh', 'kelahi', 'telingkah', 'tengkar']\n",
      "varieta\n",
      "['jenis', 'macam', 'spesies', 'tipe', 'diversifikasi', 'keberagaman', 'variasi']\n",
      "['jeni', 'spesi', 'tipe', 'diversifikasi', 'agam', 'variasi']\n",
      "null\n",
      "['sedikit demi sedikit']\n",
      "[]\n",
      "tap\n",
      "['membersihkan', 'memilah', 'memilih', 'menampi', 'meneliti', 'mengayak', 'mengidang', 'mengirai', 'mengisai', 'menimbang', 'meninting', 'menyaring', 'menyeleksi', 'menyelerai', 'menyerkai', 'menyortir']\n",
      "['bersih', 'mem', 'pilih', 'tampi', 'teliti', 'ayak', 'kidang', 'kirai', 'kisai', 'timbang', 'tint', 'nyar', 'seleksi', 'lerai', 'serkai', 'sortir']\n",
      "biku\n",
      "['biksu', 'kelim', 'kili', 'pelipit', 'som', 'takik', 'wiru']\n",
      "['biksu', 'kelim', 'kili', 'lipit', 'som', 'takik', 'wiru']\n",
      "tuala\n",
      "['handuk']\n",
      "['handuk']\n",
      "wenang\n",
      "['manasuka', 'sekehendak hati', 'semaunya', 'semau-mau', 'sembarangan', 'serampangan', 'sesuka hati']\n",
      "['manasuka', 'hendak hati', 'mau', 'sembarang', 'serampang', 'suka hati']\n",
      "jamiah\n",
      "['perhimpunan', 'perkumpulan', 'perserikatan', 'institut', 'perguruan tinggi', 'sekolah tinggi', 'universitas']\n",
      "['himpun', 'kumpul', 'serikat', 'institut', 'guru', 'sekolah', 'universita']\n"
     ]
    },
    {
     "name": "stderr",
     "output_type": "stream",
     "text": [
      "checking key berang code 202208-1123-4756-558d8d78-6a45-48b5-876d-39029b93536d:   0%|          | 33/11486 [00:00<04:38, 41.06it/s]"
     ]
    },
    {
     "name": "stdout",
     "output_type": "stream",
     "text": [
      "gabung\n",
      "['tercampur', 'terhimpun', 'terpadu', 'terkumpul', 'terpumpun']\n",
      "['campur', 'himpun', 'padu', 'kumpul', 'pumpun']\n",
      "tarik\n",
      "['anjur', 'betot', 'cabut', 'eret', 'ganjur', 'hela', 'hunus', 'raih', 'rebut', 'renggut', 'sentak', 'seret']\n",
      "['anjur', 'betot', 'cabut', 'eret', 'ganjur', 'hela', 'hunu', 'raih', 'rebut', 'renggut', 'sentak', 'seret']\n",
      "berani\n",
      "['memberangsangkan', 'mengoja']\n",
      "['berangsang', 'oja']\n",
      "bene\n",
      "['bersih', 'cerah', 'hening', 'jernih', 'menjantang', 'putih', 'resik', 'semerawang', 'suci', 'telus', 'tembus cahaya', 'tembus pandang', 'tembus sinar', 'terang', 'transparan']\n",
      "['bersih', 'cerah', 'hene', 'jernih', 'jantang', 'putih', 'resik', 'semerawang', 'suci', 'telu', 'tembu cahaya', 'tembu pandang', 'tembu sinar', 'terang', 'transparan']\n",
      "mafhum\n",
      "['arif', 'grahita', 'maklum', 'mengerti', 'paham', 'tahu']\n",
      "['arif', 'grahita', 'maklum', 'erti', 'paham']\n",
      "berang\n",
      "['anjing air', 'berang-berang']\n",
      "['anj air', 'berang']\n"
     ]
    },
    {
     "name": "stderr",
     "output_type": "stream",
     "text": [
      "\n"
     ]
    }
   ],
   "source": [
    "c=0\n",
    "pbar=tqdm(kamus_normalized.items())\n",
    "for k,v in pbar:\n",
    "    try:\n",
    "        if c==33:\n",
    "            break\n",
    "        code=kamus_normalized[k][\"code\"]\n",
    "        pbar.set_description(\"\\rchecking key {} code {}\".format(k,code))\n",
    "        key1,key2,dct1,dct2=check_kamus_by_code(code)\n",
    "        print(\"{}\".format(k))\n",
    "        print(\"{}\".format(kamus[key1][\"sinonim\"]))\n",
    "        print(\"{}\".format(kamus_normalized[key2][\"sinonim\"]))\n",
    "        c+=1\n",
    "    except Exception as ex:\n",
    "        print(\"error:{}\".format(str(ex)))\n",
    "        continue\n",
    "# check_kamus_by_key(\"tidur\")"
   ]
  },
  {
   "cell_type": "markdown",
   "id": "0e54044c-546b-4bc5-a0ee-f01fe068c66c",
   "metadata": {},
   "source": [
    "# get column activity with the longest content"
   ]
  },
  {
   "cell_type": "code",
   "execution_count": 474,
   "id": "fc27070f-70b1-4d16-9b29-1e7beb93c2c1",
   "metadata": {},
   "outputs": [
    {
     "data": {
      "text/plain": [
       "(activities    Mengajar/melatih/membimbing yang berkaitan dengan bidang teknologi informasi berbasis komputer .Melakukan Kegiatan Pembinaan Jabatan Fungsional Pranata Komputer.Lamanya kurang dari 30 jam\n",
       " Name: 322, dtype: object,\n",
       " activity_cleansed    ajar kait bidang teknolog informasi ba komput giat bina jabat fungsion pranata komput jam\n",
       " Name: 322, dtype: object,\n",
       " 322)"
      ]
     },
     "execution_count": 474,
     "metadata": {},
     "output_type": "execute_result"
    }
   ],
   "source": [
    "max_l=0\n",
    "max_idx=0\n",
    "for idx,row in df_dupak_all.iterrows():\n",
    "    l=len(str(row.activities))\n",
    "    if l>max_l:\n",
    "        max_l=l\n",
    "        max_idx=idx\n",
    "#         print(\"{}){}\".format(idx,str(row.activities)))\n",
    "df_dupak_all.loc[max_idx,[\"activities\"]],df_dupak_all.loc[max_idx,[\"activity_cleansed\"]],max_idx\n",
    "\n",
    "    "
   ]
  },
  {
   "cell_type": "markdown",
   "id": "1836a43a-f3b1-496a-83dd-6e6a7467f7d2",
   "metadata": {},
   "source": [
    "# new column containing enriched activities data"
   ]
  },
  {
   "cell_type": "code",
   "execution_count": 475,
   "id": "032f9e57-483c-4962-a70b-b2a21f861cdc",
   "metadata": {},
   "outputs": [
    {
     "name": "stderr",
     "output_type": "stream",
     "text": [
      "100%|██████████| 336/336 [01:08<00:00,  4.88it/s]\n"
     ]
    }
   ],
   "source": [
    "kamus={}\n",
    "with open(\"data/dict.json\") as fi:\n",
    "    kamus=json.load(fi)\n",
    "    \n",
    "def enrich_activity(txt):\n",
    "    txt=str(txt).lower()\n",
    "#     template=txt\n",
    "#     result=[]\n",
    "    arr=re.findall(\"\\w+\",txt)\n",
    "    final_result=\" \".join(arr)\n",
    "    template=final_result\n",
    "#     unique_arr=sorted(set(arr), key=arr.index)\n",
    "#     result=unique_arr\n",
    "#     pbar1=tqdm(arr)\n",
    "    for token in arr:\n",
    "#         print(\"enriching token:{}\".format(token))\n",
    "#         pbar1.set_description(\"enriching token:{}\".format(token))\n",
    "        syns=[]\n",
    "        #             token_cleansed=text_preprocessing(token)\n",
    "        try:\n",
    "            syns=kamus[token][\"sinonim\"]\n",
    "        except:\n",
    "            try:\n",
    "                syns=kamus_normalized[token][\"sinonim\"]\n",
    "            except:\n",
    "                try:\n",
    "                    syns=get_synonims_from_sinonimkata_com(token)\n",
    "                except:\n",
    "                    print(\"\\rretrying get synonims from sinonimkata.com\")\n",
    "                    time.sleep(randrange(1,2))\n",
    "                    syns=get_synonims_from_sinonimkata_com(token)\n",
    "#         syns=[text_preprocessing(s) for s in syns if s]\n",
    "        for syn in syns:\n",
    "            if syn is not None:\n",
    "                a=str(template).replace(token,syn)\n",
    "                final_result+=\". \"+a\n",
    "    return final_result\n",
    "    \n",
    "tqdm.pandas()\n",
    "df_dupak_all[\"activity_enriched\"]=df_dupak_all.activities.progress_apply(enrich_activity)"
   ]
  },
  {
   "cell_type": "code",
   "execution_count": 476,
   "id": "055c90aa-46db-4712-ba46-07b7070d53e2",
   "metadata": {},
   "outputs": [
    {
     "data": {
      "text/plain": [
       "0    Melakukan pemenuhan permintaan dan layanan teknologi informasi\n",
       "1            Melakukan pengumpulan informasi mengenai data instansi\n",
       "2            Melakukan pengadministrasian kegiatan tata kelola data\n",
       "3                Melakukan pencatatan permasalahan pengelolaan data\n",
       "4                     Melakukan perawatan arsitektur teknologi data\n",
       "Name: activities, dtype: object"
      ]
     },
     "execution_count": 476,
     "metadata": {},
     "output_type": "execute_result"
    }
   ],
   "source": [
    "df_dupak_all.activities.head()"
   ]
  },
  {
   "cell_type": "code",
   "execution_count": 477,
   "id": "b1ab670c-2b56-471f-a2a9-4d2cf47d84fe",
   "metadata": {},
   "outputs": [
    {
     "data": {
      "text/plain": [
       "0                                                                                                                                  melakukan pemenuhan permintaan dan layanan teknologi informasi. melaksanakan pemenuhan permintaan dan layanan teknologi informasi. melancarkan pemenuhan permintaan dan layanan teknologi informasi. melangsungkan pemenuhan permintaan dan layanan teknologi informasi. melantaskan pemenuhan permintaan dan layanan teknologi informasi. melayani pemenuhan permintaan dan layanan teknologi informasi. mengadakan pemenuhan permintaan dan layanan teknologi informasi. menjalankan pemenuhan permintaan dan layanan teknologi informasi. menunaikan pemenuhan permintaan dan layanan teknologi informasi. menyelenggarakan pemenuhan permintaan dan layanan teknologi informasi. membuat pemenuhan permintaan dan layanan teknologi informasi. mengerjakan pemenuhan permintaan dan layanan teknologi informasi. menggarap pemenuhan permintaan dan layanan teknologi informasi. meluluskan pemenuhan permintaan dan layanan teknologi informasi. mengabulkan pemenuhan permintaan dan layanan teknologi informasi. melakukan pelampiasan permintaan dan layanan teknologi informasi. melakukan pelepasan permintaan dan layanan teknologi informasi. melakukan pemuasan permintaan dan layanan teknologi informasi. melakukan pemenuhan ajakan dan layanan teknologi informasi. melakukan pemenuhan amanat dan layanan teknologi informasi. melakukan pemenuhan anjuran dan layanan teknologi informasi. melakukan pemenuhan aplikasi dan layanan teknologi informasi. melakukan pemenuhan desakan dan layanan teknologi informasi. melakukan pemenuhan doa dan layanan teknologi informasi. melakukan pemenuhan pengharapan dan layanan teknologi informasi. melakukan pemenuhan imbauan dan layanan teknologi informasi. melakukan pemenuhan klaim dan layanan teknologi informasi. melakukan pemenuhan lamaran dan layanan teknologi informasi. melakukan pemenuhan panggilan dan layanan teknologi informasi. melakukan pemenuhan permohonan dan layanan teknologi informasi. melakukan pemenuhan petisi dan layanan teknologi informasi. melakukan pemenuhan pinangan dan layanan teknologi informasi. melakukan pemenuhan pinta dan layanan teknologi informasi. melakukan pemenuhan rayuan dan layanan teknologi informasi. melakukan pemenuhan rekes dan layanan teknologi informasi. melakukan pemenuhan seruan dan layanan teknologi informasi. melakukan pemenuhan suruhan dan layanan teknologi informasi. melakukan pemenuhan tempahan dan layanan teknologi informasi. melakukan pemenuhan undangan dan layanan teknologi informasi. melakukan pemenuhan permintaan bersama layanan teknologi informasi. melakukan pemenuhan permintaan beserta layanan teknologi informasi. melakukan pemenuhan permintaan dengan layanan teknologi informasi. melakukan pemenuhan permintaan lagi layanan teknologi informasi. melakukan pemenuhan permintaan lalu layanan teknologi informasi. melakukan pemenuhan permintaan maka layanan teknologi informasi. melakukan pemenuhan permintaan pula layanan teknologi informasi. melakukan pemenuhan permintaan selanjutnya layanan teknologi informasi. melakukan pemenuhan permintaan serta layanan teknologi informasi. melakukan pemenuhan permintaan dan layanan teknologi penerangan. melakukan pemenuhan permintaan dan layanan teknologi penjelasan. melakukan pemenuhan permintaan dan layanan teknologi bahan. melakukan pemenuhan permintaan dan layanan teknologi berita. melakukan pemenuhan permintaan dan layanan teknologi data. melakukan pemenuhan permintaan dan layanan teknologi embaran. melakukan pemenuhan permintaan dan layanan teknologi fakta. melakukan pemenuhan permintaan dan layanan teknologi kabar. melakukan pemenuhan permintaan dan layanan teknologi keterangan. melakukan pemenuhan permintaan dan layanan teknologi laporan. melakukan pemenuhan permintaan dan layanan teknologi liputan. melakukan pemenuhan permintaan dan layanan teknologi warta\n",
       "1    melakukan pengumpulan informasi mengenai data instansi. melaksanakan pengumpulan informasi mengenai data instansi. melancarkan pengumpulan informasi mengenai data instansi. melangsungkan pengumpulan informasi mengenai data instansi. melantaskan pengumpulan informasi mengenai data instansi. melayani pengumpulan informasi mengenai data instansi. mengadakan pengumpulan informasi mengenai data instansi. menjalankan pengumpulan informasi mengenai data instansi. menunaikan pengumpulan informasi mengenai data instansi. menyelenggarakan pengumpulan informasi mengenai data instansi. membuat pengumpulan informasi mengenai data instansi. mengerjakan pengumpulan informasi mengenai data instansi. menggarap pengumpulan informasi mengenai data instansi. meluluskan pengumpulan informasi mengenai data instansi. mengabulkan pengumpulan informasi mengenai data instansi. melakukan agregasi informasi mengenai data instansi. melakukan akumulasi informasi mengenai data instansi. melakukan pemungutan informasi mengenai data instansi. melakukan penimbunan informasi mengenai data instansi. melakukan penghimpunan informasi mengenai data instansi. melakukan penumpukan informasi mengenai data instansi. melakukan penyatuan informasi mengenai data instansi. melakukan pengumpulan penerangan mengenai data instansi. melakukan pengumpulan penjelasan mengenai data instansi. melakukan pengumpulan bahan mengenai data instansi. melakukan pengumpulan berita mengenai data instansi. melakukan pengumpulan data mengenai data instansi. melakukan pengumpulan embaran mengenai data instansi. melakukan pengumpulan fakta mengenai data instansi. melakukan pengumpulan kabar mengenai data instansi. melakukan pengumpulan keterangan mengenai data instansi. melakukan pengumpulan laporan mengenai data instansi. melakukan pengumpulan liputan mengenai data instansi. melakukan pengumpulan warta mengenai data instansi. melakukan pengumpulan informasi melanda data instansi. melakukan pengumpulan informasi melanggar data instansi. melakukan pengumpulan informasi mengantuk data instansi. melakukan pengumpulan informasi menyenggol data instansi. melakukan pengumpulan informasi menyentuh data instansi. melakukan pengumpulan informasi menyinggung data instansi. melakukan pengumpulan informasi menerjang data instansi. melakukan pengumpulan informasi menerpa data instansi. melakukan pengumpulan informasi menghantam data instansi. melakukan pengumpulan informasi menimpa data instansi. melakukan pengumpulan informasi menyambar data instansi. melakukan pengumpulan informasi menyapu data instansi. melakukan pengumpulan informasi menyerang data instansi. melakukan pengumpulan informasi merampak data instansi. melakukan pengumpulan informasi p adapun data instansi. melakukan pengumpulan informasi akan data instansi. melakukan pengumpulan informasi bab data instansi. melakukan pengumpulan informasi perihal data instansi. melakukan pengumpulan informasi tentang data instansi. melakukan pengumpulan informasi mengenai bahan instansi. melakukan pengumpulan informasi mengenai bukti instansi. melakukan pengumpulan informasi mengenai evidensi instansi. melakukan pengumpulan informasi mengenai fakta instansi. melakukan pengumpulan informasi mengenai informasi instansi. melakukan pengumpulan informasi mengenai keterangan instansi. melakukan pengumpulan informasi mengenai masukan instansi. melakukan pengumpulan informasi mengenai petunjuk instansi. melakukan pengumpulan informasi mengenai statistik instansi. melakukan pengumpulan informasi mengenai data badan. melakukan pengumpulan informasi mengenai data dinas. melakukan pengumpulan informasi mengenai data institusi. melakukan pengumpulan informasi mengenai data jabatan. melakukan pengumpulan informasi mengenai data jawatan. melakukan pengumpulan informasi mengenai data kantor. melakukan pengumpulan informasi mengenai data lembaga. melakukan pengumpulan informasi mengenai data maktab\n",
       "2                                                                                                                                                                                                                                                                                                                                                                                        melakukan pengadministrasian kegiatan tata kelola data. melaksanakan pengadministrasian kegiatan tata kelola data. melancarkan pengadministrasian kegiatan tata kelola data. melangsungkan pengadministrasian kegiatan tata kelola data. melantaskan pengadministrasian kegiatan tata kelola data. melayani pengadministrasian kegiatan tata kelola data. mengadakan pengadministrasian kegiatan tata kelola data. menjalankan pengadministrasian kegiatan tata kelola data. menunaikan pengadministrasian kegiatan tata kelola data. menyelenggarakan pengadministrasian kegiatan tata kelola data. membuat pengadministrasian kegiatan tata kelola data. mengerjakan pengadministrasian kegiatan tata kelola data. menggarap pengadministrasian kegiatan tata kelola data. meluluskan pengadministrasian kegiatan tata kelola data. mengabulkan pengadministrasian kegiatan tata kelola data. melakukan pengadministrasian aksi tata kelola data. melakukan pengadministrasian aktivitas tata kelola data. melakukan pengadministrasian gerakan tata kelola data. melakukan pengadministrasian kesibukan tata kelola data. melakukan pengadministrasian tindakan tata kelola data. melakukan pengadministrasian gairah tata kelola data. melakukan pengadministrasian kegairahan tata kelola data. melakukan pengadministrasian kegiatan acara kelola data. melakukan pengadministrasian kegiatan adat kelola data. melakukan pengadministrasian kegiatan aturan kelola data. melakukan pengadministrasian kegiatan cara kelola data. melakukan pengadministrasian kegiatan desain kelola data. melakukan pengadministrasian kegiatan hukum kelola data. melakukan pengadministrasian kegiatan kaidah kelola data. melakukan pengadministrasian kegiatan lagu kelola data. melakukan pengadministrasian kegiatan langgam kelola data. melakukan pengadministrasian kegiatan metode kelola data. melakukan pengadministrasian kegiatan norma kelola data. melakukan pengadministrasian kegiatan orde kelola data. melakukan pengadministrasian kegiatan peraturan kelola data. melakukan pengadministrasian kegiatan prinsip kelola data. melakukan pengadministrasian kegiatan ragam kelola data. melakukan pengadministrasian kegiatan sistem kelola data. melakukan pengadministrasian kegiatan struktur kelola data. melakukan pengadministrasian kegiatan susunan kelola data. melakukan pengadministrasian kegiatan tata melaksanakan data. melakukan pengadministrasian kegiatan tata memerintah data. melakukan pengadministrasian kegiatan tata memangku data. melakukan pengadministrasian kegiatan tata menata data. melakukan pengadministrasian kegiatan tata mendominasi data. melakukan pengadministrasian kegiatan tata mengasuh data. melakukan pengadministrasian kegiatan tata mengatur data. melakukan pengadministrasian kegiatan tata mengendalikan data. melakukan pengadministrasian kegiatan tata mengoperasikan data. melakukan pengadministrasian kegiatan tata mengurus data. melakukan pengadministrasian kegiatan tata menjalankan data. melakukan pengadministrasian kegiatan tata menyelenggarakan data. melakukan pengadministrasian kegiatan tata kelola bahan. melakukan pengadministrasian kegiatan tata kelola bukti. melakukan pengadministrasian kegiatan tata kelola evidensi. melakukan pengadministrasian kegiatan tata kelola fakta. melakukan pengadministrasian kegiatan tata kelola informasi. melakukan pengadministrasian kegiatan tata kelola keterangan. melakukan pengadministrasian kegiatan tata kelola masukan. melakukan pengadministrasian kegiatan tata kelola petunjuk. melakukan pengadministrasian kegiatan tata kelola statistik\n",
       "3                                                                                                                                                                                                                                                                                                                                                                                                                                                                                                                                                                                                                                                                                                                                                                                                                                                                                                                                                                                                                                                                                                                                                                                                                                                                                                                                                                                                                                                                                                                                                                                                                                                                                                                                                                                                                                                                                                                                                                                   melakukan pencatatan permasalahan pengelolaan data. melaksanakan pencatatan permasalahan pengelolaan data. melancarkan pencatatan permasalahan pengelolaan data. melangsungkan pencatatan permasalahan pengelolaan data. melantaskan pencatatan permasalahan pengelolaan data. melayani pencatatan permasalahan pengelolaan data. mengadakan pencatatan permasalahan pengelolaan data. menjalankan pencatatan permasalahan pengelolaan data. menunaikan pencatatan permasalahan pengelolaan data. menyelenggarakan pencatatan permasalahan pengelolaan data. membuat pencatatan permasalahan pengelolaan data. mengerjakan pencatatan permasalahan pengelolaan data. menggarap pencatatan permasalahan pengelolaan data. meluluskan pencatatan permasalahan pengelolaan data. mengabulkan pencatatan permasalahan pengelolaan data. melakukan kodifikasi permasalahan pengelolaan data. melakukan pencoretan permasalahan pengelolaan data. melakukan pendaftaran permasalahan pengelolaan data. melakukan pendataan permasalahan pengelolaan data. melakukan penulisan permasalahan pengelolaan data. melakukan penyalinan permasalahan pengelolaan data. melakukan penyensusan permasalahan pengelolaan data. melakukan penyuratan permasalahan pengelolaan data. melakukan perekaman permasalahan pengelolaan data. melakukan registrasi permasalahan pengelolaan data. melakukan pencatatan persoalan pengelolaan data. melakukan pencatatan permasalahan manajemen data. melakukan pencatatan permasalahan penyelenggaraan data. melakukan pencatatan permasalahan tata data. melakukan pencatatan permasalahan pengelolaan bahan. melakukan pencatatan permasalahan pengelolaan bukti. melakukan pencatatan permasalahan pengelolaan evidensi. melakukan pencatatan permasalahan pengelolaan fakta. melakukan pencatatan permasalahan pengelolaan informasi. melakukan pencatatan permasalahan pengelolaan keterangan. melakukan pencatatan permasalahan pengelolaan masukan. melakukan pencatatan permasalahan pengelolaan petunjuk. melakukan pencatatan permasalahan pengelolaan statistik\n",
       "4                                                                                                                                                                                                                                                                                                                                                                                                                                                                                                                                                                                                                                                                                                                                                                                                                                                                                                                                                                                                                                                                                                                                                                                                                                                                                                                                                                                                                                                                                                                                                                                                                                                                                                                                                                                                                                                                                                                                                                                                                                                                                                                                                                                                                                                                                                                                                                   melakukan perawatan arsitektur teknologi data. melaksanakan perawatan arsitektur teknologi data. melancarkan perawatan arsitektur teknologi data. melangsungkan perawatan arsitektur teknologi data. melantaskan perawatan arsitektur teknologi data. melayani perawatan arsitektur teknologi data. mengadakan perawatan arsitektur teknologi data. menjalankan perawatan arsitektur teknologi data. menunaikan perawatan arsitektur teknologi data. menyelenggarakan perawatan arsitektur teknologi data. membuat perawatan arsitektur teknologi data. mengerjakan perawatan arsitektur teknologi data. menggarap perawatan arsitektur teknologi data. meluluskan perawatan arsitektur teknologi data. mengabulkan perawatan arsitektur teknologi data. melakukan pemeliharaan arsitektur teknologi data. melakukan penyelenggaraan arsitektur teknologi data. melakukan pembelaan arsitektur teknologi data. melakukan penjagaan arsitektur teknologi data. melakukan perawatan bangun teknologi data. melakukan perawatan desain teknologi data. melakukan perawatan formasi teknologi data. melakukan perawatan komposisi teknologi data. melakukan perawatan konstruksi teknologi data. melakukan perawatan rancang bangun teknologi data. melakukan perawatan arsitektur teknologi bahan. melakukan perawatan arsitektur teknologi bukti. melakukan perawatan arsitektur teknologi evidensi. melakukan perawatan arsitektur teknologi fakta. melakukan perawatan arsitektur teknologi informasi. melakukan perawatan arsitektur teknologi keterangan. melakukan perawatan arsitektur teknologi masukan. melakukan perawatan arsitektur teknologi petunjuk. melakukan perawatan arsitektur teknologi statistik\n",
       "Name: activity_enriched, dtype: object"
      ]
     },
     "execution_count": 477,
     "metadata": {},
     "output_type": "execute_result"
    }
   ],
   "source": [
    "df_dupak_all.activity_enriched.head()"
   ]
  },
  {
   "cell_type": "code",
   "execution_count": 398,
   "id": "0e4224e0-2fdf-42df-85c0-2242f8be9e01",
   "metadata": {},
   "outputs": [
    {
     "data": {
      "text/plain": [
       "activity_enriched    dalam bentuk buku majalah ilmiah internasional yang diterbitkan internasional yang terindek. analitis bentuk buku majalah ilmiah internasional yang diterbitkan internasional yang terindek. batin (hati) bentuk buku majalah ilmiah internasional yang diterbitkan internasional yang terindek. berarti (maksud) bentuk buku majalah ilmiah internasional yang diterbitkan internasional yang terindek. berbobot bentuk buku majalah ilmiah internasional yang diterbitkan internasional yang terindek. berisi bentuk buku majalah ilmiah internasional yang diterbitkan internasional yang terindek. berkualitas bentuk buku majalah ilmiah internasional yang diterbitkan internasional yang terindek. bermakna bentuk buku majalah ilmiah internasional yang diterbitkan internasional yang terindek. bermutu bentuk buku majalah ilmiah internasional yang diterbitkan internasional yang terindek. bernas bentuk buku majalah ilmiah internasional yang diterbitkan internasional yang terindek. jeluk bentuk buku majalah ilmiah internasional yang diterbitkan internasional yang terindek. lombong bentuk buku majalah ilmiah internasional yang diterbitkan internasional yang terindek. lubuk (pinggan) bentuk buku majalah ilmiah internasional yang diterbitkan internasional yang terindek. paham bentuk buku majalah ilmiah internasional yang diterbitkan internasional yang terindek. intern bentuk buku majalah ilmiah internasional yang diterbitkan internasional yang terindek. internal bentuk buku majalah ilmiah internasional yang diterbitkan internasional yang terindek. di bentuk buku majalah ilmiah internasional yang diterbitkan internasional yang terindek. di dalam bentuk buku majalah ilmiah internasional yang diterbitkan internasional yang terindek. ketika bentuk buku majalah ilmiah internasional yang diterbitkan internasional yang terindek. pada bentuk buku majalah ilmiah internasional yang diterbitkan internasional yang terindek. saat bentuk buku majalah ilmiah internasional yang diterbitkan internasional yang terindek. tatkala bentuk buku majalah ilmiah internasional yang diterbitkan internasional yang terindek. waktu bentuk buku majalah ilmiah internasional yang diterbitkan internasional yang terindek. selama bentuk buku majalah ilmiah internasional yang diterbitkan internasional yang terindek. sambil bentuk buku majalah ilmiah internasional yang diterbitkan internasional yang terindek. sementara bentuk buku majalah ilmiah internasional yang diterbitkan internasional yang terindek. seraya bentuk buku majalah ilmiah internasional yang diterbitkan internasional yang terindek. dalam aliran buku majalah ilmiah internasional yang diterbitkan internasional yang terindek. dalam bangun buku majalah ilmiah internasional yang diterbitkan internasional yang terindek. dalam cara buku majalah ilmiah internasional yang diterbitkan internasional yang terindek. dalam corak buku majalah ilmiah internasional yang diterbitkan internasional yang terindek. dalam formasi buku majalah ilmiah internasional yang diterbitkan internasional yang terindek. dalam format buku majalah ilmiah internasional yang diterbitkan internasional yang terindek. dalam gaya buku majalah ilmiah internasional yang diterbitkan internasional yang terindek. dalam karakter buku majalah ilmiah internasional yang diterbitkan internasional yang terindek. dalam kerangka buku majalah ilmiah internasional yang diterbitkan internasional yang terindek. dalam konstruksi buku majalah ilmiah internasional yang diterbitkan internasional yang terindek. dalam motif buku majalah ilmiah internasional yang diterbitkan internasional yang terindek. dalam orde buku majalah ilmiah internasional yang diterbitkan internasional yang terindek. dalam paham buku majalah ilmiah internasional yang diterbitkan internasional yang terindek. dalam potongan buku majalah ilmiah internasional yang diterbitkan internasional yang terindek. dalam rangka buku majalah ilmiah internasional yang diterbitkan internasional yang terindek. dalam raut buku majalah ilmiah internasional yang diterbitkan internasional yang terindek. dalam roman buku majalah ilmiah internasional yang diterbitkan internasional yang terindek. dalam rupa buku majalah ilmiah internasional yang diterbitkan internasional yang terindek. dalam sifat buku majalah ilmiah internasional yang diterbitkan internasional yang terindek. dalam sikap buku majalah ilmiah internasional yang diterbitkan internasional yang terindek. dalam sistem buku majalah ilmiah internasional yang diterbitkan internasional yang terindek. dalam sosok buku majalah ilmiah internasional yang diterbitkan internasional yang terindek. dalam struktur buku majalah ilmiah internasional yang diterbitkan internasional yang terindek. dalam susunan buku majalah ilmiah internasional yang diterbitkan internasional yang terindek. dalam tataan buku majalah ilmiah internasional yang diterbitkan internasional yang terindek. dalam tatanan buku majalah ilmiah internasional yang diterbitkan internasional yang terindek. dalam wajah buku majalah ilmiah internasional yang diterbitkan internasional yang terindek. dalam watak buku majalah ilmiah internasional yang diterbitkan internasional yang terindek. dalam wujud buku majalah ilmiah internasional yang diterbitkan internasional yang terindek. dalam bentuk bacaan majalah ilmiah internasional yang diterbitkan internasional yang terindek. dalam bentuk lektur majalah ilmiah internasional yang diterbitkan internasional yang terindek. dalam bentuk wacana majalah ilmiah internasional yang diterbitkan internasional yang terindek. dalam bentuk artikulasi majalah ilmiah internasional yang diterbitkan internasional yang terindek. dalam bentuk kunci majalah ilmiah internasional yang diterbitkan internasional yang terindek. dalam bentuk sendi majalah ilmiah internasional yang diterbitkan internasional yang terindek. dalam bentuk lempengan majalah ilmiah internasional yang diterbitkan internasional yang terindek. dalam bentuk lipatan majalah ilmiah internasional yang diterbitkan internasional yang terindek. dalam bentuk ruas majalah ilmiah internasional yang diterbitkan internasional yang terindek. dalam bentuk sendi majalah ilmiah internasional yang diterbitkan internasional yang terindek. dalam bentuk tampang majalah ilmiah internasional yang diterbitkan internasional yang terindek. dalam bentuk buku akbar ilmiah internasional yang diterbitkan internasional yang terindek. dalam bentuk buku barang cetakan ilmiah internasional yang diterbitkan internasional yang terindek. dalam bentuk buku buku ilmiah internasional yang diterbitkan internasional yang terindek. dalam bentuk buku jurnal ilmiah internasional yang diterbitkan internasional yang terindek. dalam bentuk buku organ ilmiah internasional yang diterbitkan internasional yang terindek. dalam bentuk buku risalah ilmiah internasional yang diterbitkan internasional yang terindek. dalam bentuk buku surat berkala ilmiah internasional yang diterbitkan internasional yang terindek. dalam bentuk buku majalah keilmuan internasional yang diterbitkan internasional yang terindek. dalam bentuk buku majalah objektif internasional yang diterbitkan internasional yang terindek. dalam bentuk buku majalah rasional internasional yang diterbitkan internasional yang terindek. dalam bentuk buku majalah saintifik internasional yang diterbitkan internasional yang terindek. dalam bentuk buku majalah ilmiah antarbangsa yang diterbitkan antarbangsa yang terindek. dalam bentuk buku majalah ilmiah global yang diterbitkan global yang terindek. dalam bentuk buku majalah ilmiah mendunia yang diterbitkan mendunia yang terindek. dalam bentuk buku majalah ilmiah mondial yang diterbitkan mondial yang terindek. dalam bentuk buku majalah ilmiah universal yang diterbitkan universal yang terindek. dalam bentuk buku majalah ilmiah internasional nan diterbitkan internasional nan terindek. dalam bentuk buku majalah ilmiah antarbangsa yang diterbitkan antarbangsa yang terindek. dalam bentuk buku majalah ilmiah global yang diterbitkan global yang terindek. dalam bentuk buku majalah ilmiah mendunia yang diterbitkan mendunia yang terindek. dalam bentuk buku majalah ilmiah mondial yang diterbitkan mondial yang terindek. dalam bentuk buku majalah ilmiah universal yang diterbitkan universal yang terindek. dalam bentuk buku majalah ilmiah internasional nan diterbitkan internasional nan terindek\n",
       "Name: 281, dtype: object"
      ]
     },
     "execution_count": 398,
     "metadata": {},
     "output_type": "execute_result"
    }
   ],
   "source": [
    "df_dupak_all.loc[281,[\"activity_enriched\"]]"
   ]
  },
  {
   "cell_type": "markdown",
   "id": "6ed074b3-ab10-4759-b31e-2e7761d8e20b",
   "metadata": {},
   "source": [
    "# cleanse enriched data"
   ]
  },
  {
   "cell_type": "code",
   "execution_count": 478,
   "id": "3fcddcd3-7a5e-49e7-8b29-db2f5c571622",
   "metadata": {},
   "outputs": [
    {
     "name": "stderr",
     "output_type": "stream",
     "text": [
      "100%|██████████| 336/336 [07:09<00:00,  1.28s/it]\n"
     ]
    }
   ],
   "source": [
    "tqdm.pandas()\n",
    "df_dupak_all[\"activity_enriched_cleansed\"]=df_dupak_all.activity_enriched.progress_apply(text_preprocessing)"
   ]
  },
  {
   "cell_type": "code",
   "execution_count": 479,
   "id": "46c31f86-20d9-4756-8d1f-46b3042bad00",
   "metadata": {},
   "outputs": [
    {
     "data": {
      "text/plain": [
       "activity_cleansed                                                                                                                                                                                                                                                                                                                                                                                                                                                                                                                                                                                                                                                                                                                                                                                                                                                                                                                                                                                                                                                                                                                                                                                                                                                                                                                                                                                                                                                                                                                                                                                                                                                                                                                                                                                                                                                                                                                                                                                                                                                                                                                                                                                                                                                                                                                                                                                                                                                                                                                                                                                                                                                                                                                                                                                                                                                                                                                                                                                                                                                                                                                                                                                                                                                                                                                                                                                                                                                                                                                                                                                                                                                                                                                                                                                                                                                                                                                                                                                                                                                                                                                                                                                                                                                                                                                                                                                                                                                                                                                                                                                                                                                                                                                                                                                                                                                                                                                                                                                                                                                                                                                                                                                                                                                                                                                                                                                                                                                                                                                                                                                                                                                                                                                                                                                                                                                                                                                                                                                                                                                                                                                                                                                                                                                                                              bentuk buku ilmiah internasion terbit internasion terindek\n",
       "activity_enriched_cleansed    bentuk buku majalah ilmiah internasion terbit internasion terindek anal bentuk buku majalah ilmiah internasion terbit internasion terindek batin hati bentuk buku majalah ilmiah internasion terbit internasion terindek maksud bentuk buku majalah ilmiah internasion terbit internasion terindek bobot bentuk buku majalah ilmiah internasion terbit internasion terindek isi bentuk buku majalah ilmiah internasion terbit internasion terindek kualita bentuk buku majalah ilmiah internasion terbit internasion terindek makna bentuk buku majalah ilmiah internasion terbit internasion terindek mutu bentuk buku majalah ilmiah internasion terbit internasion terindek berna bentuk buku majalah ilmiah internasion terbit internasion terindek jeluk bentuk buku majalah ilmiah internasion terbit internasion terindek lombong bentuk buku majalah ilmiah internasion terbit internasion terindek lubuk pinggan bentuk buku majalah ilmiah internasion terbit internasion terindek paham bentuk buku majalah ilmiah internasion terbit internasion terindek intern bentuk buku majalah ilmiah internasion terbit internasion terindek intern bentuk buku majalah ilmiah internasion terbit internasion terindek bentuk buku majalah ilmiah internasion terbit internasion terindek bentuk buku majalah ilmiah internasion terbit internasion terindek bentuk buku majalah ilmiah internasion terbit internasion terindek bentuk buku majalah ilmiah internasion terbit internasion terindek bentuk buku majalah ilmiah internasion terbit internasion terindek tatkala bentuk buku majalah ilmiah internasion terbit internasion terindek bentuk buku majalah ilmiah internasion terbit internasion terindek bentuk buku majalah ilmiah internasion terbit internasion terindek bentuk buku majalah ilmiah internasion terbit internasion terindek bentuk buku majalah ilmiah internasion terbit internasion terindek seraya bentuk buku majalah ilmiah internasion terbit internasion terindek alir buku majalah ilmiah internasion terbit internasion terindek bangun buku majalah ilmiah internasion terbit internasion terindek buku majalah ilmiah internasion terbit internasion terindek corak buku majalah ilmiah internasion terbit internasion terindek formasi buku majalah ilmiah internasion terbit internasion terindek format buku majalah ilmiah internasion terbit internasion terindek gaya buku majalah ilmiah internasion terbit internasion terindek karakt buku majalah ilmiah internasion terbit internasion terindek kerangka buku majalah ilmiah internasion terbit internasion terindek konstruksi buku majalah ilmiah internasion terbit internasion terindek motif buku majalah ilmiah internasion terbit internasion terindek ord buku majalah ilmiah internasion terbit internasion terindek paham buku majalah ilmiah internasion terbit internasion terindek potong buku majalah ilmiah internasion terbit internasion terindek rangka buku majalah ilmiah internasion terbit internasion terindek raut buku majalah ilmiah internasion terbit internasion terindek roman buku majalah ilmiah internasion terbit internasion terindek rupa buku majalah ilmiah internasion terbit internasion terindek sifat buku majalah ilmiah internasion terbit internasion terindek sikap buku majalah ilmiah internasion terbit internasion terindek sistem buku majalah ilmiah internasion terbit internasion terindek sosok buku majalah ilmiah internasion terbit internasion terindek struktur buku majalah ilmiah internasion terbit internasion terindek susun buku majalah ilmiah internasion terbit internasion terindek tata buku majalah ilmiah internasion terbit internasion terindek tatanan buku majalah ilmiah internasion terbit internasion terindek wajah buku majalah ilmiah internasion terbit internasion terindek watak buku majalah ilmiah internasion terbit internasion terindek wujud buku majalah ilmiah internasion terbit internasion terindek bentuk baca majalah ilmiah internasion terbit internasion terindek bentuk lektur majalah ilmiah internasion terbit internasion terindek bentuk wacana majalah ilmiah internasion terbit internasion terindek bentuk artikulasi majalah ilmiah internasion terbit internasion terindek bentuk kunci majalah ilmiah internasion terbit internasion terindek bentuk sendi majalah ilmiah internasion terbit internasion terindek bentuk lempeng majalah ilmiah internasion terbit internasion terindek bentuk lipat majalah ilmiah internasion terbit internasion terindek bentuk rua majalah ilmiah internasion terbit internasion terindek bentuk sendi majalah ilmiah internasion terbit internasion terindek bentuk tampang majalah ilmiah internasion terbit internasion terindek bentuk buku akbar ilmiah internasion terbit internasion terindek bentuk buku barang cetak ilmiah internasion terbit internasion terindek bentuk buku buku ilmiah internasion terbit internasion terindek bentuk buku jurnal ilmiah internasion terbit internasion terindek bentuk buku organ ilmiah internasion terbit internasion terindek bentuk buku risalah ilmiah internasion terbit internasion terindek bentuk buku surat kala ilmiah internasion terbit internasion terindek bentuk buku majalah ilmu internasion terbit internasion terindek bentuk buku majalah objektif internasion terbit internasion terindek bentuk buku majalah rasion internasion terbit internasion terindek bentuk buku majalah saintifik internasion terbit internasion terindek bentuk buku majalah ilmiah antarbangsa terbit antarbangsa terindek bentuk buku majalah ilmiah global terbit global terindek bentuk buku majalah ilmiah dunia terbit dunia terindek bentuk buku majalah ilmiah mondial terbit mondial terindek bentuk buku majalah ilmiah univers terbit univers terindek bentuk buku majalah ilmiah internasion nan terbit internasion nan terindek bentuk buku majalah ilmiah antarbangsa terbit antarbangsa terindek bentuk buku majalah ilmiah global terbit global terindek bentuk buku majalah ilmiah dunia terbit dunia terindek bentuk buku majalah ilmiah mondial terbit mondial terindek bentuk buku majalah ilmiah univers terbit univers terindek bentuk buku majalah ilmiah internasion nan terbit internasion nan terindek\n",
       "Name: 281, dtype: object"
      ]
     },
     "execution_count": 479,
     "metadata": {},
     "output_type": "execute_result"
    }
   ],
   "source": [
    "df_dupak_all.loc[281,[\"activity_cleansed\",\"activity_enriched_cleansed\"]]"
   ]
  },
  {
   "cell_type": "markdown",
   "id": "90d1d9f2-2337-4e9c-8011-60c91466a41c",
   "metadata": {},
   "source": [
    "# save dataframe with activity enriched"
   ]
  },
  {
   "cell_type": "code",
   "execution_count": 480,
   "id": "064a6bbe-e10b-48fc-bc04-1be8c6d8d77c",
   "metadata": {},
   "outputs": [],
   "source": [
    "df_dupak_all.to_csv(\"data/dupak_all.csv\",sep=\";\")"
   ]
  },
  {
   "cell_type": "markdown",
   "id": "4e9ede8d-eec2-4977-b96b-1d271cc5fe7e",
   "metadata": {},
   "source": [
    "# retrain tfidf and Knn using enriched data"
   ]
  },
  {
   "cell_type": "code",
   "execution_count": 481,
   "id": "f35bc6b1-6a13-401d-aa03-b8b25a764c24",
   "metadata": {},
   "outputs": [
    {
     "name": "stdout",
     "output_type": "stream",
     "text": [
      "SAVED tfidf vectorizer to  model/tfdif_vectorizer_enriched.pkl\n",
      "train KNN DONE. Model saved in  model/knn_enriched.pkl\n",
      "Index saved in  model/knn_idx_enriched.pkl\n"
     ]
    }
   ],
   "source": [
    "tfidf_model_fp_enriched=\"model/tfdif_vectorizer_enriched.pkl\"\n",
    "knn_model_path_enriched=\"model/knn_enriched.pkl\"\n",
    "knn_index_path_enriched=\"model/knn_idx_enriched.pkl\"\n",
    "\n",
    "activity_enriched=df_dupak_all.activity_enriched_cleansed.to_list()\n",
    "tfidf_vectorizer_enriched=TfidfVectorizer(use_idf=True,ngram_range=(1,2))\n",
    "fitted_tfidf_vectorizer_enriched = tfidf_vectorizer_enriched.fit(activity_enriched)\n",
    "with open(tfidf_model_fp_enriched, \"wb\") as fo:\n",
    "        pickle.dump(fitted_tfidf_vectorizer_enriched, fo)\n",
    "print(\"SAVED tfidf vectorizer to \", tfidf_model_fp_enriched)\n",
    "\n",
    "\n",
    "\n",
    "def vectorize_tfidf_enriched(txt):\n",
    "    densematrix=fitted_tfidf_vectorizer_enriched.transform([txt])\n",
    "    skillvecs=densematrix.toarray().tolist()\n",
    "    vector=np.array(skillvecs[0]).astype('float32').tolist()\n",
    "#     vector=np.expand_dims(vector,0).tolist()\n",
    "    return vector\n",
    "df_dupak_all[\"tfidf_vec_enriched\"]=df_dupak_all.activity_enriched_cleansed.apply(vectorize_tfidf_enriched)\n",
    "df_dupak_all.to_csv(\"data/dupak_all.csv\",sep=\";\")\n",
    "\n",
    "\n",
    "df_dupak_all.reset_index(inplace=True, drop=True)\n",
    "\n",
    "\n",
    "\n",
    "knn_enriched = KNeighborsClassifier()\n",
    "knn_index_enriched={}\n",
    "vecs_enriched=df_dupak_all.tfidf_vec_enriched.to_list()\n",
    "idxs_enriched=df_dupak_all.index.to_list()\n",
    "activities=df_dupak_all.activities.to_list()\n",
    "for i,val in enumerate(activities):\n",
    "    knn_index_enriched[i]=val\n",
    "knn_enriched.fit(vecs_enriched, idxs_enriched)\n",
    "with open(knn_model_path_enriched,\"wb\") as fi:\n",
    "  pickle.dump(knn_enriched,fi)\n",
    "  print(\"train KNN DONE. Model saved in \",knn_model_path_enriched)\n",
    "with open(knn_index_path_enriched,\"wb\") as fi:\n",
    "  pickle.dump(knn_index_enriched,fi)\n",
    "  print(\"Index saved in \",knn_index_path_enriched)\n",
    "\n",
    "\n",
    "\n"
   ]
  },
  {
   "cell_type": "code",
   "execution_count": 407,
   "id": "8992609b-bc37-4c66-8416-37dca3c66e29",
   "metadata": {},
   "outputs": [],
   "source": [
    "# from nltk.tag import CRFTagger\n",
    "# ct = CRFTagger()\n",
    "# ct.set_model_file('model/all_indo_man_tag_corpus_model.crf.tagger')\n",
    "# hasil = ct.tag_sents([['Saya','bekerja','di','Bandung']])\n",
    "# s='penuh minta layan teknolog informasi'\n",
    "# s2='Melakukan pemenuhan permintaan dan layanan teknologi informasi'\n",
    "# ct.tag_sents([s.split()]),ct.tag_sents([s2.split()])"
   ]
  },
  {
   "cell_type": "markdown",
   "id": "825403a1-760a-4b70-8842-704901f366ac",
   "metadata": {},
   "source": [
    "# compare tfidf model 1 and 2"
   ]
  },
  {
   "cell_type": "code",
   "execution_count": 482,
   "id": "ffbcb650-e326-4783-8e44-ea487e6d7854",
   "metadata": {},
   "outputs": [
    {
     "name": "stdout",
     "output_type": "stream",
     "text": [
      "Q:jurnal internasional\n",
      "0)Tingkat Internasional-->idx:327 distance:1.1151716708765296 AK:35% AK kenaikan\n",
      "pangkat\n",
      "1)dalam bentuk buku/majalah ilmiah internasional yang diterbitkan internasional yang terindek-->idx:281 distance:1.1447162451190245 AK:20\n",
      "2)dalam bentuk buku/majalah ilmiah internasional yang diterbitkan nasional-->idx:282 distance:1.2586365510044788 AK:12.5\n",
      "3)Menjadi Editor Karya Tulis Ilmiah, Jurnal, Konferensi, Forum Ilmiah\n",
      "dan Lain-Lain di Bidang Teknologi Informasi.Lamanya kurang dari 30 jam-->idx:318 distance:1.2927334438241374 AK:0.5\n",
      "4)Menjadi Reviewer Karya Tulis Ilmiah, Jurnal, Konferensi, Forum Ilmiah\n",
      "dan Lain-Lain di Bidang Teknologi Informasi.Lamanya kurang dari 30 jam-->idx:317 distance:1.2927334438241374 AK:0.5\n",
      "CPU times: user 263 ms, sys: 8.16 ms, total: 271 ms\n",
      "Wall time: 43.7 ms\n"
     ]
    }
   ],
   "source": [
    "%%time\n",
    "merge_result={\"vanilla\":{},\"enriched\":{}}\n",
    "q=\"jurnal internasional\"\n",
    "q_cleansed=text_preprocessing(q)\n",
    "q_vector=vectorize_tfidf(q_cleansed)\n",
    "(distances, indices) = knn.kneighbors([q_vector],n_neighbors=5)\n",
    "indices = indices.tolist()\n",
    "res=[knn_index[x] for x in indices[0]]\n",
    "print(\"Q:{}\".format(q))\n",
    "for i,x in enumerate(res):\n",
    "    print(\"{}){}-->idx:{} distance:{} AK:{}\".format(i,x,indices[0][i],distances[0][i],df_dupak_all.loc[indices[0][i],[\"ak\"]][0]))\n",
    "    merge_result[\"vanilla\"][i]={\"index\":indices[0][i],\"distance\":distances[0][i],\"activity\":x,\"ak\":df_dupak_all.loc[indices[0][i],[\"ak\"]][0]}\n"
   ]
  },
  {
   "cell_type": "code",
   "execution_count": 483,
   "id": "514c4eb7-4cff-4b01-be4b-9818221819d3",
   "metadata": {},
   "outputs": [
    {
     "name": "stdout",
     "output_type": "stream",
     "text": [
      "Q:jurnal internasional\n",
      "0)Tingkat Internasional-->idx:327 distance:1.0404298453804781 AK:35% AK kenaikan\n",
      "pangkat\n",
      "1)dalam bentuk buku/majalah ilmiah internasional yang diterbitkan internasional yang terindek-->idx:281 distance:1.1290180289677365 AK:20\n",
      "2)dalam bentuk buku/majalah ilmiah internasional yang diterbitkan nasional-->idx:282 distance:1.2506157077020703 AK:12.5\n",
      "3)dalam bentuk buku/majalah ilmiah internasional yang diterbitkan dan diakui oleh organisasi profesi dan Instansi Pembina-->idx:283 distance:1.2843768381700806 AK:6\n",
      "4)Menjadi Reviewer Karya Tulis Ilmiah, Jurnal, Konferensi, Forum Ilmiah\n",
      "dan Lain-Lain di Bidang Teknologi Informasi.Lamanya kurang dari 30 jam-->idx:317 distance:1.3155125513236028 AK:0.5\n",
      "CPU times: user 302 ms, sys: 23.9 ms, total: 326 ms\n",
      "Wall time: 90 ms\n"
     ]
    }
   ],
   "source": [
    "%%time\n",
    "q=\"jurnal internasional\"\n",
    "q_cleansed=text_preprocessing(q)\n",
    "q_vector=vectorize_tfidf_enriched(q_cleansed)\n",
    "(distances, indices) = knn_enriched.kneighbors([q_vector],n_neighbors=5)\n",
    "indices = indices.tolist()\n",
    "res=[knn_index_enriched[x] for x in indices[0]]\n",
    "print(\"Q:{}\".format(q))\n",
    "for i,x in enumerate(res):\n",
    "    print(\"{}){}-->idx:{} distance:{} AK:{}\".format(i,x,indices[0][i],distances[0][i],df_dupak_all.loc[indices[0][i],[\"ak\"]][0]))\n",
    "    merge_result[\"enriched\"][i]={\"index\":indices[0][i],\"distance\":distances[0][i],\"activity\":x,\"ak\":df_dupak_all.loc[indices[0][i],[\"ak\"]][0]}\n"
   ]
  },
  {
   "cell_type": "code",
   "execution_count": 484,
   "id": "f2e9d9cc-ea37-4986-b66e-619568ecc8ef",
   "metadata": {},
   "outputs": [
    {
     "name": "stdout",
     "output_type": "stream",
     "text": [
      "Tingkat Internasional,35% AK kenaikan\n",
      "pangkatx35% AK kenaikan\n",
      "pangkat.<--enriched\n",
      "dalam bentuk buku/majalah ilmiah internasional yang diterbitkan internasional yang terindek,20x20.<--enriched\n",
      "dalam bentuk buku/majalah ilmiah internasional yang diterbitkan nasional,12.5x12.5.<--enriched\n",
      "dalam bentuk buku/majalah ilmiah internasional yang diterbitkan dan diakui oleh organisasi profesi dan Instansi Pembina,0.5x0.5.<--enriched\n",
      "Menjadi Reviewer Karya Tulis Ilmiah, Jurnal, Konferensi, Forum Ilmiah\n",
      "dan Lain-Lain di Bidang Teknologi Informasi.Lamanya kurang dari 30 jam,0.5x0.5.<--vanilla\n"
     ]
    }
   ],
   "source": [
    "for i in range(5):\n",
    "    lbl=\"\"\n",
    "    if merge_result[\"vanilla\"][i][\"distance\"] < merge_result[\"enriched\"][i][\"distance\"]:\n",
    "        idx=merge_result[\"vanilla\"][i][\"index\"]\n",
    "        lbl=\"vanilla\"\n",
    "        ak=merge_result[\"vanilla\"][i][\"ak\"]\n",
    "    else:\n",
    "        idx=merge_result[\"enriched\"][i][\"index\"]\n",
    "        lbl=\"enriched\"\n",
    "        ak=merge_result[\"vanilla\"][i][\"ak\"]\n",
    "    if lbl==\"vanilla\":\n",
    "        print(\"{},{}x{}.<--{}\".format(knn_index_enriched[idx],ak,merge_result[\"enriched\"][i][\"ak\"],lbl))\n",
    "    else:\n",
    "        print(\"{},{}x{}.<--{}\".format(knn_index_enriched[idx],ak,merge_result[\"vanilla\"][i][\"ak\"],lbl))\n",
    "  \n",
    "    "
   ]
  },
  {
   "cell_type": "markdown",
   "id": "3b27ab4d-d48b-4026-967e-5a002cbab10a",
   "metadata": {},
   "source": [
    "# long story short for tfidf (combi of vanilla and enriched model)"
   ]
  },
  {
   "cell_type": "code",
   "execution_count": 486,
   "id": "c1be9177-906b-4bbd-9878-de160223f626",
   "metadata": {},
   "outputs": [
    {
     "name": "stdout",
     "output_type": "stream",
     "text": [
      "Q:instalasi perangkat server untuk pengadaan big data\n",
      "0)Melakukan instalasi/updating DBMS-->idx:18 distance:1.122351297489197 AK:0.055\n",
      "1)Melakukan instalasi dan konfigurasi DBMS-->idx:168 distance:1.1923660095245319 AK:0.12\n",
      "2)Melakukan instalasi/upgrade dan konfigurasi sistem operasi/aplikasi-->idx:259 distance:1.215561755630454 AK:0.11\n",
      "3)Melakukan pemasangan perangkat fisik TI-->idx:46 distance:1.2288131520676568 AK:0.165\n",
      "4)Melakukan pengujian perangkat TI End User-->idx:42 distance:1.2410606488619975 AK:0.225\n",
      "=====================================================\n",
      "0)Melakukan instalasi/upgrade sistem operasi komputer/perangkat lunak pada infrastruktur TI-->idx:49 distance:1.191000390099888 AK:0.042\n",
      "1)Melakukan instalasi dan konfigurasi DBMS-->idx:168 distance:1.1968963876206786 AK:0.12\n",
      "2)Melakukan instalasi/updating DBMS-->idx:18 distance:1.2149537301311069 AK:0.055\n",
      "3)Melakukan instalasi/upgrade dan konfigurasi sistem operasi/aplikasi-->idx:259 distance:1.2576386547513811 AK:0.11\n",
      "4)Melakukan pengujian perangkat TI End User-->idx:42 distance:1.267470153475037 AK:0.225\n",
      "=====================================================\n",
      "0) Melakukan instalasi/updating DBMS,0.055x0.042.<--vanilla\n",
      "1) Melakukan instalasi dan konfigurasi DBMS,0.12x0.12.<--vanilla\n",
      "2) Melakukan instalasi/updating DBMS,0.11x0.11.<--enriched\n",
      "3) Melakukan pemasangan perangkat fisik TI,0.165x0.11.<--vanilla\n",
      "4) Melakukan pengujian perangkat TI End User,0.225x0.225.<--vanilla\n"
     ]
    }
   ],
   "source": [
    "q=\"instalasi perangkat server untuk pengadaan big data\"\n",
    "merge_result={\"vanilla\":{},\"enriched\":{}}\n",
    "q_cleansed=text_preprocessing(q)\n",
    "q_vector=vectorize_tfidf(q_cleansed)\n",
    "(distances, indices) = knn.kneighbors([q_vector],n_neighbors=5)\n",
    "indices = indices.tolist()\n",
    "res=[knn_index[x] for x in indices[0]]\n",
    "print(\"Q:{}\".format(q))\n",
    "for i,x in enumerate(res):\n",
    "    print(\"{}){}-->idx:{} distance:{} AK:{}\".format(i,x,indices[0][i],distances[0][i],df_dupak_all.loc[indices[0][i],[\"ak\"]][0]))\n",
    "    merge_result[\"vanilla\"][i]={\"index\":indices[0][i],\"distance\":distances[0][i],\"activity\":x,\"ak\":df_dupak_all.loc[indices[0][i],[\"ak\"]][0]}\n",
    "print(\"=====================================================\")\n",
    "q_cleansed=text_preprocessing(q)\n",
    "q_vector=vectorize_tfidf_enriched(q_cleansed)\n",
    "(distances, indices) = knn_enriched.kneighbors([q_vector],n_neighbors=5)\n",
    "indices = indices.tolist()\n",
    "res=[knn_index_enriched[x] for x in indices[0]]\n",
    "# print(\"Q:{}\".format(q))\n",
    "for i,x in enumerate(res):\n",
    "    print(\"{}){}-->idx:{} distance:{} AK:{}\".format(i,x,indices[0][i],distances[0][i],df_dupak_all.loc[indices[0][i],[\"ak\"]][0]))\n",
    "    merge_result[\"enriched\"][i]={\"index\":indices[0][i],\"distance\":distances[0][i],\"activity\":x,\"ak\":df_dupak_all.loc[indices[0][i],[\"ak\"]][0]}\n",
    "print(\"=====================================================\")\n",
    "for i in range(5):\n",
    "    lbl=\"\"\n",
    "    if merge_result[\"vanilla\"][i][\"distance\"] < merge_result[\"enriched\"][i][\"distance\"]:\n",
    "        idx=merge_result[\"vanilla\"][i][\"index\"]\n",
    "        lbl=\"vanilla\"\n",
    "        ak=merge_result[\"vanilla\"][i][\"ak\"]\n",
    "    else:\n",
    "        idx=merge_result[\"enriched\"][i][\"index\"]\n",
    "        lbl=\"enriched\"\n",
    "        ak=merge_result[\"vanilla\"][i][\"ak\"]\n",
    "    if lbl==\"vanilla\":\n",
    "        print(\"{}) {},{}x{}.<--{}\".format(i,knn_index_enriched[idx],ak,merge_result[\"enriched\"][i][\"ak\"],lbl))\n",
    "    else:\n",
    "        print(\"{}) {},{}x{}.<--{}\".format(i,knn_index_enriched[idx],ak,merge_result[\"vanilla\"][i][\"ak\"],lbl))"
   ]
  },
  {
   "cell_type": "code",
   "execution_count": 418,
   "id": "19315ead-e535-4089-891c-b14e81c28fb2",
   "metadata": {},
   "outputs": [],
   "source": [
    "# df_dupak_all.loc[264,[\"activity_cleansed\",\"activity_enriched_cleansed\"]]"
   ]
  },
  {
   "cell_type": "markdown",
   "id": "55672efe-bdc0-4fbc-9c69-0497e46ef505",
   "metadata": {},
   "source": [
    "# try google embedding\n",
    "https://indobenchmark.github.io/tutorials/pytorch/deep%20learning/nlp/2020/10/18/basic-pytorch-id.html"
   ]
  },
  {
   "cell_type": "code",
   "execution_count": 487,
   "id": "42e7209c-36d3-4f92-922b-60b81ac28cab",
   "metadata": {},
   "outputs": [
    {
     "data": {
      "text/plain": [
       "0    Melakukan pemenuhan permintaan dan layanan teknologi informasi\n",
       "1            Melakukan pengumpulan informasi mengenai data instansi\n",
       "Name: activities, dtype: object"
      ]
     },
     "execution_count": 487,
     "metadata": {},
     "output_type": "execute_result"
    }
   ],
   "source": [
    "df_dupak_all.activities.head(2)"
   ]
  },
  {
   "cell_type": "code",
   "execution_count": null,
   "id": "51ee4978-4d4f-4928-9cbc-ad87943753b0",
   "metadata": {},
   "outputs": [],
   "source": [
    "# !TMPDIR=/home/pusintek/tmp pip install --cache-dir=$TMPDIR --build=$TMPDIR tensorflow-gpu"
   ]
  },
  {
   "cell_type": "markdown",
   "id": "991fc25b-4a5f-4267-8e01-4ad923942da2",
   "metadata": {},
   "source": [
    "# load indobert model"
   ]
  },
  {
   "cell_type": "code",
   "execution_count": 488,
   "id": "633d4d24-d200-4897-aa75-44c45330d78a",
   "metadata": {},
   "outputs": [
    {
     "name": "stderr",
     "output_type": "stream",
     "text": [
      "Some weights of BertForSequenceClassification were not initialized from the model checkpoint at model and are newly initialized: ['classifier.weight', 'classifier.bias']\n",
      "You should probably TRAIN this model on a down-stream task to be able to use it for predictions and inference.\n"
     ]
    }
   ],
   "source": [
    "# import sentencepiece\n",
    "from transformers import BertConfig, BertTokenizer, BertForSequenceClassification\n",
    "\n",
    "bert_tokenizer = BertTokenizer.from_pretrained(\"model\")\n",
    "bert_config = BertConfig.from_pretrained(\"model\")\n",
    "bert_model = BertForSequenceClassification.from_pretrained(\"model\", config=bert_config)"
   ]
  },
  {
   "cell_type": "code",
   "execution_count": 489,
   "id": "8fba23d6-9d58-4651-99ad-c9bfc043ba18",
   "metadata": {},
   "outputs": [],
   "source": [
    "# x = torch.LongTensor(bert_tokenizer.encode('aku adalah anak [MASK]')).view(1,-1)\n",
    "# print(x)\n",
    "# print(bert_model(x)[0].detach().numpy()[0])\n",
    "# print(bert_model(x)[0].sum())\n",
    "from scipy import spatial\n",
    "\n",
    "def get_cosine_similarity(a,b):\n",
    "    simscore = 1 - spatial.distance.cosine(a, b)\n",
    "    return simscore\n",
    "def vectorize_by_indobert(txt):\n",
    "    txt=txt+ \" [MASK]\"\n",
    "    x = torch.LongTensor(bert_tokenizer.encode(txt)).view(1,-1)\n",
    "    return bert_model(x)[0].detach().numpy()[0].tolist()\n",
    "# v1=vectorize_by_indobert('menyusun jurnal ilmiah')\n",
    "# v2=vectorize_by_indobert('main bola di lapangan')\n",
    "# v3=vectorize_by_indobert('instalasi database')\n",
    "# print(get_cosine_similarity(v1,v2))\n",
    "# print(get_cosine_similarity(v1,v3))\n",
    "# print(get_cosine_similarity(v2,v3))"
   ]
  },
  {
   "cell_type": "markdown",
   "id": "bd129d3a-5760-40a3-92ca-9376f918ab00",
   "metadata": {},
   "source": [
    "# vectorize the activities using to indobert vector"
   ]
  },
  {
   "cell_type": "code",
   "execution_count": 490,
   "id": "db7dda33-cf31-4b3c-bf39-65fd40ccba8d",
   "metadata": {},
   "outputs": [
    {
     "name": "stderr",
     "output_type": "stream",
     "text": [
      "100%|██████████| 336/336 [00:17<00:00, 19.21it/s]\n"
     ]
    }
   ],
   "source": [
    "tqdm.pandas()\n",
    "df_dupak_all[\"indobert_vec\"]=df_dupak_all.activities.progress_apply(vectorize_by_indobert)"
   ]
  },
  {
   "cell_type": "markdown",
   "id": "42a0ff59-2e1c-4036-a5ff-acfd8ef31879",
   "metadata": {},
   "source": [
    "# save df to csv"
   ]
  },
  {
   "cell_type": "code",
   "execution_count": 491,
   "id": "efe68270-c24f-46a6-a18f-be6ae43c3478",
   "metadata": {},
   "outputs": [],
   "source": [
    "df_dupak_all.to_csv(\"data/dupak_all.csv\",sep=\";\")"
   ]
  },
  {
   "cell_type": "markdown",
   "id": "0765a7aa-e6a5-4edf-a499-6ea48e83e07d",
   "metadata": {},
   "source": [
    "# train knn on indobert vecs"
   ]
  },
  {
   "cell_type": "code",
   "execution_count": 492,
   "id": "0a4ce62d-0c85-43cd-a9e2-09997e90c6a1",
   "metadata": {},
   "outputs": [
    {
     "name": "stdout",
     "output_type": "stream",
     "text": [
      "train KNN DONE. Model saved in  model/knn_indobert.pkl\n",
      "Index saved in  model/knn_index_indobert.pkl\n"
     ]
    }
   ],
   "source": [
    "knn_model_path_indobert=\"model/knn_indobert.pkl\"\n",
    "knn_index_path_indobert=\"model/knn_index_indobert.pkl\"\n",
    "knn_indobert = KNeighborsClassifier()\n",
    "knn_index_indobert={}\n",
    "vecs_indobert=df_dupak_all.indobert_vec.to_list()\n",
    "idxs_indobert=df_dupak_all.index.to_list()\n",
    "activities=df_dupak_all.activities.to_list()\n",
    "for i,val in enumerate(activities):\n",
    "    knn_index_indobert[i]=val\n",
    "knn_indobert.fit(vecs_indobert, idxs_indobert)\n",
    "with open(knn_model_path_indobert,\"wb\") as fi:\n",
    "  pickle.dump(knn_indobert,fi)\n",
    "  print(\"train KNN DONE. Model saved in \",knn_model_path_indobert)\n",
    "with open(knn_index_path_indobert,\"wb\") as fi:\n",
    "  pickle.dump(knn_index_indobert,fi)\n",
    "  print(\"Index saved in \",knn_index_path_indobert)"
   ]
  },
  {
   "cell_type": "markdown",
   "id": "37dad3f0-bdf3-4ddb-b487-728782bcd846",
   "metadata": {},
   "source": [
    "# try quey knn + indobert"
   ]
  },
  {
   "cell_type": "code",
   "execution_count": 494,
   "id": "e835d76f-ae21-4196-9e3d-fdf6e62d1fc0",
   "metadata": {},
   "outputs": [
    {
     "name": "stdout",
     "output_type": "stream",
     "text": [
      "0)Melakukan implementasi data model-->idx:148 distance:0.08241962855812317 AK:0.22\n",
      "1)Menyusun komponen Enterprise Architecture (EA) saat ini-->idx:83 distance:0.092896136861438 AK:1.32\n",
      "2)Melakukan implementasi teknologi data-->idx:22 distance:0.10132851006563152 AK:0.11\n",
      "3)Menyusun pengembangan komponen Enterprise Architecture (EA ) masa yang akan datang-->idx:84 distance:0.10254615603709273 AK:4.84\n",
      "4)Melakukan perancangan data model-->idx:147 distance:0.10275202989941994 AK:0.66\n"
     ]
    }
   ],
   "source": [
    "q=\"instalasi perangkat server untuk pengadaan big data\"\n",
    "q_vector=vectorize_by_indobert(q)\n",
    "(distances, indices) = knn_indobert.kneighbors([q_vector],n_neighbors=5)\n",
    "indices = indices.tolist()\n",
    "res=[knn_index_indobert[x] for x in indices[0]]\n",
    "# print(\"Q:{}\".format(q))\n",
    "for i,x in enumerate(res):\n",
    "    print(\"{}){}-->idx:{} distance:{} AK:{}\".format(i,x,indices[0][i],distances[0][i],df_dupak_all.loc[indices[0][i],[\"ak\"]][0]))\n",
    "\n"
   ]
  },
  {
   "cell_type": "code",
   "execution_count": null,
   "id": "5bfb5566-d29f-4d7a-80ed-722280b77369",
   "metadata": {},
   "outputs": [],
   "source": []
  },
  {
   "cell_type": "code",
   "execution_count": null,
   "id": "ca3eeacb-4510-44b8-a8ea-0dd91ce229d3",
   "metadata": {},
   "outputs": [],
   "source": []
  },
  {
   "cell_type": "code",
   "execution_count": null,
   "id": "c1c3c241-6fdf-4729-9002-ff9d1e0a4558",
   "metadata": {},
   "outputs": [],
   "source": []
  },
  {
   "cell_type": "code",
   "execution_count": null,
   "id": "1183226d-147b-4c2a-a2cf-c7b057bf2082",
   "metadata": {},
   "outputs": [],
   "source": []
  },
  {
   "cell_type": "markdown",
   "id": "6b0ba5bc-4b9a-4929-bf17-66a7267ecfd3",
   "metadata": {},
   "source": [
    "# use BERT english and translator :)"
   ]
  },
  {
   "cell_type": "code",
   "execution_count": 191,
   "id": "67106923-4a00-4010-a6f6-4e92a4d714f4",
   "metadata": {},
   "outputs": [],
   "source": [
    "# !pip uninstall -y googletrans\n",
    "# !pip uninstall -y googletrans==3.1.0a0\n",
    "# !pip install googletrans==4.0.0-rc1\n",
    "# !pip install translators --upgrade"
   ]
  },
  {
   "cell_type": "code",
   "execution_count": 417,
   "id": "eafc0dae-003a-4b73-9123-9e9636b6191f",
   "metadata": {},
   "outputs": [],
   "source": [
    "# from googletrans import Translator, constants\n",
    "# # from pprint import pprint\n",
    "# from google_trans_new2 import google_trans_new\n",
    "import translators as ts"
   ]
  },
  {
   "cell_type": "code",
   "execution_count": 197,
   "id": "cfe7bb85-a1e5-41e1-a8a4-b7acced89cf2",
   "metadata": {},
   "outputs": [],
   "source": [
    "\n",
    "# import sys\n",
    "# sys.path.insert(1,\"/home/pusintek/project/andri/dupakq/google_trans_new\")\n",
    "# sys.path.insert(2,\"/home/pusintek/project/andri/dupakq/constant\")\n",
    "# from google_trans_new2 import google_trans_new\n",
    "# # from google_trans_new  import google_translator\n",
    "# translator = google_translator()  \n",
    "# translate_text = translator.translate('Hola mundo!', lang_src='es', lang_tgt='en')  \n",
    "# print(translate_text)\n",
    "# ts._google.language_map"
   ]
  },
  {
   "cell_type": "code",
   "execution_count": 495,
   "id": "b846d433-c0c2-45f0-a877-77445b8a08c6",
   "metadata": {},
   "outputs": [
    {
     "data": {
      "text/plain": [
       "'Develop international scientific journals.'"
      ]
     },
     "execution_count": 495,
     "metadata": {},
     "output_type": "execute_result"
    }
   ],
   "source": [
    "phrase = 'menyusun jurnal ilmiah internasional.'\n",
    "ts.google(phrase, from_language='id', to_language='en',sleep_seconds=randrange(1,2))"
   ]
  },
  {
   "cell_type": "code",
   "execution_count": 496,
   "id": "50942926-fda8-483b-8b63-ae02e14da1ba",
   "metadata": {},
   "outputs": [],
   "source": [
    "def translate_to_en(txt):\n",
    "    en=\"\"\n",
    "    try:\n",
    "        en= ts.google(txt, from_language='id', to_language='en',sleep_seconds=random.uniform(0.5, 1.9))\n",
    "    except:\n",
    "        try:\n",
    "            print(\"\\rretry using google translate\",end=\"\")\n",
    "            en= ts.google(txt, from_language='id', to_language='en',sleep_seconds=random.uniform(0.5, 1.9))\n",
    "        except:\n",
    "            print(\"cannot translate:{}\".format(txt))\n",
    "    return en    \n",
    "    \n",
    "    \n",
    "# a=\"ayo pergi ke masjid\"\n",
    "# b=\"di sana ada mangkuk air zam-zam\"\n",
    "# c=\"segar dan berkah\"\n",
    "# for id in [a,b,c]:\n",
    "#     t0=datetime.now()\n",
    "#     en=translate_to_en(id)\n",
    "#     print(\"{}-->{}\".format(id,en))\n",
    "#     t1=datetime.now()\n",
    "#     diff=t1-t0\n",
    "#     print(\"sleep={}\".format(diff.seconds))\n",
    "    "
   ]
  },
  {
   "cell_type": "markdown",
   "id": "988d70aa-473e-4177-ba61-ea4cdb6cd551",
   "metadata": {},
   "source": [
    "# new column contaning english translation of acivities"
   ]
  },
  {
   "cell_type": "code",
   "execution_count": 497,
   "id": "a0e0a7fe-07f5-4854-87a7-698b19fe1a4b",
   "metadata": {},
   "outputs": [
    {
     "name": "stderr",
     "output_type": "stream",
     "text": [
      " 45%|████▍     | 151/336 [05:04<06:13,  2.02s/it]"
     ]
    },
    {
     "name": "stdout",
     "output_type": "stream",
     "text": [
      "retry using google translate"
     ]
    },
    {
     "name": "stderr",
     "output_type": "stream",
     "text": [
      " 89%|████████▉ | 299/336 [10:25<01:52,  3.05s/it]"
     ]
    },
    {
     "name": "stdout",
     "output_type": "stream",
     "text": [
      "retry using google translate"
     ]
    },
    {
     "name": "stderr",
     "output_type": "stream",
     "text": [
      " 89%|████████▉ | 300/336 [11:05<08:29, 14.15s/it]"
     ]
    },
    {
     "name": "stdout",
     "output_type": "stream",
     "text": [
      "cannot translate:Seminar/lokakarya/konferensi/simposium/studi banding lapangan.dalam bentuk makalah\n",
      "retry using google translate"
     ]
    },
    {
     "name": "stderr",
     "output_type": "stream",
     "text": [
      "100%|██████████| 336/336 [12:29<00:00,  2.23s/it]\n"
     ]
    }
   ],
   "source": [
    "tqdm.pandas()\n",
    "df_dupak_all[\"activity_en\"]=df_dupak_all.activities.progress_apply(translate_to_en)"
   ]
  },
  {
   "cell_type": "code",
   "execution_count": 501,
   "id": "5a3011e5-da7b-402e-865d-2482c898d415",
   "metadata": {},
   "outputs": [
    {
     "data": {
      "text/html": [
       "<div>\n",
       "<style scoped>\n",
       "    .dataframe tbody tr th:only-of-type {\n",
       "        vertical-align: middle;\n",
       "    }\n",
       "\n",
       "    .dataframe tbody tr th {\n",
       "        vertical-align: top;\n",
       "    }\n",
       "\n",
       "    .dataframe thead th {\n",
       "        text-align: right;\n",
       "    }\n",
       "</style>\n",
       "<table border=\"1\" class=\"dataframe\">\n",
       "  <thead>\n",
       "    <tr style=\"text-align: right;\">\n",
       "      <th></th>\n",
       "      <th>activities</th>\n",
       "      <th>activity_code</th>\n",
       "    </tr>\n",
       "  </thead>\n",
       "  <tbody>\n",
       "    <tr>\n",
       "      <th>298</th>\n",
       "      <td>Seminar/lokakarya/konferensi/simposium/studi banding lapangan.dalam bentuk makalah</td>\n",
       "      <td>Semua Jenjang_IV.E.2</td>\n",
       "    </tr>\n",
       "  </tbody>\n",
       "</table>\n",
       "</div>"
      ],
      "text/plain": [
       "                                                                             activities  \\\n",
       "298  Seminar/lokakarya/konferensi/simposium/studi banding lapangan.dalam bentuk makalah   \n",
       "\n",
       "            activity_code  \n",
       "298  Semua Jenjang_IV.E.2  "
      ]
     },
     "execution_count": 501,
     "metadata": {},
     "output_type": "execute_result"
    }
   ],
   "source": [
    "x=\"Seminar/lokakarya/konferensi/simposium/studi banding lapangan.dalam bentuk makalah\"\n",
    "df_dupak_all[df_dupak_all.activities.str.contains(x)][[\"activities\",\"activity_code\"]]"
   ]
  },
  {
   "cell_type": "code",
   "execution_count": 505,
   "id": "cd2fc131-b967-4191-82da-d463ba42e48a",
   "metadata": {},
   "outputs": [],
   "source": [
    "df_dupak_all.at[298,\"activities\"]='Seminar atau lokakarya atau konferensi atau simposium atau studi banding lapangan dalam bentuk makalah'"
   ]
  },
  {
   "cell_type": "code",
   "execution_count": 507,
   "id": "6dfd929a-f59e-460d-ae27-734533e9aea7",
   "metadata": {},
   "outputs": [
    {
     "data": {
      "text/plain": [
       "'Seminar atau lokakarya atau konferensi atau simposium atau studi banding lapangan dalam bentuk makalah'"
      ]
     },
     "execution_count": 507,
     "metadata": {},
     "output_type": "execute_result"
    }
   ],
   "source": [
    "df_dupak_all.at[298,\"activities\"]"
   ]
  },
  {
   "cell_type": "code",
   "execution_count": 508,
   "id": "123d403a-f0d0-49a2-8a63-3ae8440128e6",
   "metadata": {},
   "outputs": [],
   "source": [
    "df_dupak_all.at[298,\"activity_en\"]=translate_to_en(df_dupak_all.at[298,\"activities\"])"
   ]
  },
  {
   "cell_type": "code",
   "execution_count": 509,
   "id": "42c64f4d-067c-43b0-9275-8231d151e052",
   "metadata": {},
   "outputs": [
    {
     "data": {
      "text/plain": [
       "'Seminars or workshops or conferences or symposiums or field comparative studies in the form of papers'"
      ]
     },
     "execution_count": 509,
     "metadata": {},
     "output_type": "execute_result"
    }
   ],
   "source": [
    "df_dupak_all.at[298,\"activity_en\"]"
   ]
  },
  {
   "cell_type": "markdown",
   "id": "b726422a-e12e-4e0b-9ace-37de6305cf3a",
   "metadata": {},
   "source": [
    "# save dataframe to csv"
   ]
  },
  {
   "cell_type": "code",
   "execution_count": 510,
   "id": "0dcd4ad5-42f9-46a3-8db7-bc03a412c150",
   "metadata": {},
   "outputs": [],
   "source": [
    "df_dupak_all.to_csv(\"data/dupak_all.csv\",sep=\";\")"
   ]
  },
  {
   "cell_type": "code",
   "execution_count": 511,
   "id": "27354fdd-9201-49e3-8549-cfd9d82821de",
   "metadata": {},
   "outputs": [
    {
     "data": {
      "text/plain": [
       "(336, 336)"
      ]
     },
     "execution_count": 511,
     "metadata": {},
     "output_type": "execute_result"
    }
   ],
   "source": [
    "len(df_dupak_all.activity_code.to_list()),len(df_dupak_all.activity_code.unique())"
   ]
  },
  {
   "cell_type": "code",
   "execution_count": 512,
   "id": "ac492639-b7f7-4ac6-9165-52eb73e99cc6",
   "metadata": {},
   "outputs": [
    {
     "data": {
      "text/plain": [
       "0    Fulfillment of Demand and Information Technology Services\n",
       "1                        Conduct information about agency data\n",
       "2                     Administering data management activities\n",
       "3                        Record the problem of data management\n",
       "4            Conduct data architecture data on data technology\n",
       "Name: activity_en, dtype: object"
      ]
     },
     "execution_count": 512,
     "metadata": {},
     "output_type": "execute_result"
    }
   ],
   "source": [
    "df_dupak_all[\"activity_en\"].head()"
   ]
  },
  {
   "cell_type": "markdown",
   "id": "ad2e8498-e908-45a2-9ba9-b4a598e686a8",
   "metadata": {},
   "source": [
    "# get english bert model"
   ]
  },
  {
   "cell_type": "code",
   "execution_count": 513,
   "id": "3a0ad7f5-d191-4823-9c05-fa99b3728823",
   "metadata": {},
   "outputs": [],
   "source": [
    "model_class, tokenizer_class, pretrained_weights = (ppb.DistilBertModel, ppb.DistilBertTokenizer, 'distilbert-base-uncased')\n",
    "\n",
    "## Want BERT instead of distilBERT? Uncomment the following line:\n",
    "#model_class, tokenizer_class, pretrained_weights = (ppb.BertModel, ppb.BertTokenizer, 'bert-base-uncased')\n",
    "\n",
    "# Load pretrained model/tokenizer\n",
    "# tokenizer = tokenizer_class.from_pretrained(pretrained_weights)\n",
    "# model = model_class.from_pretrained(pretrained_weights)\n",
    "tokenizer = tokenizer_class.from_pretrained(\"model/en_bert_model\")\n",
    "model = model_class.from_pretrained(\"model/en_bert_model\")"
   ]
  },
  {
   "cell_type": "code",
   "execution_count": 220,
   "id": "c2d7cc78-5c50-4ab9-a034-bc808915334f",
   "metadata": {},
   "outputs": [],
   "source": [
    "# model.save_pretrained(\"model/en_bert_model\")"
   ]
  },
  {
   "cell_type": "code",
   "execution_count": 514,
   "id": "4661b828-78e1-4f4e-b11e-5d62c60ebb53",
   "metadata": {},
   "outputs": [],
   "source": [
    "# tokenizer.save_pretrained(\"model/en_bert_model\")"
   ]
  },
  {
   "cell_type": "code",
   "execution_count": 515,
   "id": "1f03dfe1-5f49-4c6e-9715-ff76ba9b38d3",
   "metadata": {},
   "outputs": [
    {
     "name": "stderr",
     "output_type": "stream",
     "text": [
      "100%|██████████| 336/336 [00:00<00:00, 1862.09it/s]\n"
     ]
    }
   ],
   "source": [
    "tqdm.pandas()\n",
    "tokenized = df_dupak_all.activity_en.progress_apply((lambda x: tokenizer.encode(x, add_special_tokens=True)))"
   ]
  },
  {
   "cell_type": "code",
   "execution_count": 516,
   "id": "eb1fc2bb-cf85-4507-aa5d-da04e43f0cc9",
   "metadata": {},
   "outputs": [
    {
     "data": {
      "text/plain": [
       "0    [101, 29362, 1997, 5157, 1998, 2592, 2974, 2578, 102]\n",
       "1                 [101, 6204, 2592, 2055, 4034, 2951, 102]\n",
       "Name: activity_en, dtype: object"
      ]
     },
     "execution_count": 516,
     "metadata": {},
     "output_type": "execute_result"
    }
   ],
   "source": [
    "tokenized.head(2)"
   ]
  },
  {
   "cell_type": "code",
   "execution_count": 517,
   "id": "abc9caa3-7664-4f80-8735-8260ef2c59bb",
   "metadata": {},
   "outputs": [
    {
     "data": {
      "text/plain": [
       "array([[  101, 29362,  1997, ...,     0,     0,     0],\n",
       "       [  101,  6204,  2592, ...,     0,     0,     0],\n",
       "       [  101, 28965,  2951, ...,     0,     0,     0],\n",
       "       ...,\n",
       "       [  101,  3460,  1012, ...,     0,     0,     0],\n",
       "       [  101,  6594,  1998, ...,     0,     0,     0],\n",
       "       [  101,  3447,  1997, ...,     0,     0,     0]])"
      ]
     },
     "execution_count": 517,
     "metadata": {},
     "output_type": "execute_result"
    }
   ],
   "source": [
    "max_len = 0\n",
    "for i in tokenized.values:\n",
    "    if len(i) > max_len:\n",
    "        max_len = len(i)\n",
    "\n",
    "padded = np.array([i + [0]*(max_len-len(i)) for i in tokenized.values])\n",
    "padded"
   ]
  },
  {
   "cell_type": "code",
   "execution_count": 536,
   "id": "d523e0c3-0a58-4d55-87a6-d2ada036f1d0",
   "metadata": {},
   "outputs": [
    {
     "data": {
      "text/plain": [
       "33"
      ]
     },
     "execution_count": 536,
     "metadata": {},
     "output_type": "execute_result"
    }
   ],
   "source": [
    "max_len"
   ]
  },
  {
   "cell_type": "code",
   "execution_count": 518,
   "id": "95bdb893-84a7-4092-a384-53f2b23f36a0",
   "metadata": {},
   "outputs": [
    {
     "data": {
      "text/plain": [
       "(336, 33)"
      ]
     },
     "execution_count": 518,
     "metadata": {},
     "output_type": "execute_result"
    }
   ],
   "source": [
    "np.array(padded).shape"
   ]
  },
  {
   "cell_type": "code",
   "execution_count": 519,
   "id": "32406e3d-23f2-467f-829b-e9e1ef583276",
   "metadata": {},
   "outputs": [
    {
     "data": {
      "text/plain": [
       "array([  101, 29362,  1997,  5157,  1998,  2592,  2974,  2578,   102,\n",
       "           0,     0,     0,     0,     0,     0,     0,     0,     0,\n",
       "           0,     0,     0,     0,     0,     0,     0,     0,     0,\n",
       "           0,     0,     0,     0,     0,     0])"
      ]
     },
     "execution_count": 519,
     "metadata": {},
     "output_type": "execute_result"
    }
   ],
   "source": [
    "padded[0]"
   ]
  },
  {
   "cell_type": "code",
   "execution_count": 520,
   "id": "0ee3e271-e355-425d-a892-fb664c821eb0",
   "metadata": {},
   "outputs": [
    {
     "data": {
      "text/plain": [
       "(336, 33)"
      ]
     },
     "execution_count": 520,
     "metadata": {},
     "output_type": "execute_result"
    }
   ],
   "source": [
    "attention_mask = np.where(padded != 0, 1, 0)\n",
    "attention_mask.shape"
   ]
  },
  {
   "cell_type": "code",
   "execution_count": 521,
   "id": "fa207238-b013-486c-af3c-39aeed9711b4",
   "metadata": {},
   "outputs": [
    {
     "data": {
      "text/plain": [
       "array([[1, 1, 1, 1, 1, 1, 1, 1, 1, 0, 0, 0, 0, 0, 0, 0, 0, 0, 0, 0, 0, 0,\n",
       "        0, 0, 0, 0, 0, 0, 0, 0, 0, 0, 0],\n",
       "       [1, 1, 1, 1, 1, 1, 1, 0, 0, 0, 0, 0, 0, 0, 0, 0, 0, 0, 0, 0, 0, 0,\n",
       "        0, 0, 0, 0, 0, 0, 0, 0, 0, 0, 0]])"
      ]
     },
     "execution_count": 521,
     "metadata": {},
     "output_type": "execute_result"
    }
   ],
   "source": [
    "attention_mask[:2]"
   ]
  },
  {
   "cell_type": "code",
   "execution_count": 522,
   "id": "2303072d-754e-4071-9517-6c3ed7a4094d",
   "metadata": {},
   "outputs": [],
   "source": [
    "input_ids = torch.tensor(padded)  \n",
    "attention_mask = torch.tensor(attention_mask)\n",
    "\n",
    "with torch.no_grad():\n",
    "    last_hidden_states = model(input_ids, attention_mask=attention_mask)"
   ]
  },
  {
   "cell_type": "code",
   "execution_count": 523,
   "id": "921caa94-a3cb-4ab6-97f3-bb5126a80216",
   "metadata": {},
   "outputs": [
    {
     "data": {
      "text/plain": [
       "1"
      ]
     },
     "execution_count": 523,
     "metadata": {},
     "output_type": "execute_result"
    }
   ],
   "source": [
    "len([x for x in last_hidden_states])"
   ]
  },
  {
   "cell_type": "code",
   "execution_count": 524,
   "id": "d34e7243-3876-45be-b73b-7c5966ff08b7",
   "metadata": {},
   "outputs": [
    {
     "data": {
      "text/plain": [
       "transformers.modeling_outputs.BaseModelOutput"
      ]
     },
     "execution_count": 524,
     "metadata": {},
     "output_type": "execute_result"
    }
   ],
   "source": [
    "type(last_hidden_states)"
   ]
  },
  {
   "cell_type": "code",
   "execution_count": 525,
   "id": "bfd7452b-a4de-480a-92f3-ec46b96b7b3e",
   "metadata": {},
   "outputs": [
    {
     "data": {
      "text/plain": [
       "tensor([[[-0.2384, -0.0794, -0.3115,  ..., -0.4130,  0.2669,  0.1059],\n",
       "         [ 0.0864,  0.4610, -0.1764,  ..., -0.3894,  0.3040, -0.4283],\n",
       "         [-0.3725,  0.1786, -0.2746,  ..., -0.6169,  0.1472, -0.3323],\n",
       "         ...,\n",
       "         [ 0.2961, -0.0037,  0.2913,  ..., -0.2483, -0.2466, -0.0198],\n",
       "         [ 0.3678,  0.0308,  0.1459,  ..., -0.0993, -0.3527, -0.1773],\n",
       "         [ 0.3941,  0.0149,  0.1252,  ..., -0.0574, -0.3984, -0.2545]],\n",
       "\n",
       "        [[-0.1246,  0.1522, -0.4071,  ..., -0.4243,  0.1112,  0.4241],\n",
       "         [ 0.6646,  0.7761, -0.0115,  ..., -0.3397,  0.3953,  0.2802],\n",
       "         [-0.3118,  0.2906,  0.0245,  ..., -0.6156, -0.2054,  0.2749],\n",
       "         ...,\n",
       "         [ 0.2567, -0.0410, -0.0588,  ...,  0.0058, -0.2783,  0.0183],\n",
       "         [ 0.2828, -0.0186, -0.0459,  ...,  0.0213, -0.2813,  0.0206],\n",
       "         [ 0.3133, -0.0573, -0.0398,  ...,  0.0358, -0.3164,  0.0255]],\n",
       "\n",
       "        [[-0.2624,  0.1423, -0.2882,  ..., -0.1529,  0.0636,  0.3190],\n",
       "         [ 0.1426,  0.5666, -0.1133,  ..., -0.2219,  0.0927,  0.1936],\n",
       "         [-0.4288, -0.1616,  0.2330,  ..., -0.3614, -0.1733,  0.0296],\n",
       "         ...,\n",
       "         [ 0.0915,  0.2370, -0.1144,  ..., -0.1224, -0.2965,  0.0620],\n",
       "         [ 0.1127,  0.1670, -0.1412,  ..., -0.1217, -0.3617,  0.0032],\n",
       "         [ 0.1443,  0.1320, -0.0945,  ..., -0.1206, -0.3348, -0.0140]],\n",
       "\n",
       "        ...,\n",
       "\n",
       "        [[-0.2423, -0.0399, -0.1807,  ..., -0.2062,  0.3755,  0.2223],\n",
       "         [ 0.2807,  0.2112,  0.2417,  ..., -0.0751,  0.6577, -0.5246],\n",
       "         [-0.8544, -0.3722,  0.3009,  ...,  0.0476,  0.8297, -0.4689],\n",
       "         ...,\n",
       "         [ 0.0055, -0.0233,  0.2216,  ...,  0.0267,  0.0771,  0.2620],\n",
       "         [ 0.0737,  0.0117,  0.0471,  ...,  0.0796,  0.1287,  0.0879],\n",
       "         [-0.0931, -0.1086,  0.2497,  ...,  0.0464,  0.0933,  0.2078]],\n",
       "\n",
       "        [[-0.2042, -0.0753, -0.1844,  ..., -0.1360,  0.1358,  0.3794],\n",
       "         [ 0.0621, -0.0321, -0.2273,  ..., -0.2607,  0.3712,  0.1747],\n",
       "         [-0.3252,  0.1887, -0.2129,  ...,  0.0519, -0.1880,  0.0923],\n",
       "         ...,\n",
       "         [ 0.0261,  0.0522, -0.1184,  ..., -0.0939, -0.0890,  0.1909],\n",
       "         [ 0.1052, -0.0431, -0.1583,  ..., -0.0788, -0.0872,  0.2421],\n",
       "         [ 0.1021, -0.0955, -0.1665,  ..., -0.0256, -0.0787,  0.2202]],\n",
       "\n",
       "        [[-0.2593,  0.0991, -0.5909,  ..., -0.1756,  0.3863,  0.5990],\n",
       "         [-0.3893,  0.5560, -0.5006,  ..., -0.3739,  0.3685,  0.7885],\n",
       "         [-0.4078,  0.6506, -0.6831,  ..., -0.4103, -0.0621,  0.1807],\n",
       "         ...,\n",
       "         [ 0.1865,  0.2395,  0.0251,  ..., -0.0801, -0.1184,  0.2201],\n",
       "         [ 0.1897,  0.0028, -0.1409,  ..., -0.0167, -0.0947,  0.1834],\n",
       "         [ 0.3087,  0.1902,  0.0860,  ..., -0.1009, -0.0873,  0.2627]]])"
      ]
     },
     "execution_count": 525,
     "metadata": {},
     "output_type": "execute_result"
    }
   ],
   "source": [
    "last_hidden_states[0]"
   ]
  },
  {
   "cell_type": "code",
   "execution_count": 539,
   "id": "f51bb385-3d3a-4457-b912-f3275d076b11",
   "metadata": {},
   "outputs": [],
   "source": [
    "features = last_hidden_states[0][:,0,:].numpy()"
   ]
  },
  {
   "cell_type": "code",
   "execution_count": null,
   "id": "a26897d8-1097-42c9-8cc9-e6bac2bfa274",
   "metadata": {},
   "outputs": [],
   "source": [
    "# !TMPDIR=/home/pusintek/tmp pip install --cache-dir=$TMPDIR --build=$TMPDIR torchvision"
   ]
  },
  {
   "cell_type": "code",
   "execution_count": 420,
   "id": "021e3c69-6e0e-4f31-badd-d56a4a012cad",
   "metadata": {},
   "outputs": [],
   "source": [
    "# !TMPDIR=/home/pusintek/tmp pip install --cache-dir=$TMPDIR --build=$TMPDIR sentencepiece"
   ]
  },
  {
   "cell_type": "code",
   "execution_count": 529,
   "id": "1ff3767e-7486-45b5-9697-2d01236ebb2d",
   "metadata": {},
   "outputs": [
    {
     "data": {
      "text/plain": [
       "tensor([[[-0.2384, -0.0794, -0.3115,  ..., -0.4130,  0.2669,  0.1059],\n",
       "         [ 0.0864,  0.4610, -0.1764,  ..., -0.3894,  0.3040, -0.4283],\n",
       "         [-0.3725,  0.1786, -0.2746,  ..., -0.6169,  0.1472, -0.3323],\n",
       "         ...,\n",
       "         [ 0.2961, -0.0037,  0.2913,  ..., -0.2483, -0.2466, -0.0198],\n",
       "         [ 0.3678,  0.0308,  0.1459,  ..., -0.0993, -0.3527, -0.1773],\n",
       "         [ 0.3941,  0.0149,  0.1252,  ..., -0.0574, -0.3984, -0.2545]],\n",
       "\n",
       "        [[-0.1246,  0.1522, -0.4071,  ..., -0.4243,  0.1112,  0.4241],\n",
       "         [ 0.6646,  0.7761, -0.0115,  ..., -0.3397,  0.3953,  0.2802],\n",
       "         [-0.3118,  0.2906,  0.0245,  ..., -0.6156, -0.2054,  0.2749],\n",
       "         ...,\n",
       "         [ 0.2567, -0.0410, -0.0588,  ...,  0.0058, -0.2783,  0.0183],\n",
       "         [ 0.2828, -0.0186, -0.0459,  ...,  0.0213, -0.2813,  0.0206],\n",
       "         [ 0.3133, -0.0573, -0.0398,  ...,  0.0358, -0.3164,  0.0255]],\n",
       "\n",
       "        [[-0.2624,  0.1423, -0.2882,  ..., -0.1529,  0.0636,  0.3190],\n",
       "         [ 0.1426,  0.5666, -0.1133,  ..., -0.2219,  0.0927,  0.1936],\n",
       "         [-0.4288, -0.1616,  0.2330,  ..., -0.3614, -0.1733,  0.0296],\n",
       "         ...,\n",
       "         [ 0.0915,  0.2370, -0.1144,  ..., -0.1224, -0.2965,  0.0620],\n",
       "         [ 0.1127,  0.1670, -0.1412,  ..., -0.1217, -0.3617,  0.0032],\n",
       "         [ 0.1443,  0.1320, -0.0945,  ..., -0.1206, -0.3348, -0.0140]],\n",
       "\n",
       "        ...,\n",
       "\n",
       "        [[-0.2423, -0.0399, -0.1807,  ..., -0.2062,  0.3755,  0.2223],\n",
       "         [ 0.2807,  0.2112,  0.2417,  ..., -0.0751,  0.6577, -0.5246],\n",
       "         [-0.8544, -0.3722,  0.3009,  ...,  0.0476,  0.8297, -0.4689],\n",
       "         ...,\n",
       "         [ 0.0055, -0.0233,  0.2216,  ...,  0.0267,  0.0771,  0.2620],\n",
       "         [ 0.0737,  0.0117,  0.0471,  ...,  0.0796,  0.1287,  0.0879],\n",
       "         [-0.0931, -0.1086,  0.2497,  ...,  0.0464,  0.0933,  0.2078]],\n",
       "\n",
       "        [[-0.2042, -0.0753, -0.1844,  ..., -0.1360,  0.1358,  0.3794],\n",
       "         [ 0.0621, -0.0321, -0.2273,  ..., -0.2607,  0.3712,  0.1747],\n",
       "         [-0.3252,  0.1887, -0.2129,  ...,  0.0519, -0.1880,  0.0923],\n",
       "         ...,\n",
       "         [ 0.0261,  0.0522, -0.1184,  ..., -0.0939, -0.0890,  0.1909],\n",
       "         [ 0.1052, -0.0431, -0.1583,  ..., -0.0788, -0.0872,  0.2421],\n",
       "         [ 0.1021, -0.0955, -0.1665,  ..., -0.0256, -0.0787,  0.2202]],\n",
       "\n",
       "        [[-0.2593,  0.0991, -0.5909,  ..., -0.1756,  0.3863,  0.5990],\n",
       "         [-0.3893,  0.5560, -0.5006,  ..., -0.3739,  0.3685,  0.7885],\n",
       "         [-0.4078,  0.6506, -0.6831,  ..., -0.4103, -0.0621,  0.1807],\n",
       "         ...,\n",
       "         [ 0.1865,  0.2395,  0.0251,  ..., -0.0801, -0.1184,  0.2201],\n",
       "         [ 0.1897,  0.0028, -0.1409,  ..., -0.0167, -0.0947,  0.1834],\n",
       "         [ 0.3087,  0.1902,  0.0860,  ..., -0.1009, -0.0873,  0.2627]]])"
      ]
     },
     "execution_count": 529,
     "metadata": {},
     "output_type": "execute_result"
    }
   ],
   "source": [
    "last_hidden_states[0]"
   ]
  },
  {
   "cell_type": "code",
   "execution_count": 532,
   "id": "dfcb6225-2187-4048-8736-9213e9c509c4",
   "metadata": {},
   "outputs": [
    {
     "data": {
      "text/plain": [
       "((336, 768), (336, 17))"
      ]
     },
     "execution_count": 532,
     "metadata": {},
     "output_type": "execute_result"
    }
   ],
   "source": [
    "features.shape,df_dupak_all.shape"
   ]
  },
  {
   "cell_type": "code",
   "execution_count": 564,
   "id": "d294e923-b570-472c-ae95-cdad14b69b4d",
   "metadata": {},
   "outputs": [],
   "source": [
    "max_txt_len=33\n",
    "def vectorize_by_distilbert(txt_en):\n",
    "    vec=[]\n",
    "#     txt_en=translate_to_en(txt_id)\n",
    "    if not txt_en:\n",
    "        return []\n",
    "    else:\n",
    "        bert_tokens=tokenizer.encode(txt_en, add_special_tokens=True)\n",
    "        padded = np.array([bert_tokens + [0]*(max_txt_len-len(bert_tokens))])\n",
    "        attention_mask = np.where(padded != 0, 1, 0)\n",
    "        input_ids = torch.tensor(padded)\n",
    "        attention_mask = torch.tensor(attention_mask)\n",
    "        with torch.no_grad():\n",
    "            last_hidden_states = model(input_ids, attention_mask=attention_mask)\n",
    "        vec = last_hidden_states[0][:,0,:].numpy()\n",
    "    return vec[0].tolist()\n",
    "\n",
    "# v=vectorize_by_diltilert(\"compile research on big data\")\n",
    "# len(v),v"
   ]
  },
  {
   "cell_type": "code",
   "execution_count": 559,
   "id": "826baa0c-7de0-4a13-afd0-28d2706339b3",
   "metadata": {},
   "outputs": [],
   "source": [
    "# df_dupak_all.drop(\"distilbert_vec\",axis=1,inplace=True)"
   ]
  },
  {
   "cell_type": "code",
   "execution_count": 565,
   "id": "f945f2b6-3125-4196-8578-3495d80254dd",
   "metadata": {},
   "outputs": [
    {
     "name": "stderr",
     "output_type": "stream",
     "text": [
      "100%|██████████| 336/336 [00:12<00:00, 27.12it/s]\n"
     ]
    }
   ],
   "source": [
    "df_dupak_all[\"distilbert_vec\"]=df_dupak_all.activity_en.progress_apply(vectorize_by_distilbert)"
   ]
  },
  {
   "cell_type": "markdown",
   "id": "ad495e3e-4097-414f-9a5d-d695b8525cb7",
   "metadata": {},
   "source": [
    "# save data to csv"
   ]
  },
  {
   "cell_type": "code",
   "execution_count": 566,
   "id": "63d6ce5e-2eec-4123-a640-1a1cdf789aa5",
   "metadata": {},
   "outputs": [],
   "source": [
    "df_dupak_all.to_csv(\"data/dupak_all.csv\",sep=\";\")"
   ]
  },
  {
   "cell_type": "markdown",
   "id": "1afb787a-f521-4fbc-bc75-cefd0800a2f1",
   "metadata": {},
   "source": [
    "# get labels from activity code"
   ]
  },
  {
   "cell_type": "code",
   "execution_count": 567,
   "id": "0e49f866-d8bc-41c3-8a8f-a27e3a9b0c4b",
   "metadata": {},
   "outputs": [
    {
     "data": {
      "text/plain": [
       "['Mahir_I.A.1', 'Mahir_I.B.1', 'Mahir_I.B.2', 'Mahir_I.B.3', 'Mahir_I.B.4']"
      ]
     },
     "execution_count": 567,
     "metadata": {},
     "output_type": "execute_result"
    }
   ],
   "source": [
    "labels = df_dupak_all.activity_code.to_list()\n",
    "labels[:5]"
   ]
  },
  {
   "cell_type": "markdown",
   "id": "d2cf8221-f44f-4319-80c9-54521ea70735",
   "metadata": {},
   "source": [
    "# train KNN on distilbert_vec"
   ]
  },
  {
   "cell_type": "code",
   "execution_count": 568,
   "id": "2c5027f5-8079-416d-bb1c-6dcab42d575b",
   "metadata": {},
   "outputs": [
    {
     "name": "stdout",
     "output_type": "stream",
     "text": [
      "train KNN DONE. Model saved in  model/knn_distilbert.pkl\n",
      "Index saved in  model/knn_index_distilbert.pkl\n"
     ]
    }
   ],
   "source": [
    "knn_model_path_distilbert=\"model/knn_distilbert.pkl\"\n",
    "knn_index_path_distilbert=\"model/knn_index_distilbert.pkl\"\n",
    "knn_distilbert = KNeighborsClassifier()\n",
    "knn_index_distilbert={}\n",
    "vecs_distilbert=df_dupak_all.distilbert_vec.to_list()\n",
    "idxs_distilbert=df_dupak_all.index.to_list()\n",
    "activities=df_dupak_all.activities.to_list()\n",
    "for i,val in enumerate(activities):\n",
    "    knn_index_distilbert[i]=val\n",
    "knn_distilbert.fit(vecs_distilbert, idxs_distilbert)\n",
    "with open(knn_model_path_distilbert,\"wb\") as fi:\n",
    "  pickle.dump(knn_distilbert,fi)\n",
    "  print(\"train KNN DONE. Model saved in \",knn_model_path_distilbert)\n",
    "with open(knn_index_path_distilbert,\"wb\") as fi:\n",
    "  pickle.dump(knn_index_distilbert,fi)\n",
    "  print(\"Index saved in \",knn_index_path_distilbert)"
   ]
  },
  {
   "cell_type": "markdown",
   "id": "8bbe22a1-caa3-4a80-b8e9-c99e9214a877",
   "metadata": {},
   "source": [
    "# try query on distilbert vec"
   ]
  },
  {
   "cell_type": "code",
   "execution_count": 578,
   "id": "097e4a19-5387-4884-8080-f42476fa3dfa",
   "metadata": {},
   "outputs": [
    {
     "name": "stdout",
     "output_type": "stream",
     "text": [
      "Q:membuat kajian big data dan tableau cluster/Create a Big Data and Tableau Cluster study\n",
      "0)Membuat objek multimedia kompleks dengan piranti lunak-->idx:276 distance:2.625206087620338 AK:0.165\n",
      "0) Create a complex multimedia object with software\n",
      "1)Membuat program multimedia kompleks-->idx:278 distance:2.7016133595419967 AK:0.6\n",
      "1) Create a complex multimedia program\n",
      "2)Melakukan peningkatan kinerja database-->idx:172 distance:2.828334303239645 AK:0.11\n",
      "2) Make a database performance improvement\n",
      "3)Menyusun rancangan uji coba sistem jaringan kompleks-->idx:213 distance:2.8662661629596635 AK:0.11\n",
      "3) Compile a complex network system trial design\n",
      "4)Menyusun skenario uji coba sistem informasi-->idx:253 distance:2.879443041713702 AK:0.14\n",
      "4) Compile a trial scenario of information systems\n"
     ]
    }
   ],
   "source": [
    "q=\"membuat kajian big data dan tableau cluster\"\n",
    "q_en=translate_to_en(q)\n",
    "q_vector=vectorize_by_distilbert(q_en)\n",
    "(distances, indices) = knn_distilbert.kneighbors([q_vector],n_neighbors=5)\n",
    "indices = indices.tolist()\n",
    "res=[knn_index_distilbert[x] for x in indices[0]]\n",
    "# print(\"Q:{}\".format(q))\n",
    "print(\"Q:{}/{}\".format(q,q_en))\n",
    "for i,x in enumerate(res):\n",
    "    print(\"{}){}-->idx:{} distance:{} AK:{}\".format(i,x,indices[0][i],\\\n",
    "                                                    distances[0][i],df_dupak_all.loc[indices[0][i],\\\n",
    "                                                                                     [\"ak\"]][0]))\n",
    "    print(\"{}) {}\".format(i, df_dupak_all.loc[indices[0][i],[\"activity_en\"]][0]))"
   ]
  },
  {
   "cell_type": "code",
   "execution_count": 575,
   "id": "c5b83d75-2227-47ab-b944-1949f87f71e5",
   "metadata": {},
   "outputs": [
    {
     "data": {
      "text/plain": [
       "'Compile a network security policy formulation'"
      ]
     },
     "execution_count": 575,
     "metadata": {},
     "output_type": "execute_result"
    }
   ],
   "source": [
    "df_dupak_all.loc[indices[0][i],[\"activity_en\"]][0]"
   ]
  },
  {
   "cell_type": "markdown",
   "id": "56a32b76-1afd-4ada-9e17-8155709ba1f9",
   "metadata": {},
   "source": [
    "# summary: use tfidf wkwkwk!"
   ]
  },
  {
   "cell_type": "markdown",
   "id": "8f493f63-81bf-4a46-8822-fabaeb1cd637",
   "metadata": {},
   "source": [
    "# build the API"
   ]
  },
  {
   "cell_type": "code",
   "execution_count": null,
   "id": "f5c2ede5-0c78-4677-be17-1b3954122d02",
   "metadata": {},
   "outputs": [],
   "source": []
  }
 ],
 "metadata": {
  "kernelspec": {
   "display_name": "Python [conda env:py38] *",
   "language": "python",
   "name": "conda-env-py38-py"
  },
  "language_info": {
   "codemirror_mode": {
    "name": "ipython",
    "version": 3
   },
   "file_extension": ".py",
   "mimetype": "text/x-python",
   "name": "python",
   "nbconvert_exporter": "python",
   "pygments_lexer": "ipython3",
   "version": "3.8.10"
  }
 },
 "nbformat": 4,
 "nbformat_minor": 5
}
